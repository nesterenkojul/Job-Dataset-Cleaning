{
 "cells": [
  {
   "cell_type": "markdown",
   "metadata": {
    "id": "kIHX2GOQPy3k"
   },
   "source": [
    "In this project I'm trying to clean up the raw [US jobs on Monster.com](https://www.kaggle.com/code/ankkur13/perfect-dataset-to-get-the-hands-dirty/data) dataset and preprocess the data in order to prepare it for the future analysis. \n",
    "<br>\n",
    "*Initially, this was an assignment for the Data Vizualization Methods course at ITMO University.*"
   ]
  },
  {
   "cell_type": "markdown",
   "metadata": {
    "id": "SA63ZXNBkUde"
   },
   "source": [
    "# Exploration"
   ]
  },
  {
   "cell_type": "code",
   "execution_count": 4,
   "metadata": {},
   "outputs": [
    {
     "name": "stdout",
     "output_type": "stream",
     "text": [
      "Collecting missingno\n",
      "  Using cached missingno-0.5.2-py3-none-any.whl (8.7 kB)\n",
      "Requirement already satisfied: numpy in /Library/Frameworks/Python.framework/Versions/3.10/lib/python3.10/site-packages (from missingno) (1.22.2)\n",
      "Requirement already satisfied: seaborn in /Library/Frameworks/Python.framework/Versions/3.10/lib/python3.10/site-packages (from missingno) (0.12.2)\n",
      "Requirement already satisfied: matplotlib in /Library/Frameworks/Python.framework/Versions/3.10/lib/python3.10/site-packages (from missingno) (3.5.1)\n",
      "Requirement already satisfied: scipy in /Library/Frameworks/Python.framework/Versions/3.10/lib/python3.10/site-packages (from missingno) (1.8.0)\n",
      "Requirement already satisfied: pillow>=6.2.0 in /Library/Frameworks/Python.framework/Versions/3.10/lib/python3.10/site-packages (from matplotlib->missingno) (9.0.1)\n",
      "Requirement already satisfied: packaging>=20.0 in /Library/Frameworks/Python.framework/Versions/3.10/lib/python3.10/site-packages (from matplotlib->missingno) (21.3)\n",
      "Requirement already satisfied: kiwisolver>=1.0.1 in /Library/Frameworks/Python.framework/Versions/3.10/lib/python3.10/site-packages (from matplotlib->missingno) (1.3.2)\n",
      "Requirement already satisfied: fonttools>=4.22.0 in /Library/Frameworks/Python.framework/Versions/3.10/lib/python3.10/site-packages (from matplotlib->missingno) (4.29.1)\n",
      "Requirement already satisfied: pyparsing>=2.2.1 in /Library/Frameworks/Python.framework/Versions/3.10/lib/python3.10/site-packages (from matplotlib->missingno) (3.0.7)\n",
      "Requirement already satisfied: python-dateutil>=2.7 in /Library/Frameworks/Python.framework/Versions/3.10/lib/python3.10/site-packages (from matplotlib->missingno) (2.8.2)\n",
      "Requirement already satisfied: cycler>=0.10 in /Library/Frameworks/Python.framework/Versions/3.10/lib/python3.10/site-packages (from matplotlib->missingno) (0.11.0)\n",
      "Requirement already satisfied: pandas>=0.25 in /Library/Frameworks/Python.framework/Versions/3.10/lib/python3.10/site-packages (from seaborn->missingno) (1.4.1)\n",
      "Requirement already satisfied: pytz>=2020.1 in /Library/Frameworks/Python.framework/Versions/3.10/lib/python3.10/site-packages (from pandas>=0.25->seaborn->missingno) (2021.3)\n",
      "Requirement already satisfied: six>=1.5 in /Library/Frameworks/Python.framework/Versions/3.10/lib/python3.10/site-packages (from python-dateutil>=2.7->matplotlib->missingno) (1.16.0)\n",
      "Installing collected packages: missingno\n",
      "Successfully installed missingno-0.5.2\n",
      "\n",
      "\u001b[1m[\u001b[0m\u001b[34;49mnotice\u001b[0m\u001b[1;39;49m]\u001b[0m\u001b[39;49m A new release of pip is available: \u001b[0m\u001b[31;49m23.0\u001b[0m\u001b[39;49m -> \u001b[0m\u001b[32;49m23.1.2\u001b[0m\n",
      "\u001b[1m[\u001b[0m\u001b[34;49mnotice\u001b[0m\u001b[1;39;49m]\u001b[0m\u001b[39;49m To update, run: \u001b[0m\u001b[32;49mpip3.10 install --upgrade pip\u001b[0m\n"
     ]
    }
   ],
   "source": [
    "import sys  \n",
    "\n",
    "!{sys.executable} -m pip install --user missingno"
   ]
  },
  {
   "cell_type": "code",
   "execution_count": 5,
   "metadata": {
    "id": "eZIcPcPutJ7k"
   },
   "outputs": [],
   "source": [
    "# handy modules\n",
    "import warnings\n",
    "warnings.filterwarnings(\"ignore\")\n",
    "\n",
    "import re\n",
    "import numpy as np\n",
    "import pandas as pd\n",
    "import missingno as msno\n",
    "from matplotlib import pyplot as plt\n",
    "import seaborn as sns"
   ]
  },
  {
   "cell_type": "markdown",
   "metadata": {
    "id": "h6KmpcvkRLok"
   },
   "source": [
    "Let's take a brief look at the random data sample."
   ]
  },
  {
   "cell_type": "code",
   "execution_count": 6,
   "metadata": {
    "colab": {
     "base_uri": "https://localhost:8080/",
     "height": 780
    },
    "id": "Pg3YapMnEEDH",
    "outputId": "9069d188-9074-49b5-8bc5-71dc6732cd62"
   },
   "outputs": [
    {
     "data": {
      "text/html": [
       "<div>\n",
       "<style scoped>\n",
       "    .dataframe tbody tr th:only-of-type {\n",
       "        vertical-align: middle;\n",
       "    }\n",
       "\n",
       "    .dataframe tbody tr th {\n",
       "        vertical-align: top;\n",
       "    }\n",
       "\n",
       "    .dataframe thead th {\n",
       "        text-align: right;\n",
       "    }\n",
       "</style>\n",
       "<table border=\"1\" class=\"dataframe\">\n",
       "  <thead>\n",
       "    <tr style=\"text-align: right;\">\n",
       "      <th></th>\n",
       "      <th>country</th>\n",
       "      <th>country_code</th>\n",
       "      <th>date_added</th>\n",
       "      <th>has_expired</th>\n",
       "      <th>job_board</th>\n",
       "      <th>job_description</th>\n",
       "      <th>job_title</th>\n",
       "      <th>job_type</th>\n",
       "      <th>location</th>\n",
       "      <th>organization</th>\n",
       "      <th>page_url</th>\n",
       "      <th>salary</th>\n",
       "      <th>sector</th>\n",
       "      <th>uniq_id</th>\n",
       "    </tr>\n",
       "  </thead>\n",
       "  <tbody>\n",
       "    <tr>\n",
       "      <th>6582</th>\n",
       "      <td>United States of America</td>\n",
       "      <td>US</td>\n",
       "      <td>NaN</td>\n",
       "      <td>No</td>\n",
       "      <td>jobs.monster.com</td>\n",
       "      <td>Job Description:Construction Dispatcher/Purcha...</td>\n",
       "      <td>Construction Dispatcher/Purchasing agent neede...</td>\n",
       "      <td>Full Time Employee</td>\n",
       "      <td>Cypress, CA 90630</td>\n",
       "      <td>Other/Not Classified</td>\n",
       "      <td>http://jobview.monster.com/construction-dispat...</td>\n",
       "      <td>NaN</td>\n",
       "      <td>Experienced (Non-Manager)</td>\n",
       "      <td>02ac09074672aff9aa90945919fda402</td>\n",
       "    </tr>\n",
       "    <tr>\n",
       "      <th>367</th>\n",
       "      <td>United States of America</td>\n",
       "      <td>US</td>\n",
       "      <td>NaN</td>\n",
       "      <td>No</td>\n",
       "      <td>jobs.monster.com</td>\n",
       "      <td>Advance Enterprise Inc. is currently hiring ca...</td>\n",
       "      <td>Entry Level Management-*Paid Training* Job in ...</td>\n",
       "      <td>Full Time Employee</td>\n",
       "      <td>San Diego, CA 92121</td>\n",
       "      <td>RetailManagement Consulting ServicesOther/Not ...</td>\n",
       "      <td>http://jobview.monster.com/entry-level-managem...</td>\n",
       "      <td>NaN</td>\n",
       "      <td>Business/Strategic Management</td>\n",
       "      <td>ddcad1c2f24b14df09ab275f62f5813a</td>\n",
       "    </tr>\n",
       "    <tr>\n",
       "      <th>5504</th>\n",
       "      <td>United States of America</td>\n",
       "      <td>US</td>\n",
       "      <td>NaN</td>\n",
       "      <td>No</td>\n",
       "      <td>jobs.monster.com</td>\n",
       "      <td>Industry-Leading High Fashion House Seeking an...</td>\n",
       "      <td>Entry-Level Paralegal Job in New York</td>\n",
       "      <td>Full Time , Employee</td>\n",
       "      <td>New York, NY</td>\n",
       "      <td>NaN</td>\n",
       "      <td>http://jobview.monster.com/Entry-Level-Paraleg...</td>\n",
       "      <td>1.00 - 1,000,000.00 $ /year</td>\n",
       "      <td>NaN</td>\n",
       "      <td>6ba3d5f4f72d5ddc134fc11b3bf76c7f</td>\n",
       "    </tr>\n",
       "    <tr>\n",
       "      <th>10819</th>\n",
       "      <td>United States of America</td>\n",
       "      <td>US</td>\n",
       "      <td>NaN</td>\n",
       "      <td>No</td>\n",
       "      <td>jobs.monster.com</td>\n",
       "      <td>Job Description:Assistant Controller. Well est...</td>\n",
       "      <td>$ K Assistant Controller Job in Salt Lake City</td>\n",
       "      <td>Full Time</td>\n",
       "      <td>Salt Lake City, UT 84119</td>\n",
       "      <td>Other/Not Classified</td>\n",
       "      <td>http://jobview.monster.com/45K-Assistant-Contr...</td>\n",
       "      <td>Up to $45000.00</td>\n",
       "      <td>Experienced (Non-Manager)</td>\n",
       "      <td>1501129d38d4c00217bd6741fee7b47a</td>\n",
       "    </tr>\n",
       "    <tr>\n",
       "      <th>11024</th>\n",
       "      <td>United States of America</td>\n",
       "      <td>US</td>\n",
       "      <td>NaN</td>\n",
       "      <td>No</td>\n",
       "      <td>jobs.monster.com</td>\n",
       "      <td>This position is to serve as a Wind Tunnel Ins...</td>\n",
       "      <td>Instrumentation Engineer Job in Mountain View</td>\n",
       "      <td>NaN</td>\n",
       "      <td>Location:</td>\n",
       "      <td>NaN</td>\n",
       "      <td>http://jobview.monster.com/instrumentation-eng...</td>\n",
       "      <td>NaN</td>\n",
       "      <td>NaN</td>\n",
       "      <td>f946c1e47d0f80138caf42c669efd4ee</td>\n",
       "    </tr>\n",
       "    <tr>\n",
       "      <th>16582</th>\n",
       "      <td>United States of America</td>\n",
       "      <td>US</td>\n",
       "      <td>NaN</td>\n",
       "      <td>No</td>\n",
       "      <td>jobs.monster.com</td>\n",
       "      <td>Job Overview:The Asset Protection / Loss Preve...</td>\n",
       "      <td>Asset Protection / Loss Prevention Detective</td>\n",
       "      <td>Full Time Employee</td>\n",
       "      <td>Columbus, OH</td>\n",
       "      <td>NaN</td>\n",
       "      <td>http://jobview.monster.com/asset-protection-lo...</td>\n",
       "      <td>NaN</td>\n",
       "      <td>Security/Protective Services</td>\n",
       "      <td>0cc991ceabebf9035192e9716132fc50</td>\n",
       "    </tr>\n",
       "    <tr>\n",
       "      <th>13268</th>\n",
       "      <td>United States of America</td>\n",
       "      <td>US</td>\n",
       "      <td>NaN</td>\n",
       "      <td>No</td>\n",
       "      <td>jobs.monster.com</td>\n",
       "      <td>Job DescriptionAbsolute Adjusting, LLC is a gr...</td>\n",
       "      <td>Insurance Claims Adjuster and Auto Appraiser J...</td>\n",
       "      <td>Full Time</td>\n",
       "      <td>Thief River Falls, MN 56701</td>\n",
       "      <td>Insurance</td>\n",
       "      <td>http://jobview.monster.com/Insurance-Claims-Ad...</td>\n",
       "      <td>40,000.00 - 65,000.00 $ /yearRetirement, Healt...</td>\n",
       "      <td>Entry Level</td>\n",
       "      <td>5ef02bba9398ef9c6c18729a6efc424b</td>\n",
       "    </tr>\n",
       "    <tr>\n",
       "      <th>21250</th>\n",
       "      <td>United States of America</td>\n",
       "      <td>US</td>\n",
       "      <td>NaN</td>\n",
       "      <td>No</td>\n",
       "      <td>jobs.monster.com</td>\n",
       "      <td>Randstad Professionals is working with our cli...</td>\n",
       "      <td>Accounting Assoicate Job in Philadelphia  body...</td>\n",
       "      <td>Full Time Temporary/Contract/Project</td>\n",
       "      <td>Philadelphia 19102</td>\n",
       "      <td>Accounting and Auditing Services</td>\n",
       "      <td>http://jobview.monster.com/Accounting-Assoicat...</td>\n",
       "      <td>NaN</td>\n",
       "      <td>Human Resources</td>\n",
       "      <td>a56f3408b542763beac19f40e5835639</td>\n",
       "    </tr>\n",
       "    <tr>\n",
       "      <th>2036</th>\n",
       "      <td>United States of America</td>\n",
       "      <td>US</td>\n",
       "      <td>NaN</td>\n",
       "      <td>No</td>\n",
       "      <td>jobs.monster.com</td>\n",
       "      <td>MarketPro has partnered with a leading Atlanta...</td>\n",
       "      <td>Media Relations Manager Job in Atlanta</td>\n",
       "      <td>Full Time</td>\n",
       "      <td>Atlanta, GA 30309</td>\n",
       "      <td>NaN</td>\n",
       "      <td>http://jobview.monster.com/media-relations-man...</td>\n",
       "      <td>NaN</td>\n",
       "      <td>Experienced (Non-Manager)</td>\n",
       "      <td>18c409e2ba3a234e3ca5d5a41afecb89</td>\n",
       "    </tr>\n",
       "    <tr>\n",
       "      <th>7357</th>\n",
       "      <td>United States of America</td>\n",
       "      <td>US</td>\n",
       "      <td>NaN</td>\n",
       "      <td>No</td>\n",
       "      <td>jobs.monster.com</td>\n",
       "      <td>Judge Healthcare is actively looking for a Dia...</td>\n",
       "      <td>Dialysis RN Job in Buckhead</td>\n",
       "      <td>Full Time, Employee</td>\n",
       "      <td>Buckhead, GA</td>\n",
       "      <td>Healthcare Services</td>\n",
       "      <td>http://jobview.monster.com/dialysis-rn-job-buc...</td>\n",
       "      <td>NaN</td>\n",
       "      <td>Medical/Health</td>\n",
       "      <td>fc7aeb383aba6a0a01cff82d75ec897d</td>\n",
       "    </tr>\n",
       "  </tbody>\n",
       "</table>\n",
       "</div>"
      ],
      "text/plain": [
       "                        country country_code date_added has_expired  \\\n",
       "6582   United States of America           US        NaN          No   \n",
       "367    United States of America           US        NaN          No   \n",
       "5504   United States of America           US        NaN          No   \n",
       "10819  United States of America           US        NaN          No   \n",
       "11024  United States of America           US        NaN          No   \n",
       "16582  United States of America           US        NaN          No   \n",
       "13268  United States of America           US        NaN          No   \n",
       "21250  United States of America           US        NaN          No   \n",
       "2036   United States of America           US        NaN          No   \n",
       "7357   United States of America           US        NaN          No   \n",
       "\n",
       "              job_board                                    job_description  \\\n",
       "6582   jobs.monster.com  Job Description:Construction Dispatcher/Purcha...   \n",
       "367    jobs.monster.com  Advance Enterprise Inc. is currently hiring ca...   \n",
       "5504   jobs.monster.com  Industry-Leading High Fashion House Seeking an...   \n",
       "10819  jobs.monster.com  Job Description:Assistant Controller. Well est...   \n",
       "11024  jobs.monster.com  This position is to serve as a Wind Tunnel Ins...   \n",
       "16582  jobs.monster.com  Job Overview:The Asset Protection / Loss Preve...   \n",
       "13268  jobs.monster.com  Job DescriptionAbsolute Adjusting, LLC is a gr...   \n",
       "21250  jobs.monster.com  Randstad Professionals is working with our cli...   \n",
       "2036   jobs.monster.com  MarketPro has partnered with a leading Atlanta...   \n",
       "7357   jobs.monster.com  Judge Healthcare is actively looking for a Dia...   \n",
       "\n",
       "                                               job_title  \\\n",
       "6582   Construction Dispatcher/Purchasing agent neede...   \n",
       "367    Entry Level Management-*Paid Training* Job in ...   \n",
       "5504               Entry-Level Paralegal Job in New York   \n",
       "10819     $ K Assistant Controller Job in Salt Lake City   \n",
       "11024      Instrumentation Engineer Job in Mountain View   \n",
       "16582       Asset Protection / Loss Prevention Detective   \n",
       "13268  Insurance Claims Adjuster and Auto Appraiser J...   \n",
       "21250  Accounting Assoicate Job in Philadelphia  body...   \n",
       "2036              Media Relations Manager Job in Atlanta   \n",
       "7357                         Dialysis RN Job in Buckhead   \n",
       "\n",
       "                                   job_type                     location  \\\n",
       "6582                     Full Time Employee            Cypress, CA 90630   \n",
       "367                      Full Time Employee          San Diego, CA 92121   \n",
       "5504                   Full Time , Employee                 New York, NY   \n",
       "10819                             Full Time     Salt Lake City, UT 84119   \n",
       "11024                                   NaN                    Location:   \n",
       "16582                    Full Time Employee                 Columbus, OH   \n",
       "13268                             Full Time  Thief River Falls, MN 56701   \n",
       "21250  Full Time Temporary/Contract/Project           Philadelphia 19102   \n",
       "2036                              Full Time            Atlanta, GA 30309   \n",
       "7357                    Full Time, Employee                 Buckhead, GA   \n",
       "\n",
       "                                            organization  \\\n",
       "6582                                Other/Not Classified   \n",
       "367    RetailManagement Consulting ServicesOther/Not ...   \n",
       "5504                                                 NaN   \n",
       "10819                               Other/Not Classified   \n",
       "11024                                                NaN   \n",
       "16582                                                NaN   \n",
       "13268                                          Insurance   \n",
       "21250                   Accounting and Auditing Services   \n",
       "2036                                                 NaN   \n",
       "7357                                 Healthcare Services   \n",
       "\n",
       "                                                page_url  \\\n",
       "6582   http://jobview.monster.com/construction-dispat...   \n",
       "367    http://jobview.monster.com/entry-level-managem...   \n",
       "5504   http://jobview.monster.com/Entry-Level-Paraleg...   \n",
       "10819  http://jobview.monster.com/45K-Assistant-Contr...   \n",
       "11024  http://jobview.monster.com/instrumentation-eng...   \n",
       "16582  http://jobview.monster.com/asset-protection-lo...   \n",
       "13268  http://jobview.monster.com/Insurance-Claims-Ad...   \n",
       "21250  http://jobview.monster.com/Accounting-Assoicat...   \n",
       "2036   http://jobview.monster.com/media-relations-man...   \n",
       "7357   http://jobview.monster.com/dialysis-rn-job-buc...   \n",
       "\n",
       "                                                  salary  \\\n",
       "6582                                                 NaN   \n",
       "367                                                  NaN   \n",
       "5504                         1.00 - 1,000,000.00 $ /year   \n",
       "10819                                    Up to $45000.00   \n",
       "11024                                                NaN   \n",
       "16582                                                NaN   \n",
       "13268  40,000.00 - 65,000.00 $ /yearRetirement, Healt...   \n",
       "21250                                                NaN   \n",
       "2036                                                 NaN   \n",
       "7357                                                 NaN   \n",
       "\n",
       "                              sector                           uniq_id  \n",
       "6582       Experienced (Non-Manager)  02ac09074672aff9aa90945919fda402  \n",
       "367    Business/Strategic Management  ddcad1c2f24b14df09ab275f62f5813a  \n",
       "5504                             NaN  6ba3d5f4f72d5ddc134fc11b3bf76c7f  \n",
       "10819      Experienced (Non-Manager)  1501129d38d4c00217bd6741fee7b47a  \n",
       "11024                            NaN  f946c1e47d0f80138caf42c669efd4ee  \n",
       "16582   Security/Protective Services  0cc991ceabebf9035192e9716132fc50  \n",
       "13268                    Entry Level  5ef02bba9398ef9c6c18729a6efc424b  \n",
       "21250                Human Resources  a56f3408b542763beac19f40e5835639  \n",
       "2036       Experienced (Non-Manager)  18c409e2ba3a234e3ca5d5a41afecb89  \n",
       "7357                  Medical/Health  fc7aeb383aba6a0a01cff82d75ec897d  "
      ]
     },
     "execution_count": 6,
     "metadata": {},
     "output_type": "execute_result"
    }
   ],
   "source": [
    "data = pd.read_csv(\"monster_com-job_sample.csv\")\n",
    "data.sample(10)"
   ]
  },
  {
   "cell_type": "markdown",
   "metadata": {
    "id": "YLByumEvRyO2"
   },
   "source": [
    "Here is my \"table of contents\" for this dataset:\n",
    "<br>\n",
    "a short description of columns + possible problems I see from the first glance."
   ]
  },
  {
   "cell_type": "code",
   "execution_count": 7,
   "metadata": {
    "colab": {
     "base_uri": "https://localhost:8080/",
     "height": 483
    },
    "id": "QDJZLS3HvZqo",
    "outputId": "7e33dcee-3c5c-479d-aaad-68f4f0fee3ee"
   },
   "outputs": [
    {
     "data": {
      "text/html": [
       "<div>\n",
       "<style scoped>\n",
       "    .dataframe tbody tr th:only-of-type {\n",
       "        vertical-align: middle;\n",
       "    }\n",
       "\n",
       "    .dataframe tbody tr th {\n",
       "        vertical-align: top;\n",
       "    }\n",
       "\n",
       "    .dataframe thead th {\n",
       "        text-align: right;\n",
       "    }\n",
       "</style>\n",
       "<table border=\"1\" class=\"dataframe\">\n",
       "  <thead>\n",
       "    <tr style=\"text-align: right;\">\n",
       "      <th></th>\n",
       "      <th>column_name</th>\n",
       "      <th>description</th>\n",
       "      <th>problems</th>\n",
       "    </tr>\n",
       "  </thead>\n",
       "  <tbody>\n",
       "    <tr>\n",
       "      <th>0</th>\n",
       "      <td>country</td>\n",
       "      <td>Full country name</td>\n",
       "      <td>Nothing except 'United States of America'</td>\n",
       "    </tr>\n",
       "    <tr>\n",
       "      <th>1</th>\n",
       "      <td>country_code</td>\n",
       "      <td>Country code (2-letter?)</td>\n",
       "      <td>Nothing except 'US'. Looks like an excessive d...</td>\n",
       "    </tr>\n",
       "    <tr>\n",
       "      <th>2</th>\n",
       "      <td>date_added</td>\n",
       "      <td>Date of job listing publication</td>\n",
       "      <td>Data is primarily missing.</td>\n",
       "    </tr>\n",
       "    <tr>\n",
       "      <th>3</th>\n",
       "      <td>has_expired</td>\n",
       "      <td>Expiration status (Yes/No)</td>\n",
       "      <td>Nothing except 'No'</td>\n",
       "    </tr>\n",
       "    <tr>\n",
       "      <th>4</th>\n",
       "      <td>job_board</td>\n",
       "      <td>Job board where job listing was published</td>\n",
       "      <td>Nothing except 'jobs.monster.com'</td>\n",
       "    </tr>\n",
       "    <tr>\n",
       "      <th>5</th>\n",
       "      <td>job_description</td>\n",
       "      <td>Job description (text field)</td>\n",
       "      <td>No uniform description format. Values are larg...</td>\n",
       "    </tr>\n",
       "    <tr>\n",
       "      <th>6</th>\n",
       "      <td>job_title</td>\n",
       "      <td>Job title</td>\n",
       "      <td>Titles include a lot of data, that is supposed...</td>\n",
       "    </tr>\n",
       "    <tr>\n",
       "      <th>7</th>\n",
       "      <td>job_type</td>\n",
       "      <td>Employment type + skill level</td>\n",
       "      <td>Schedule type (Full Time/Part Time) and employ...</td>\n",
       "    </tr>\n",
       "    <tr>\n",
       "      <th>8</th>\n",
       "      <td>location</td>\n",
       "      <td>Location of the job</td>\n",
       "      <td>A lot of irrelevant data. Not all records are ...</td>\n",
       "    </tr>\n",
       "    <tr>\n",
       "      <th>9</th>\n",
       "      <td>organization</td>\n",
       "      <td>Sector company operates in</td>\n",
       "      <td>Many missing values</td>\n",
       "    </tr>\n",
       "    <tr>\n",
       "      <th>10</th>\n",
       "      <td>page_url</td>\n",
       "      <td>Link to the posting</td>\n",
       "      <td>half of the URL is the same for all links, whi...</td>\n",
       "    </tr>\n",
       "    <tr>\n",
       "      <th>11</th>\n",
       "      <td>salary</td>\n",
       "      <td>Salary in $USD</td>\n",
       "      <td>A lot of NaNs. Different time periods (hour/ye...</td>\n",
       "    </tr>\n",
       "    <tr>\n",
       "      <th>12</th>\n",
       "      <td>sector</td>\n",
       "      <td>Sector the job is in</td>\n",
       "      <td>Considerable amount of missing values</td>\n",
       "    </tr>\n",
       "    <tr>\n",
       "      <th>13</th>\n",
       "      <td>uniq_id</td>\n",
       "      <td>Unique id</td>\n",
       "      <td>-</td>\n",
       "    </tr>\n",
       "  </tbody>\n",
       "</table>\n",
       "</div>"
      ],
      "text/plain": [
       "        column_name                                description  \\\n",
       "0           country                          Full country name   \n",
       "1      country_code                   Country code (2-letter?)   \n",
       "2        date_added            Date of job listing publication   \n",
       "3       has_expired                 Expiration status (Yes/No)   \n",
       "4         job_board  Job board where job listing was published   \n",
       "5   job_description               Job description (text field)   \n",
       "6         job_title                                  Job title   \n",
       "7          job_type              Employment type + skill level   \n",
       "8          location                        Location of the job   \n",
       "9      organization                 Sector company operates in   \n",
       "10         page_url                        Link to the posting   \n",
       "11           salary                             Salary in $USD   \n",
       "12           sector                       Sector the job is in   \n",
       "13          uniq_id                                  Unique id   \n",
       "\n",
       "                                             problems  \n",
       "0           Nothing except 'United States of America'  \n",
       "1   Nothing except 'US'. Looks like an excessive d...  \n",
       "2                          Data is primarily missing.  \n",
       "3                                 Nothing except 'No'  \n",
       "4                   Nothing except 'jobs.monster.com'  \n",
       "5   No uniform description format. Values are larg...  \n",
       "6   Titles include a lot of data, that is supposed...  \n",
       "7   Schedule type (Full Time/Part Time) and employ...  \n",
       "8   A lot of irrelevant data. Not all records are ...  \n",
       "9                                 Many missing values  \n",
       "10  half of the URL is the same for all links, whi...  \n",
       "11  A lot of NaNs. Different time periods (hour/ye...  \n",
       "12              Considerable amount of missing values  \n",
       "13                                                  -  "
      ]
     },
     "execution_count": 7,
     "metadata": {},
     "output_type": "execute_result"
    }
   ],
   "source": [
    "description = ['Full country name', 'Country code (2-letter?)', 'Date of job listing publication', 'Expiration status (Yes/No)', \n",
    "               'Job board where job listing was published', 'Job description (text field)', 'Job title', 'Employment type + skill level', \n",
    "               'Location of the job', 'Sector company operates in', 'Link to the posting', 'Salary in $USD', 'Sector the job is in', 'Unique id']\n",
    "problems = [\"Nothing except 'United States of America'\", \n",
    "            \"Nothing except 'US'. Looks like an excessive duplication of country information\", \n",
    "            'Data is primarily missing.', \n",
    "            \"Nothing except 'No'\", \n",
    "            \"Nothing except 'jobs.monster.com'\", \n",
    "            'No uniform description format. Values are large cluttered texts', \n",
    "            'Titles include a lot of data, that is supposed to be in other columns (e.g. location, job_type, sector)', \n",
    "            'Schedule type (Full Time/Part Time) and employment type (Employee/Temporary/Contract/Project) are mixed. Varied formatting', \n",
    "            'A lot of irrelevant data. Not all records are a full city + state + index combo', \n",
    "            'Many missing values', 'half of the URL is the same for all links, which seems excessive.', \n",
    "            'A lot of NaNs. Different time periods (hour/year). Sometimes thousands are missed.', \n",
    "            'Considerable amount of missing values', '-']\n",
    "\n",
    "description_df = pd.DataFrame({'column_name': data.columns, 'description': description, 'problems': problems})\n",
    "\n",
    "description_df"
   ]
  },
  {
   "cell_type": "markdown",
   "metadata": {
    "id": "iUV-fNE6Js4w"
   },
   "source": [
    "## Missing values"
   ]
  },
  {
   "cell_type": "markdown",
   "metadata": {
    "id": "qMPChGv8SO2a"
   },
   "source": [
    "Let's see how many NaNs each column has."
   ]
  },
  {
   "cell_type": "code",
   "execution_count": 8,
   "metadata": {
    "colab": {
     "base_uri": "https://localhost:8080/",
     "height": 483
    },
    "id": "6JEaeMgZPCVk",
    "outputId": "65611fcf-8e62-4f04-ef56-157232f130ab"
   },
   "outputs": [
    {
     "data": {
      "text/html": [
       "<div>\n",
       "<style scoped>\n",
       "    .dataframe tbody tr th:only-of-type {\n",
       "        vertical-align: middle;\n",
       "    }\n",
       "\n",
       "    .dataframe tbody tr th {\n",
       "        vertical-align: top;\n",
       "    }\n",
       "\n",
       "    .dataframe thead th {\n",
       "        text-align: right;\n",
       "    }\n",
       "</style>\n",
       "<table border=\"1\" class=\"dataframe\">\n",
       "  <thead>\n",
       "    <tr style=\"text-align: right;\">\n",
       "      <th></th>\n",
       "      <th>NaN_count</th>\n",
       "      <th>NaN_%</th>\n",
       "    </tr>\n",
       "  </thead>\n",
       "  <tbody>\n",
       "    <tr>\n",
       "      <th>country</th>\n",
       "      <td>0</td>\n",
       "      <td>0.0</td>\n",
       "    </tr>\n",
       "    <tr>\n",
       "      <th>country_code</th>\n",
       "      <td>0</td>\n",
       "      <td>0.0</td>\n",
       "    </tr>\n",
       "    <tr>\n",
       "      <th>date_added</th>\n",
       "      <td>21878</td>\n",
       "      <td>99.4</td>\n",
       "    </tr>\n",
       "    <tr>\n",
       "      <th>has_expired</th>\n",
       "      <td>0</td>\n",
       "      <td>0.0</td>\n",
       "    </tr>\n",
       "    <tr>\n",
       "      <th>job_board</th>\n",
       "      <td>0</td>\n",
       "      <td>0.0</td>\n",
       "    </tr>\n",
       "    <tr>\n",
       "      <th>job_description</th>\n",
       "      <td>0</td>\n",
       "      <td>0.0</td>\n",
       "    </tr>\n",
       "    <tr>\n",
       "      <th>job_title</th>\n",
       "      <td>0</td>\n",
       "      <td>0.0</td>\n",
       "    </tr>\n",
       "    <tr>\n",
       "      <th>job_type</th>\n",
       "      <td>1628</td>\n",
       "      <td>7.4</td>\n",
       "    </tr>\n",
       "    <tr>\n",
       "      <th>location</th>\n",
       "      <td>0</td>\n",
       "      <td>0.0</td>\n",
       "    </tr>\n",
       "    <tr>\n",
       "      <th>organization</th>\n",
       "      <td>6867</td>\n",
       "      <td>31.2</td>\n",
       "    </tr>\n",
       "    <tr>\n",
       "      <th>page_url</th>\n",
       "      <td>0</td>\n",
       "      <td>0.0</td>\n",
       "    </tr>\n",
       "    <tr>\n",
       "      <th>salary</th>\n",
       "      <td>18554</td>\n",
       "      <td>84.3</td>\n",
       "    </tr>\n",
       "    <tr>\n",
       "      <th>sector</th>\n",
       "      <td>5194</td>\n",
       "      <td>23.6</td>\n",
       "    </tr>\n",
       "    <tr>\n",
       "      <th>uniq_id</th>\n",
       "      <td>0</td>\n",
       "      <td>0.0</td>\n",
       "    </tr>\n",
       "  </tbody>\n",
       "</table>\n",
       "</div>"
      ],
      "text/plain": [
       "                 NaN_count  NaN_%\n",
       "country                  0    0.0\n",
       "country_code             0    0.0\n",
       "date_added           21878   99.4\n",
       "has_expired              0    0.0\n",
       "job_board                0    0.0\n",
       "job_description          0    0.0\n",
       "job_title                0    0.0\n",
       "job_type              1628    7.4\n",
       "location                 0    0.0\n",
       "organization          6867   31.2\n",
       "page_url                 0    0.0\n",
       "salary               18554   84.3\n",
       "sector                5194   23.6\n",
       "uniq_id                  0    0.0"
      ]
     },
     "execution_count": 8,
     "metadata": {},
     "output_type": "execute_result"
    }
   ],
   "source": [
    "data_nans_count = pd.DataFrame(data.isna().sum(), columns=['NaN_count'])\n",
    "data_nans_count['NaN_%'] = data_nans_count['NaN_count'].apply(lambda x: round(x / data.shape[0] * 100, 1))\n",
    "data_nans_count"
   ]
  },
  {
   "cell_type": "code",
   "execution_count": 9,
   "metadata": {
    "colab": {
     "base_uri": "https://localhost:8080/",
     "height": 599
    },
    "id": "D0dHrjUYHl9f",
    "outputId": "2988506c-8cb7-47fe-e470-dc3cb8384ce0"
   },
   "outputs": [
    {
     "data": {
      "image/png": "[encoded data removed]",
      "text/plain": [
       "<Figure size 1800x720 with 3 Axes>"
      ]
     },
     "metadata": {
      "needs_background": "light"
     },
     "output_type": "display_data"
    }
   ],
   "source": [
    "msno.bar(data, color=\"olive\");"
   ]
  },
  {
   "cell_type": "markdown",
   "metadata": {
    "id": "LINneGA5NyiD"
   },
   "source": [
    "First things first, the **date_added** column is almost empty. **salary** column also primarily consists of missing values. Many gaps are in columns **organization**, **sector**, **job_type**. Other columns are filled to the brim."
   ]
  },
  {
   "cell_type": "markdown",
   "metadata": {
    "id": "7_wex_yPS2t_"
   },
   "source": [
    "Question: What will happen if we drop all rows that contain missing values?"
   ]
  },
  {
   "cell_type": "code",
   "execution_count": 10,
   "metadata": {
    "colab": {
     "base_uri": "https://localhost:8080/",
     "height": 574
    },
    "id": "H2anBRV8NezM",
    "outputId": "48708206-ee8b-4366-92f5-5350e8955936"
   },
   "outputs": [
    {
     "data": {
      "text/html": [
       "<div>\n",
       "<style scoped>\n",
       "    .dataframe tbody tr th:only-of-type {\n",
       "        vertical-align: middle;\n",
       "    }\n",
       "\n",
       "    .dataframe tbody tr th {\n",
       "        vertical-align: top;\n",
       "    }\n",
       "\n",
       "    .dataframe thead th {\n",
       "        text-align: right;\n",
       "    }\n",
       "</style>\n",
       "<table border=\"1\" class=\"dataframe\">\n",
       "  <thead>\n",
       "    <tr style=\"text-align: right;\">\n",
       "      <th></th>\n",
       "      <th>country</th>\n",
       "      <th>country_code</th>\n",
       "      <th>date_added</th>\n",
       "      <th>has_expired</th>\n",
       "      <th>job_board</th>\n",
       "      <th>job_description</th>\n",
       "      <th>job_title</th>\n",
       "      <th>job_type</th>\n",
       "      <th>location</th>\n",
       "      <th>organization</th>\n",
       "      <th>page_url</th>\n",
       "      <th>salary</th>\n",
       "      <th>sector</th>\n",
       "      <th>uniq_id</th>\n",
       "    </tr>\n",
       "  </thead>\n",
       "  <tbody>\n",
       "    <tr>\n",
       "      <th>279</th>\n",
       "      <td>United States of America</td>\n",
       "      <td>US</td>\n",
       "      <td>6/10/2016</td>\n",
       "      <td>No</td>\n",
       "      <td>jobs.monster.com</td>\n",
       "      <td>At American Family Insurance, we're firmly com...</td>\n",
       "      <td>Insurance Sales - Customer Service Job in Eden...</td>\n",
       "      <td>Full Time Employee</td>\n",
       "      <td>Eden Prairie, MN 55344</td>\n",
       "      <td>Insurance</td>\n",
       "      <td>http://jobview.monster.com/insurance-sales-cus...</td>\n",
       "      <td>15.00 - 21.00 $ /hour</td>\n",
       "      <td>Accounting/Finance/Insurance</td>\n",
       "      <td>64a597e5dd17740aadf4b0e8047b51a5</td>\n",
       "    </tr>\n",
       "    <tr>\n",
       "      <th>7419</th>\n",
       "      <td>United States of America</td>\n",
       "      <td>US</td>\n",
       "      <td>4/27/2016</td>\n",
       "      <td>No</td>\n",
       "      <td>jobs.monster.com</td>\n",
       "      <td>A CUSTOMER SERVICE JOB … that might become a c...</td>\n",
       "      <td>Customer Service Representative Job in Las Vegas</td>\n",
       "      <td>Full Time Employee</td>\n",
       "      <td>Las Vegas, NV 89129</td>\n",
       "      <td>Business Services - Other</td>\n",
       "      <td>http://jobview.local-jobs.monster.com/Customer...</td>\n",
       "      <td>$10.50+ /hour</td>\n",
       "      <td>Customer Support/Client Care</td>\n",
       "      <td>7baad80eae733c2518f0a500609c1e90</td>\n",
       "    </tr>\n",
       "    <tr>\n",
       "      <th>17048</th>\n",
       "      <td>United States of America</td>\n",
       "      <td>US</td>\n",
       "      <td>8/5/2016</td>\n",
       "      <td>No</td>\n",
       "      <td>jobs.monster.com</td>\n",
       "      <td>At American Family Insurance, we're firmly com...</td>\n",
       "      <td>Licensed Insurance Sales Assistant (Customer S...</td>\n",
       "      <td>Full Time Employee</td>\n",
       "      <td>Covington, GA</td>\n",
       "      <td>Insurance</td>\n",
       "      <td>http://jobview.monster.com/licensed-insurance-...</td>\n",
       "      <td>$10.50+ /hour</td>\n",
       "      <td>Sales/Retail/Business Development</td>\n",
       "      <td>c486cae7c4c1105a85e50448fb9c0dd0</td>\n",
       "    </tr>\n",
       "    <tr>\n",
       "      <th>17052</th>\n",
       "      <td>United States of America</td>\n",
       "      <td>US</td>\n",
       "      <td>8/2/2016</td>\n",
       "      <td>No</td>\n",
       "      <td>jobs.monster.com</td>\n",
       "      <td>At American Family Insurance, we're firmly com...</td>\n",
       "      <td>Customer Service Agent / Insurance Sales Assis...</td>\n",
       "      <td>Full Time Employee</td>\n",
       "      <td>Alpharetta, GA 30009</td>\n",
       "      <td>Insurance</td>\n",
       "      <td>http://jobview.monster.com/customer-service-ag...</td>\n",
       "      <td>11.00 - 15.00 $ /hour</td>\n",
       "      <td>Sales/Retail/Business Development</td>\n",
       "      <td>6ddfdf91eb991d9d31f3cd2ee4492eb9</td>\n",
       "    </tr>\n",
       "    <tr>\n",
       "      <th>18709</th>\n",
       "      <td>United States of America</td>\n",
       "      <td>US</td>\n",
       "      <td>3/11/2016</td>\n",
       "      <td>No</td>\n",
       "      <td>jobs.monster.com</td>\n",
       "      <td>There's No Place Like The Neighborhood!It's a ...</td>\n",
       "      <td>Restaurant Manager - Applebee's Parsippany</td>\n",
       "      <td>Full Time, Employee</td>\n",
       "      <td>Parsippany, NJ 07054</td>\n",
       "      <td>Restaurant/Food Services</td>\n",
       "      <td>http://jobview.monster.com/Restaurant-Manager-...</td>\n",
       "      <td>50.00 - 65.00 $ /year</td>\n",
       "      <td>Food Services/Hospitality</td>\n",
       "      <td>4fb8c68e3b6efcec902801a96f2cb004</td>\n",
       "    </tr>\n",
       "  </tbody>\n",
       "</table>\n",
       "</div>"
      ],
      "text/plain": [
       "                        country country_code date_added has_expired  \\\n",
       "279    United States of America           US  6/10/2016          No   \n",
       "7419   United States of America           US  4/27/2016          No   \n",
       "17048  United States of America           US   8/5/2016          No   \n",
       "17052  United States of America           US   8/2/2016          No   \n",
       "18709  United States of America           US  3/11/2016          No   \n",
       "\n",
       "              job_board                                    job_description  \\\n",
       "279    jobs.monster.com  At American Family Insurance, we're firmly com...   \n",
       "7419   jobs.monster.com  A CUSTOMER SERVICE JOB … that might become a c...   \n",
       "17048  jobs.monster.com  At American Family Insurance, we're firmly com...   \n",
       "17052  jobs.monster.com  At American Family Insurance, we're firmly com...   \n",
       "18709  jobs.monster.com  There's No Place Like The Neighborhood!It's a ...   \n",
       "\n",
       "                                               job_title             job_type  \\\n",
       "279    Insurance Sales - Customer Service Job in Eden...   Full Time Employee   \n",
       "7419    Customer Service Representative Job in Las Vegas   Full Time Employee   \n",
       "17048  Licensed Insurance Sales Assistant (Customer S...   Full Time Employee   \n",
       "17052  Customer Service Agent / Insurance Sales Assis...   Full Time Employee   \n",
       "18709         Restaurant Manager - Applebee's Parsippany  Full Time, Employee   \n",
       "\n",
       "                     location               organization  \\\n",
       "279    Eden Prairie, MN 55344                  Insurance   \n",
       "7419      Las Vegas, NV 89129  Business Services - Other   \n",
       "17048           Covington, GA                  Insurance   \n",
       "17052    Alpharetta, GA 30009                  Insurance   \n",
       "18709    Parsippany, NJ 07054   Restaurant/Food Services   \n",
       "\n",
       "                                                page_url  \\\n",
       "279    http://jobview.monster.com/insurance-sales-cus...   \n",
       "7419   http://jobview.local-jobs.monster.com/Customer...   \n",
       "17048  http://jobview.monster.com/licensed-insurance-...   \n",
       "17052  http://jobview.monster.com/customer-service-ag...   \n",
       "18709  http://jobview.monster.com/Restaurant-Manager-...   \n",
       "\n",
       "                      salary                             sector  \\\n",
       "279    15.00 - 21.00 $ /hour       Accounting/Finance/Insurance   \n",
       "7419           $10.50+ /hour       Customer Support/Client Care   \n",
       "17048          $10.50+ /hour  Sales/Retail/Business Development   \n",
       "17052  11.00 - 15.00 $ /hour  Sales/Retail/Business Development   \n",
       "18709  50.00 - 65.00 $ /year          Food Services/Hospitality   \n",
       "\n",
       "                                uniq_id  \n",
       "279    64a597e5dd17740aadf4b0e8047b51a5  \n",
       "7419   7baad80eae733c2518f0a500609c1e90  \n",
       "17048  c486cae7c4c1105a85e50448fb9c0dd0  \n",
       "17052  6ddfdf91eb991d9d31f3cd2ee4492eb9  \n",
       "18709  4fb8c68e3b6efcec902801a96f2cb004  "
      ]
     },
     "execution_count": 10,
     "metadata": {},
     "output_type": "execute_result"
    }
   ],
   "source": [
    "nanless_data = data.dropna()\n",
    "nanless_data "
   ]
  },
  {
   "cell_type": "markdown",
   "metadata": {
    "id": "hH6QK9_cRYF2"
   },
   "source": [
    "Answer: If we drop all rows with NaNs, we'll end up with 5 rows out of initial 22000."
   ]
  },
  {
   "cell_type": "markdown",
   "metadata": {
    "id": "F90_2yTzTJB0"
   },
   "source": [
    "Therefore, we won't be dropping all NaN-containing rows, because most of the valuable data would be lost."
   ]
  },
  {
   "cell_type": "markdown",
   "metadata": {
    "id": "msyy7idiKbax"
   },
   "source": [
    "## Irrelevant columns"
   ]
  },
  {
   "cell_type": "markdown",
   "metadata": {
    "id": "1Vx9OuX_TcVy"
   },
   "source": [
    "Let's assess which columns should be kept and which can be deleted."
   ]
  },
  {
   "cell_type": "markdown",
   "metadata": {
    "id": "u8PSZXgKSDH7"
   },
   "source": [
    "### 1. Single-value columns"
   ]
  },
  {
   "cell_type": "code",
   "execution_count": 11,
   "metadata": {
    "colab": {
     "base_uri": "https://localhost:8080/",
     "height": 173
    },
    "id": "AxBO7ljdKgO5",
    "outputId": "aa16bb73-0949-4da4-866d-61bbad5f5c14"
   },
   "outputs": [
    {
     "data": {
      "text/html": [
       "<div>\n",
       "<style scoped>\n",
       "    .dataframe tbody tr th:only-of-type {\n",
       "        vertical-align: middle;\n",
       "    }\n",
       "\n",
       "    .dataframe tbody tr th {\n",
       "        vertical-align: top;\n",
       "    }\n",
       "\n",
       "    .dataframe thead th {\n",
       "        text-align: right;\n",
       "    }\n",
       "</style>\n",
       "<table border=\"1\" class=\"dataframe\">\n",
       "  <thead>\n",
       "    <tr style=\"text-align: right;\">\n",
       "      <th></th>\n",
       "      <th>unique_count</th>\n",
       "    </tr>\n",
       "  </thead>\n",
       "  <tbody>\n",
       "    <tr>\n",
       "      <th>country</th>\n",
       "      <td>1</td>\n",
       "    </tr>\n",
       "    <tr>\n",
       "      <th>country_code</th>\n",
       "      <td>1</td>\n",
       "    </tr>\n",
       "    <tr>\n",
       "      <th>has_expired</th>\n",
       "      <td>1</td>\n",
       "    </tr>\n",
       "    <tr>\n",
       "      <th>job_board</th>\n",
       "      <td>1</td>\n",
       "    </tr>\n",
       "  </tbody>\n",
       "</table>\n",
       "</div>"
      ],
      "text/plain": [
       "              unique_count\n",
       "country                  1\n",
       "country_code             1\n",
       "has_expired              1\n",
       "job_board                1"
      ]
     },
     "execution_count": 11,
     "metadata": {},
     "output_type": "execute_result"
    }
   ],
   "source": [
    "data_unique_count = pd.DataFrame(data[['country', 'country_code', 'has_expired', 'job_board']].nunique(), \n",
    "                                 columns=['unique_count'])\n",
    "data_unique_count"
   ]
  },
  {
   "cell_type": "markdown",
   "metadata": {
    "id": "3FAE2UB6SzY9"
   },
   "source": [
    "So, the dataset has 4 columns that have one unique value, which means it is the same for all rows. This information can be useful for creating a clearer image of a dataset as a whole. In this case, our dataset is comprised of relevant job listings in the US from jobs.monster.com. There is no point in storing this data as a table columns -  mentioning it in the dataset description would be enough."
   ]
  },
  {
   "cell_type": "markdown",
   "metadata": {
    "id": "IYok9BpNWZz7"
   },
   "source": [
    "### 2. Duplicate columns\n",
    "\n",
    "\n",
    "\n"
   ]
  },
  {
   "cell_type": "markdown",
   "metadata": {
    "id": "KLxDLR4sX9ap"
   },
   "source": [
    "- Mentioned above columns **country** and **country_code** store the same information and are interchangable.\n",
    "- Records in the **job_title** column frequently include the city name, which is already mentioned in the **location** column."
   ]
  },
  {
   "cell_type": "markdown",
   "metadata": {
    "id": "eIiaUbr_ZwXh"
   },
   "source": [
    "### 3. Irrelevant-value columns\n",
    "- Unique identifier from the **uniq_id** column is only needed for differentiation between all records. However, it's possible for some identical rows to have different ids.\n",
    "- **page_url** value is also unique for each row, but it is not really valuable for analysis as it carries no useful information (maybe, except for a job title inside the URL, but this info is already in the **job_title** column.\n",
    "- Single-value columns are irrelevant as well (see pt. 1)."
   ]
  },
  {
   "cell_type": "markdown",
   "metadata": {
    "id": "AnlzCkfNL9Zp"
   },
   "source": [
    "## Duplicate rows"
   ]
  },
  {
   "cell_type": "markdown",
   "metadata": {
    "id": "OlqijLb11RH5"
   },
   "source": [
    "In order to clearly identify each individual record, we need to choose an optimal set of columns as a composite primary key. \n",
    "<br>\n",
    "What it means is that if two rows have the same values in these columns, they're considered duplicates."
   ]
  },
  {
   "cell_type": "code",
   "execution_count": 12,
   "metadata": {
    "colab": {
     "base_uri": "https://localhost:8080/"
    },
    "id": "aWV2S8C0unis",
    "outputId": "b1761372-3ffb-45dc-cf37-910eb6c16d42"
   },
   "outputs": [
    {
     "name": "stdout",
     "output_type": "stream",
     "text": [
      "Total: 22000 rows\n"
     ]
    }
   ],
   "source": [
    "print(f\"Total: {data.shape[0]} rows\")"
   ]
  },
  {
   "cell_type": "code",
   "execution_count": 13,
   "metadata": {
    "colab": {
     "base_uri": "https://localhost:8080/"
    },
    "id": "t8NaKsYcGQIh",
    "outputId": "bf2651ed-136a-47dc-bd8e-14993b471329"
   },
   "outputs": [
    {
     "name": "stdout",
     "output_type": "stream",
     "text": [
      "Unique combinations of columns ['job_title', 'location']: 19876\n"
     ]
    }
   ],
   "source": [
    "key = ['job_title', 'location']\n",
    "print(f\"Unique combinations of columns {key}: {data.drop_duplicates(subset=key).shape[0]}\")"
   ]
  },
  {
   "cell_type": "code",
   "execution_count": 14,
   "metadata": {
    "colab": {
     "base_uri": "https://localhost:8080/"
    },
    "id": "DRluUPj3GY8T",
    "outputId": "fc54a6e1-6879-4387-f827-317f6ecada0a"
   },
   "outputs": [
    {
     "name": "stdout",
     "output_type": "stream",
     "text": [
      "Unique combinations of columns ['job_title', 'job_type', 'location']: 19963\n"
     ]
    }
   ],
   "source": [
    "key = ['job_title', 'job_type', 'location']\n",
    "print(f\"Unique combinations of columns {key}: {data.drop_duplicates(subset=key).shape[0]}\")"
   ]
  },
  {
   "cell_type": "code",
   "execution_count": 15,
   "metadata": {
    "colab": {
     "base_uri": "https://localhost:8080/"
    },
    "id": "IzZ5kQX0GuYb",
    "outputId": "2691930b-38a8-448d-f0a6-33adc88da7a2"
   },
   "outputs": [
    {
     "name": "stdout",
     "output_type": "stream",
     "text": [
      "Unique combinations of columns ['job_title', 'organization', 'location']: 19963\n"
     ]
    }
   ],
   "source": [
    "key = ['job_title', 'organization', 'location']\n",
    "print(f\"Unique combinations of columns {key}: {data.drop_duplicates(subset=key).shape[0]}\")"
   ]
  },
  {
   "cell_type": "code",
   "execution_count": 16,
   "metadata": {
    "colab": {
     "base_uri": "https://localhost:8080/"
    },
    "id": "fPpIu6M5G06a",
    "outputId": "ba1ef954-f6bb-4019-d062-0aa21b95a525"
   },
   "outputs": [
    {
     "name": "stdout",
     "output_type": "stream",
     "text": [
      "Unique combinations of columns ['job_title', 'job_type', 'organization', 'location']: 20006\n"
     ]
    }
   ],
   "source": [
    "key = ['job_title', 'job_type', 'organization', 'location']\n",
    "print(f\"Unique combinations of columns {key}: {data.drop_duplicates(subset=key).shape[0]}\")"
   ]
  },
  {
   "cell_type": "code",
   "execution_count": 17,
   "metadata": {
    "colab": {
     "base_uri": "https://localhost:8080/"
    },
    "id": "xdOZaPBXNO-4",
    "outputId": "7f813dba-cd8b-4089-9ada-242d81055874"
   },
   "outputs": [
    {
     "name": "stdout",
     "output_type": "stream",
     "text": [
      "Unique combinations of columns ['job_title', 'job_type', 'organization', 'location', 'salary']: 20046\n"
     ]
    }
   ],
   "source": [
    "key = ['job_title', 'job_type', 'organization', 'location', 'salary']\n",
    "print(f\"Unique combinations of columns {key}: {data.drop_duplicates(subset=key).shape[0]}\")"
   ]
  },
  {
   "cell_type": "code",
   "execution_count": 18,
   "metadata": {
    "colab": {
     "base_uri": "https://localhost:8080/"
    },
    "id": "d2mj87pDHCKU",
    "outputId": "51a99558-f8ff-4fac-fb0d-5c2e68a17e8d"
   },
   "outputs": [
    {
     "name": "stdout",
     "output_type": "stream",
     "text": [
      "Unique combinations of columns ['job_title', 'job_type', 'organization', 'location', 'sector']: 20041\n"
     ]
    }
   ],
   "source": [
    "key = ['job_title', 'job_type', 'organization', 'location', 'sector']\n",
    "print(f\"Unique combinations of columns {key}: {data.drop_duplicates(subset=key).shape[0]}\")"
   ]
  },
  {
   "cell_type": "markdown",
   "metadata": {
    "id": "mib2V4zdHG7w"
   },
   "source": [
    "Judging by the little experiment above, I think the optimal composite primary key is a combination of columns **job_title**, **job_type**, **organization**, **location**, **salary**. Such key results in relatively small data loss when dropping duplicates, while being composed of not so many columns."
   ]
  },
  {
   "cell_type": "markdown",
   "metadata": {
    "id": "q7zmjQB04v_4"
   },
   "source": [
    "So how much information would we lose if we drop duplicates using such primary key? "
   ]
  },
  {
   "cell_type": "markdown",
   "metadata": {
    "id": "G_85OSC64XX2"
   },
   "source": [
    "Original dataset statistics"
   ]
  },
  {
   "cell_type": "code",
   "execution_count": 19,
   "metadata": {
    "colab": {
     "base_uri": "https://localhost:8080/",
     "height": 288
    },
    "id": "IRBx4mfm48U-",
    "outputId": "acb38c0c-a3aa-494a-fe0c-78dffd893f1b"
   },
   "outputs": [
    {
     "data": {
      "text/html": [
       "<div>\n",
       "<style scoped>\n",
       "    .dataframe tbody tr th:only-of-type {\n",
       "        vertical-align: middle;\n",
       "    }\n",
       "\n",
       "    .dataframe tbody tr th {\n",
       "        vertical-align: top;\n",
       "    }\n",
       "\n",
       "    .dataframe thead th {\n",
       "        text-align: right;\n",
       "    }\n",
       "</style>\n",
       "<table border=\"1\" class=\"dataframe\">\n",
       "  <thead>\n",
       "    <tr style=\"text-align: right;\">\n",
       "      <th></th>\n",
       "      <th>country</th>\n",
       "      <th>country_code</th>\n",
       "      <th>date_added</th>\n",
       "      <th>has_expired</th>\n",
       "      <th>job_board</th>\n",
       "      <th>job_description</th>\n",
       "      <th>job_title</th>\n",
       "      <th>job_type</th>\n",
       "      <th>location</th>\n",
       "      <th>organization</th>\n",
       "      <th>page_url</th>\n",
       "      <th>salary</th>\n",
       "      <th>sector</th>\n",
       "      <th>uniq_id</th>\n",
       "    </tr>\n",
       "  </thead>\n",
       "  <tbody>\n",
       "    <tr>\n",
       "      <th>count</th>\n",
       "      <td>22000</td>\n",
       "      <td>22000</td>\n",
       "      <td>122</td>\n",
       "      <td>22000</td>\n",
       "      <td>22000</td>\n",
       "      <td>22000</td>\n",
       "      <td>22000</td>\n",
       "      <td>20372</td>\n",
       "      <td>22000</td>\n",
       "      <td>15133</td>\n",
       "      <td>22000</td>\n",
       "      <td>3446</td>\n",
       "      <td>16806</td>\n",
       "      <td>22000</td>\n",
       "    </tr>\n",
       "    <tr>\n",
       "      <th>unique</th>\n",
       "      <td>1</td>\n",
       "      <td>1</td>\n",
       "      <td>78</td>\n",
       "      <td>1</td>\n",
       "      <td>1</td>\n",
       "      <td>18744</td>\n",
       "      <td>18759</td>\n",
       "      <td>39</td>\n",
       "      <td>8423</td>\n",
       "      <td>738</td>\n",
       "      <td>22000</td>\n",
       "      <td>1737</td>\n",
       "      <td>163</td>\n",
       "      <td>22000</td>\n",
       "    </tr>\n",
       "    <tr>\n",
       "      <th>top</th>\n",
       "      <td>United States of America</td>\n",
       "      <td>US</td>\n",
       "      <td>9/22/2016</td>\n",
       "      <td>No</td>\n",
       "      <td>jobs.monster.com</td>\n",
       "      <td>12N Horizontal Construction Engineers Job Desc...</td>\n",
       "      <td>Monster</td>\n",
       "      <td>Full Time</td>\n",
       "      <td>Dallas, TX</td>\n",
       "      <td>Healthcare Services</td>\n",
       "      <td>http://jobview.monster.com/it-support-technici...</td>\n",
       "      <td>40,000.00 - 100,000.00 $ /year</td>\n",
       "      <td>Experienced (Non-Manager)</td>\n",
       "      <td>11d599f229a80023d2f40e7c52cd941e</td>\n",
       "    </tr>\n",
       "    <tr>\n",
       "      <th>freq</th>\n",
       "      <td>22000</td>\n",
       "      <td>22000</td>\n",
       "      <td>6</td>\n",
       "      <td>22000</td>\n",
       "      <td>22000</td>\n",
       "      <td>104</td>\n",
       "      <td>318</td>\n",
       "      <td>6757</td>\n",
       "      <td>646</td>\n",
       "      <td>1919</td>\n",
       "      <td>1</td>\n",
       "      <td>50</td>\n",
       "      <td>4594</td>\n",
       "      <td>1</td>\n",
       "    </tr>\n",
       "  </tbody>\n",
       "</table>\n",
       "</div>"
      ],
      "text/plain": [
       "                         country country_code date_added has_expired  \\\n",
       "count                      22000        22000        122       22000   \n",
       "unique                         1            1         78           1   \n",
       "top     United States of America           US  9/22/2016          No   \n",
       "freq                       22000        22000          6       22000   \n",
       "\n",
       "               job_board                                    job_description  \\\n",
       "count              22000                                              22000   \n",
       "unique                 1                                              18744   \n",
       "top     jobs.monster.com  12N Horizontal Construction Engineers Job Desc...   \n",
       "freq               22000                                                104   \n",
       "\n",
       "       job_title   job_type    location         organization  \\\n",
       "count      22000      20372       22000                15133   \n",
       "unique     18759         39        8423                  738   \n",
       "top      Monster  Full Time  Dallas, TX  Healthcare Services   \n",
       "freq         318       6757         646                 1919   \n",
       "\n",
       "                                                 page_url  \\\n",
       "count                                               22000   \n",
       "unique                                              22000   \n",
       "top     http://jobview.monster.com/it-support-technici...   \n",
       "freq                                                    1   \n",
       "\n",
       "                                salary                     sector  \\\n",
       "count                             3446                      16806   \n",
       "unique                            1737                        163   \n",
       "top     40,000.00 - 100,000.00 $ /year  Experienced (Non-Manager)   \n",
       "freq                                50                       4594   \n",
       "\n",
       "                                 uniq_id  \n",
       "count                              22000  \n",
       "unique                             22000  \n",
       "top     11d599f229a80023d2f40e7c52cd941e  \n",
       "freq                                   1  "
      ]
     },
     "execution_count": 19,
     "metadata": {},
     "output_type": "execute_result"
    }
   ],
   "source": [
    "data.describe()"
   ]
  },
  {
   "cell_type": "markdown",
   "metadata": {
    "id": "-LwI-1mC5yAm"
   },
   "source": [
    "Duplicate-dropped dataset statistics"
   ]
  },
  {
   "cell_type": "code",
   "execution_count": 20,
   "metadata": {
    "colab": {
     "base_uri": "https://localhost:8080/",
     "height": 288
    },
    "id": "0eB6WlkP5T3e",
    "outputId": "fe595fcb-cd9d-4e2c-9b50-264a593eda40"
   },
   "outputs": [
    {
     "data": {
      "text/html": [
       "<div>\n",
       "<style scoped>\n",
       "    .dataframe tbody tr th:only-of-type {\n",
       "        vertical-align: middle;\n",
       "    }\n",
       "\n",
       "    .dataframe tbody tr th {\n",
       "        vertical-align: top;\n",
       "    }\n",
       "\n",
       "    .dataframe thead th {\n",
       "        text-align: right;\n",
       "    }\n",
       "</style>\n",
       "<table border=\"1\" class=\"dataframe\">\n",
       "  <thead>\n",
       "    <tr style=\"text-align: right;\">\n",
       "      <th></th>\n",
       "      <th>country</th>\n",
       "      <th>country_code</th>\n",
       "      <th>date_added</th>\n",
       "      <th>has_expired</th>\n",
       "      <th>job_board</th>\n",
       "      <th>job_description</th>\n",
       "      <th>job_title</th>\n",
       "      <th>job_type</th>\n",
       "      <th>location</th>\n",
       "      <th>organization</th>\n",
       "      <th>page_url</th>\n",
       "      <th>salary</th>\n",
       "      <th>sector</th>\n",
       "      <th>uniq_id</th>\n",
       "    </tr>\n",
       "  </thead>\n",
       "  <tbody>\n",
       "    <tr>\n",
       "      <th>count</th>\n",
       "      <td>20046</td>\n",
       "      <td>20046</td>\n",
       "      <td>114</td>\n",
       "      <td>20046</td>\n",
       "      <td>20046</td>\n",
       "      <td>20046</td>\n",
       "      <td>20046</td>\n",
       "      <td>18555</td>\n",
       "      <td>20046</td>\n",
       "      <td>13636</td>\n",
       "      <td>20046</td>\n",
       "      <td>3268</td>\n",
       "      <td>15192</td>\n",
       "      <td>20046</td>\n",
       "    </tr>\n",
       "    <tr>\n",
       "      <th>unique</th>\n",
       "      <td>1</td>\n",
       "      <td>1</td>\n",
       "      <td>76</td>\n",
       "      <td>1</td>\n",
       "      <td>1</td>\n",
       "      <td>18059</td>\n",
       "      <td>18759</td>\n",
       "      <td>39</td>\n",
       "      <td>8423</td>\n",
       "      <td>738</td>\n",
       "      <td>20046</td>\n",
       "      <td>1737</td>\n",
       "      <td>162</td>\n",
       "      <td>20046</td>\n",
       "    </tr>\n",
       "    <tr>\n",
       "      <th>top</th>\n",
       "      <td>United States of America</td>\n",
       "      <td>US</td>\n",
       "      <td>5/26/2016</td>\n",
       "      <td>No</td>\n",
       "      <td>jobs.monster.com</td>\n",
       "      <td>12N Horizontal Construction Engineers Job Desc...</td>\n",
       "      <td>Monster</td>\n",
       "      <td>Full Time</td>\n",
       "      <td>Dallas, TX</td>\n",
       "      <td>Healthcare Services</td>\n",
       "      <td>http://jobview.monster.com/it-support-technici...</td>\n",
       "      <td>40,000.00 - 100,000.00 $ /year</td>\n",
       "      <td>Experienced (Non-Manager)</td>\n",
       "      <td>11d599f229a80023d2f40e7c52cd941e</td>\n",
       "    </tr>\n",
       "    <tr>\n",
       "      <th>freq</th>\n",
       "      <td>20046</td>\n",
       "      <td>20046</td>\n",
       "      <td>4</td>\n",
       "      <td>20046</td>\n",
       "      <td>20046</td>\n",
       "      <td>93</td>\n",
       "      <td>293</td>\n",
       "      <td>6355</td>\n",
       "      <td>561</td>\n",
       "      <td>1700</td>\n",
       "      <td>1</td>\n",
       "      <td>50</td>\n",
       "      <td>4228</td>\n",
       "      <td>1</td>\n",
       "    </tr>\n",
       "  </tbody>\n",
       "</table>\n",
       "</div>"
      ],
      "text/plain": [
       "                         country country_code date_added has_expired  \\\n",
       "count                      20046        20046        114       20046   \n",
       "unique                         1            1         76           1   \n",
       "top     United States of America           US  5/26/2016          No   \n",
       "freq                       20046        20046          4       20046   \n",
       "\n",
       "               job_board                                    job_description  \\\n",
       "count              20046                                              20046   \n",
       "unique                 1                                              18059   \n",
       "top     jobs.monster.com  12N Horizontal Construction Engineers Job Desc...   \n",
       "freq               20046                                                 93   \n",
       "\n",
       "       job_title   job_type    location         organization  \\\n",
       "count      20046      18555       20046                13636   \n",
       "unique     18759         39        8423                  738   \n",
       "top      Monster  Full Time  Dallas, TX  Healthcare Services   \n",
       "freq         293       6355         561                 1700   \n",
       "\n",
       "                                                 page_url  \\\n",
       "count                                               20046   \n",
       "unique                                              20046   \n",
       "top     http://jobview.monster.com/it-support-technici...   \n",
       "freq                                                    1   \n",
       "\n",
       "                                salary                     sector  \\\n",
       "count                             3268                      15192   \n",
       "unique                            1737                        162   \n",
       "top     40,000.00 - 100,000.00 $ /year  Experienced (Non-Manager)   \n",
       "freq                                50                       4228   \n",
       "\n",
       "                                 uniq_id  \n",
       "count                              20046  \n",
       "unique                             20046  \n",
       "top     11d599f229a80023d2f40e7c52cd941e  \n",
       "freq                                   1  "
      ]
     },
     "execution_count": 20,
     "metadata": {},
     "output_type": "execute_result"
    }
   ],
   "source": [
    "key = ['job_title', 'job_type', 'organization', 'location', 'salary']\n",
    "data.drop_duplicates(subset=key).describe()"
   ]
  },
  {
   "cell_type": "markdown",
   "metadata": {
    "id": "XXCEUA5y58gf"
   },
   "source": [
    "The resulting dataset has 1954 less rows. The most occurrent values in each column haven't changed."
   ]
  },
  {
   "cell_type": "markdown",
   "metadata": {
    "id": "KfnT9b7KkbGV"
   },
   "source": [
    "# Preprocessing"
   ]
  },
  {
   "cell_type": "markdown",
   "metadata": {
    "id": "A7O2qNCNk7oC"
   },
   "source": [
    "## Deleting excess data\n",
    "\n",
    "Dropping everything irrelevant we've found at the previous step."
   ]
  },
  {
   "cell_type": "code",
   "execution_count": 21,
   "metadata": {
    "id": "EnE1Z_LTmXs2"
   },
   "outputs": [],
   "source": [
    "# Keep a copy of the dataset to compare with the result later\n",
    "from copy import deepcopy\n",
    "\n",
    "data_copy = deepcopy(data)"
   ]
  },
  {
   "cell_type": "code",
   "execution_count": 22,
   "metadata": {
    "id": "i5fNRyNiOk1r"
   },
   "outputs": [],
   "source": [
    "# Drop columns with missing values\n",
    "data.drop(columns=\"date_added\", inplace=True)"
   ]
  },
  {
   "cell_type": "code",
   "execution_count": 23,
   "metadata": {
    "id": "K-xEJ-lClIeL"
   },
   "outputs": [],
   "source": [
    "# Drop irrelevant columns\n",
    "data.drop(columns=[\"country\",\t\"country_code\",\t\"has_expired\",\t\n",
    "                   \"job_board\", \"page_url\", \"uniq_id\"], inplace=True)"
   ]
  },
  {
   "cell_type": "code",
   "execution_count": 24,
   "metadata": {
    "id": "FBf382IflZ6O"
   },
   "outputs": [],
   "source": [
    "# Drop duplicates (rows)\n",
    "key = ['job_title', 'job_type', 'organization', 'location', 'salary']\n",
    "data.drop_duplicates(subset=key, inplace=True)"
   ]
  },
  {
   "cell_type": "markdown",
   "metadata": {
    "id": "dSwSvT8xICSN"
   },
   "source": [
    "The resulting cleaned-up dataset statistics"
   ]
  },
  {
   "cell_type": "code",
   "execution_count": 25,
   "metadata": {
    "colab": {
     "base_uri": "https://localhost:8080/",
     "height": 217
    },
    "id": "jVq-kfI9IVXI",
    "outputId": "34b51d77-cd85-4e7d-e88b-bea3fef3e03c"
   },
   "outputs": [
    {
     "data": {
      "text/html": [
       "<div>\n",
       "<style scoped>\n",
       "    .dataframe tbody tr th:only-of-type {\n",
       "        vertical-align: middle;\n",
       "    }\n",
       "\n",
       "    .dataframe tbody tr th {\n",
       "        vertical-align: top;\n",
       "    }\n",
       "\n",
       "    .dataframe thead th {\n",
       "        text-align: right;\n",
       "    }\n",
       "</style>\n",
       "<table border=\"1\" class=\"dataframe\">\n",
       "  <thead>\n",
       "    <tr style=\"text-align: right;\">\n",
       "      <th></th>\n",
       "      <th>job_description</th>\n",
       "      <th>job_title</th>\n",
       "      <th>job_type</th>\n",
       "      <th>location</th>\n",
       "      <th>organization</th>\n",
       "      <th>salary</th>\n",
       "      <th>sector</th>\n",
       "    </tr>\n",
       "  </thead>\n",
       "  <tbody>\n",
       "    <tr>\n",
       "      <th>count</th>\n",
       "      <td>20046</td>\n",
       "      <td>20046</td>\n",
       "      <td>18555</td>\n",
       "      <td>20046</td>\n",
       "      <td>13636</td>\n",
       "      <td>3268</td>\n",
       "      <td>15192</td>\n",
       "    </tr>\n",
       "    <tr>\n",
       "      <th>unique</th>\n",
       "      <td>18059</td>\n",
       "      <td>18759</td>\n",
       "      <td>39</td>\n",
       "      <td>8423</td>\n",
       "      <td>738</td>\n",
       "      <td>1737</td>\n",
       "      <td>162</td>\n",
       "    </tr>\n",
       "    <tr>\n",
       "      <th>top</th>\n",
       "      <td>12N Horizontal Construction Engineers Job Desc...</td>\n",
       "      <td>Monster</td>\n",
       "      <td>Full Time</td>\n",
       "      <td>Dallas, TX</td>\n",
       "      <td>Healthcare Services</td>\n",
       "      <td>40,000.00 - 100,000.00 $ /year</td>\n",
       "      <td>Experienced (Non-Manager)</td>\n",
       "    </tr>\n",
       "    <tr>\n",
       "      <th>freq</th>\n",
       "      <td>93</td>\n",
       "      <td>293</td>\n",
       "      <td>6355</td>\n",
       "      <td>561</td>\n",
       "      <td>1700</td>\n",
       "      <td>50</td>\n",
       "      <td>4228</td>\n",
       "    </tr>\n",
       "  </tbody>\n",
       "</table>\n",
       "</div>"
      ],
      "text/plain": [
       "                                          job_description job_title  \\\n",
       "count                                               20046     20046   \n",
       "unique                                              18059     18759   \n",
       "top     12N Horizontal Construction Engineers Job Desc...   Monster   \n",
       "freq                                                   93       293   \n",
       "\n",
       "         job_type    location         organization  \\\n",
       "count       18555       20046                13636   \n",
       "unique         39        8423                  738   \n",
       "top     Full Time  Dallas, TX  Healthcare Services   \n",
       "freq         6355         561                 1700   \n",
       "\n",
       "                                salary                     sector  \n",
       "count                             3268                      15192  \n",
       "unique                            1737                        162  \n",
       "top     40,000.00 - 100,000.00 $ /year  Experienced (Non-Manager)  \n",
       "freq                                50                       4228  "
      ]
     },
     "execution_count": 25,
     "metadata": {},
     "output_type": "execute_result"
    }
   ],
   "source": [
    "data.describe()"
   ]
  },
  {
   "cell_type": "code",
   "execution_count": 26,
   "metadata": {
    "colab": {
     "base_uri": "https://localhost:8080/"
    },
    "id": "nTMk4zooIXYP",
    "outputId": "f38e55ef-660d-4439-9905-585fb955e4eb"
   },
   "outputs": [
    {
     "name": "stdout",
     "output_type": "stream",
     "text": [
      "Dataset shape: 20046 rows, 7 columns\n"
     ]
    }
   ],
   "source": [
    "print(f\"Dataset shape: {data.shape[0]} rows, {data.shape[1]} columns\")"
   ]
  },
  {
   "cell_type": "markdown",
   "metadata": {
    "id": "bysSIV-E6Qo2"
   },
   "source": [
    "## Location"
   ]
  },
  {
   "cell_type": "markdown",
   "metadata": {
    "id": "XFGxe_V0-RJH"
   },
   "source": [
    "To begin with, we determine which value formats are there in the **location** column."
   ]
  },
  {
   "cell_type": "code",
   "execution_count": 27,
   "metadata": {
    "colab": {
     "base_uri": "https://localhost:8080/"
    },
    "id": "cn1chn2Y7MFK",
    "outputId": "47d44d2e-321c-4e61-df25-c2b3dbea513b"
   },
   "outputs": [
    {
     "data": {
      "text/plain": [
       "['Bowling Green, KY 42102',\n",
       " 'Tucker, GA',\n",
       " 'New York, NY 10017',\n",
       " 'Madison, WI',\n",
       " 'Colorado Springs, CO 80918',\n",
       " 'Lakeway, TX 78734',\n",
       " 'Los Angeles, CA',\n",
       " 'Phone 330-618-9895 Fax 330-633-2059',\n",
       " 'Jersey City, NJ 07097',\n",
       " 'Sarasota, FL 34230',\n",
       " 'California, CA',\n",
       " 'Newark, NJ 07104',\n",
       " 'Bowling Green, FL 33834',\n",
       " 'Dallas, TX 75201',\n",
       " 'Parsippany, NJ 07054',\n",
       " 'Cincinnati, OH 45214',\n",
       " 'AUSTIN, TX',\n",
       " 'Plymouth, MN 55442',\n",
       " 'Baton Rouge, LA',\n",
       " 'Cincinnati, OH 45202',\n",
       " 'Atlanta, GA 30354',\n",
       " 'Houston, TX 77040',\n",
       " 'Atlanta, GA',\n",
       " 'Columbus, OH 43232',\n",
       " 'Boston, MA 02210',\n",
       " 'Boston, MA',\n",
       " 'Chattanooga, TN',\n",
       " 'Newton, NC 28658',\n",
       " 'Oklahoma City, OK 73116']"
      ]
     },
     "execution_count": 27,
     "metadata": {},
     "output_type": "execute_result"
    }
   ],
   "source": [
    "# Assume that location cannot be longer than 6 words (helps to filter out job descriptions that accidentially got here)\n",
    "data['location'] = data.location.apply(str.strip)\n",
    "data = data[data.location.apply(lambda x: len(x.split())) < 6]\n",
    "\n",
    "# Get rid of excess words and symbols\n",
    "data['location'] = (data.location.apply(lambda x: x.replace('Address ', ''))\n",
    "                                 .apply(lambda x: x.replace(' \\xa0 ', ' '))\n",
    "                                 .apply(lambda x: x.replace(' \\xa0', ' '))\n",
    "                                 .apply(lambda x: x.replace('\\xa0', ' '))\n",
    "                                 .apply(lambda x: x.replace(' , ', ', ').strip()))\n",
    "\n",
    "\n",
    "list(data.sample(30).location.unique())"
   ]
  },
  {
   "cell_type": "markdown",
   "metadata": {
    "id": "Uk0Qt7P0i6nb"
   },
   "source": [
    "There are many outliers such as telephone numbers, contact details, job titles etc. \n",
    "<br>\n",
    "As for locations, I've found these main formats:\n",
    "- state\n",
    "- citySTATE\n",
    "- city, state\n",
    "- city, state postcode\n",
    "- city postcode\n",
    "- postcode"
   ]
  },
  {
   "cell_type": "markdown",
   "metadata": {
    "id": "YY28WVFt-e5m"
   },
   "source": [
    "### Location RegEx\n",
    "Creating regular exceptions for finding these formats"
   ]
  },
  {
   "cell_type": "code",
   "execution_count": 28,
   "metadata": {
    "id": "ZqSuWVJGRjkN"
   },
   "outputs": [],
   "source": [
    "formats = ['state', 'citySTATE', 'city, state', 'city, state postcode', 'city postcode', 'postcode', 'others']\n",
    "templates = [\"^[A-Z]{2}$\", \n",
    "             \"^[A-Z][a-z\\.\\-'/ ]+( ?[A-Z][a-z\\.\\-'/]*){0,3}[A-Z]{2}$\", \n",
    "             \"^[A-Z][a-z\\.\\-'/ ]+( ?[A-Z][a-z\\.\\-'/]*){0,3}, [A-Z]{2}$\", \n",
    "             \"^[A-Z][a-z\\.\\-'/ ]+( ?[A-Z][a-z\\.\\-'/]*){0,3}, [A-Z]{2} [0-9]{4,5}$\",\n",
    "             \"^[A-Z][a-z\\.\\-'/ ]+( ?[A-Z][a-z\\.\\-'/]*){0,3} [0-9]{4,5}$\", \n",
    "             \"^[0-9]{4,5}$\"]\n",
    "counts = []"
   ]
  },
  {
   "cell_type": "code",
   "execution_count": 29,
   "metadata": {
    "colab": {
     "base_uri": "https://localhost:8080/"
    },
    "id": "C9RmWX_TKNtG",
    "outputId": "66b680cc-fbdf-4f98-a2ed-60e877f02a09"
   },
   "outputs": [
    {
     "data": {
      "text/plain": [
       "432      WI\n",
       "433      CA\n",
       "434      LA\n",
       "436      KY\n",
       "438      TN\n",
       "         ..\n",
       "998      CO\n",
       "1005     MO\n",
       "10495    MO\n",
       "14049    TX\n",
       "15331    MD\n",
       "Name: location, Length: 171, dtype: object"
      ]
     },
     "execution_count": 29,
     "metadata": {},
     "output_type": "execute_result"
    }
   ],
   "source": [
    "# 1\n",
    "format1 = data[data.location.str.match(templates[0])].location\n",
    "counts.append(len(format1))\n",
    "format1 "
   ]
  },
  {
   "cell_type": "code",
   "execution_count": 30,
   "metadata": {
    "colab": {
     "base_uri": "https://localhost:8080/"
    },
    "id": "jdQzpJV_OC-A",
    "outputId": "31ff9bf0-2901-4a6f-a4d7-1da39f3e0bf8"
   },
   "outputs": [
    {
     "data": {
      "text/plain": [
       "878            DallasTX\n",
       "1313     IndianapolisIN\n",
       "1771          AtlantaGA\n",
       "1797          AtlantaGA\n",
       "1800          AtlantaGA\n",
       "              ...      \n",
       "21049          BostonMA\n",
       "21199      SwedesboroNJ\n",
       "21201      Long BeachCA\n",
       "21316        Chicago IL\n",
       "21684        Chicago IL\n",
       "Name: location, Length: 109, dtype: object"
      ]
     },
     "execution_count": 30,
     "metadata": {},
     "output_type": "execute_result"
    }
   ],
   "source": [
    "# 2\n",
    "format2 = data[data.location.str.match(templates[1])].location\n",
    "counts.append(len(format2))\n",
    "format2 "
   ]
  },
  {
   "cell_type": "code",
   "execution_count": 31,
   "metadata": {
    "colab": {
     "base_uri": "https://localhost:8080/"
    },
    "id": "rvOzkUtdF_3h",
    "outputId": "d7250c24-2dbd-4596-9673-dfaede52d4cc"
   },
   "outputs": [
    {
     "data": {
      "text/plain": [
       "3                  Dixon, CA\n",
       "4               Camphill, PA\n",
       "5        Charlottesville, VA\n",
       "9           Chesterfield, MO\n",
       "11              Columbus, IN\n",
       "                ...         \n",
       "21976         Cincinnati, OH\n",
       "21980         Cincinnati, OH\n",
       "21981       West Chester, OH\n",
       "21995         Cincinnati, OH\n",
       "21999         Cincinnati, OH\n",
       "Name: location, Length: 6118, dtype: object"
      ]
     },
     "execution_count": 31,
     "metadata": {},
     "output_type": "execute_result"
    }
   ],
   "source": [
    "# 3\n",
    "format3 = data[data.location.str.match(templates[2])].location\n",
    "counts.append(len(format3))\n",
    "format3"
   ]
  },
  {
   "cell_type": "code",
   "execution_count": 32,
   "metadata": {
    "colab": {
     "base_uri": "https://localhost:8080/"
    },
    "id": "RAhn9YdzQfQZ",
    "outputId": "cb5da64a-968c-4873-99a4-1d69eca3628c"
   },
   "outputs": [
    {
     "data": {
      "text/plain": [
       "0           Madison, WI 53702\n",
       "1           Madison, WI 53708\n",
       "7            Austin, TX 73301\n",
       "8            Austin, TX 78746\n",
       "10       Berryville, VA 22611\n",
       "                 ...         \n",
       "21993       Chicago, IL 60603\n",
       "21994    Cincinnati, OH 45202\n",
       "21996    Cincinnati, OH 45236\n",
       "21997       Chicago, IL 60602\n",
       "21998       Chicago, IL 60609\n",
       "Name: location, Length: 10721, dtype: object"
      ]
     },
     "execution_count": 32,
     "metadata": {},
     "output_type": "execute_result"
    }
   ],
   "source": [
    "# 4\n",
    "format4 = data[data.location.str.match(templates[3])].location\n",
    "counts.append(len(format4))\n",
    "format4"
   ]
  },
  {
   "cell_type": "code",
   "execution_count": 33,
   "metadata": {
    "colab": {
     "base_uri": "https://localhost:8080/"
    },
    "id": "RxaO05roO2DK",
    "outputId": "a099ed1a-a427-44da-ca65-6525831300e9"
   },
   "outputs": [
    {
     "data": {
      "text/plain": [
       "16           Wadesboro 28170\n",
       "22            La Porte 46350\n",
       "85            Columbus 68601\n",
       "104          Galesburg 64101\n",
       "108          Edinburgh 46124\n",
       "                ...         \n",
       "21040     Jacksonville 32256\n",
       "21088    Oklahoma City 73115\n",
       "21108         Columbus 43251\n",
       "21250     Philadelphia 19102\n",
       "21603       Cincinnati 45203\n",
       "Name: location, Length: 297, dtype: object"
      ]
     },
     "execution_count": 33,
     "metadata": {},
     "output_type": "execute_result"
    }
   ],
   "source": [
    "# 5\n",
    "format5 = data[data.location.str.match(templates[4])].location\n",
    "counts.append(len(format5))\n",
    "format5"
   ]
  },
  {
   "cell_type": "code",
   "execution_count": 34,
   "metadata": {
    "colab": {
     "base_uri": "https://localhost:8080/"
    },
    "id": "viFIG7JgPCW8",
    "outputId": "a1209a9d-31bd-48b5-e27f-5251f91972f2"
   },
   "outputs": [
    {
     "data": {
      "text/plain": [
       "175      46052\n",
       "181      19904\n",
       "220      49601\n",
       "363      80498\n",
       "456      15963\n",
       "         ...  \n",
       "20808    74074\n",
       "20907    73044\n",
       "20916    46131\n",
       "21046    46140\n",
       "21062    21502\n",
       "Name: location, Length: 253, dtype: object"
      ]
     },
     "execution_count": 34,
     "metadata": {},
     "output_type": "execute_result"
    }
   ],
   "source": [
    "# 6\n",
    "format6 = data[data.location.str.match(templates[5])].location\n",
    "counts.append(len(format6))\n",
    "format6"
   ]
  },
  {
   "cell_type": "code",
   "execution_count": 35,
   "metadata": {
    "id": "lr6FcInC7U4w"
   },
   "outputs": [],
   "source": [
    "others = data.shape[0] - sum(counts)\n",
    "counts.append(others)"
   ]
  },
  {
   "cell_type": "code",
   "execution_count": 36,
   "metadata": {
    "colab": {
     "base_uri": "https://localhost:8080/",
     "height": 447
    },
    "id": "6fRbz_Z0Xpq3",
    "outputId": "eb7d687d-5d52-4d36-d918-541dc2447253"
   },
   "outputs": [
    {
     "data": {
      "text/plain": [
       "<AxesSubplot:>"
      ]
     },
     "execution_count": 36,
     "metadata": {},
     "output_type": "execute_result"
    },
    {
     "data": {
      "image/png": "[encoded data removed]",
      "text/plain": [
       "<Figure size 432x288 with 1 Axes>"
      ]
     },
     "metadata": {
      "needs_background": "light"
     },
     "output_type": "display_data"
    }
   ],
   "source": [
    "sns.barplot(x = counts, y = formats, orient = 'h', color = counts, palette = 'cividis')"
   ]
  },
  {
   "cell_type": "markdown",
   "metadata": {
    "id": "f6AxBDe-VbzO"
   },
   "source": [
    "Formats *city, state* and *city, state index* prevail. However, there are a lot of values that don't fit any format."
   ]
  },
  {
   "cell_type": "markdown",
   "metadata": {
    "id": "Lp0zSkdJBu0o"
   },
   "source": [
    "It makes sense to split the **location** column into three: **city**, **state**, **postcode** (in case of some data missing, fill with NaNs)."
   ]
  },
  {
   "cell_type": "markdown",
   "metadata": {
    "id": "UTMwlyVVBJp7"
   },
   "source": [
    "### Format\n",
    "First, let's work with format-friendly data."
   ]
  },
  {
   "cell_type": "code",
   "execution_count": 37,
   "metadata": {
    "id": "Jhfk2VbV86Wi"
   },
   "outputs": [],
   "source": [
    "valid_location = data[data.location.str.match(f\"({templates[0]})|({templates[1]})|({templates[2]})|({templates[3]})|({templates[4]})|({templates[5]})\")]\n",
    "invalid_location = data[~data.location.str.match(f\"({templates[0]})|({templates[1]})|({templates[2]})|({templates[3]})|({templates[4]})|({templates[5]})\")]"
   ]
  },
  {
   "cell_type": "code",
   "execution_count": 38,
   "metadata": {
    "colab": {
     "base_uri": "https://localhost:8080/",
     "height": 899
    },
    "id": "joXXsfcbID2w",
    "outputId": "51e26c88-f793-47b4-b588-c78d2bee299e"
   },
   "outputs": [
    {
     "data": {
      "text/html": [
       "<div>\n",
       "<style scoped>\n",
       "    .dataframe tbody tr th:only-of-type {\n",
       "        vertical-align: middle;\n",
       "    }\n",
       "\n",
       "    .dataframe tbody tr th {\n",
       "        vertical-align: top;\n",
       "    }\n",
       "\n",
       "    .dataframe thead th {\n",
       "        text-align: right;\n",
       "    }\n",
       "</style>\n",
       "<table border=\"1\" class=\"dataframe\">\n",
       "  <thead>\n",
       "    <tr style=\"text-align: right;\">\n",
       "      <th></th>\n",
       "      <th>job_description</th>\n",
       "      <th>job_title</th>\n",
       "      <th>job_type</th>\n",
       "      <th>city</th>\n",
       "      <th>state</th>\n",
       "      <th>postcode</th>\n",
       "      <th>location</th>\n",
       "      <th>organization</th>\n",
       "      <th>salary</th>\n",
       "      <th>sector</th>\n",
       "    </tr>\n",
       "  </thead>\n",
       "  <tbody>\n",
       "    <tr>\n",
       "      <th>19696</th>\n",
       "      <td>Now Hiring Restaurant Manager professionals ac...</td>\n",
       "      <td>Restaurant Manager / General Manager Job in Sh...</td>\n",
       "      <td>Full Time Employee</td>\n",
       "      <td>Shreveport</td>\n",
       "      <td>LA</td>\n",
       "      <td>NaN</td>\n",
       "      <td>Shreveport, LA</td>\n",
       "      <td>NaN</td>\n",
       "      <td>30,000.00 - 60,000.00 $ /year</td>\n",
       "      <td>Food Services/Hospitality</td>\n",
       "    </tr>\n",
       "    <tr>\n",
       "      <th>4821</th>\n",
       "      <td>Position Summary \"Together, we improve people'...</td>\n",
       "      <td>Bakery Sales Clerk (Part Time) - Upper Arlingt...</td>\n",
       "      <td>Full Time Employee</td>\n",
       "      <td>Columbus</td>\n",
       "      <td>OH</td>\n",
       "      <td>NaN</td>\n",
       "      <td>Columbus, OH</td>\n",
       "      <td>Food and Beverage Production</td>\n",
       "      <td>NaN</td>\n",
       "      <td>Sales/Retail/Business Development</td>\n",
       "    </tr>\n",
       "    <tr>\n",
       "      <th>657</th>\n",
       "      <td>Senior Network Test Engineer Samsung Electroni...</td>\n",
       "      <td>Senior Network Test Engineer Job in Carrollton</td>\n",
       "      <td>Full Time</td>\n",
       "      <td>Carrollton</td>\n",
       "      <td>TX</td>\n",
       "      <td>75007</td>\n",
       "      <td>Carrollton, TX 75007</td>\n",
       "      <td>Other/Not Classified</td>\n",
       "      <td>NaN</td>\n",
       "      <td>NaN</td>\n",
       "    </tr>\n",
       "    <tr>\n",
       "      <th>14171</th>\n",
       "      <td>SENIOR FINANCIAL ANALYST - FORTUNE 500!!!If yo...</td>\n",
       "      <td>SENIOR FINANCIAL ANALYST - FORTUNE ! Job in In...</td>\n",
       "      <td>Full Time</td>\n",
       "      <td>Indianapolis</td>\n",
       "      <td>IN</td>\n",
       "      <td>46201</td>\n",
       "      <td>Indianapolis, IN 46201</td>\n",
       "      <td>All</td>\n",
       "      <td>75,000.00 - 95,000.00 $ /yearTop benfits inclu...</td>\n",
       "      <td>Experienced (Non-Manager)</td>\n",
       "    </tr>\n",
       "    <tr>\n",
       "      <th>11119</th>\n",
       "      <td>Full-Time Financial Reporting-GL-MKE 6737 W. W...</td>\n",
       "      <td>Director of Financial Reporting Job in Milwaukee</td>\n",
       "      <td>Full Time Employee</td>\n",
       "      <td>Milwaukee</td>\n",
       "      <td>WI</td>\n",
       "      <td>53214</td>\n",
       "      <td>Milwaukee, WI 53214</td>\n",
       "      <td>Healthcare Services Business Services - Other ...</td>\n",
       "      <td>NaN</td>\n",
       "      <td>Medical/Health</td>\n",
       "    </tr>\n",
       "    <tr>\n",
       "      <th>10626</th>\n",
       "      <td>POSITION SUMMARY:Develop, implement and manage...</td>\n",
       "      <td>QUALITY MANAGER Job in Minneapolis</td>\n",
       "      <td>Full Time Employee</td>\n",
       "      <td>Minneapolis</td>\n",
       "      <td>MN</td>\n",
       "      <td>55438</td>\n",
       "      <td>Minneapolis, MN 55438</td>\n",
       "      <td>Manufacturing - Other</td>\n",
       "      <td>NaN</td>\n",
       "      <td>Quality Assurance/Safety</td>\n",
       "    </tr>\n",
       "    <tr>\n",
       "      <th>5131</th>\n",
       "      <td>Position Summary Provide leadership in the Dai...</td>\n",
       "      <td>Dairy Lead (Full TIme) Grandview Market Distri...</td>\n",
       "      <td>Full Time Employee</td>\n",
       "      <td>Columbus</td>\n",
       "      <td>OH</td>\n",
       "      <td>NaN</td>\n",
       "      <td>Columbus, OH</td>\n",
       "      <td>Food and Beverage Production</td>\n",
       "      <td>NaN</td>\n",
       "      <td>Marketing/Product</td>\n",
       "    </tr>\n",
       "    <tr>\n",
       "      <th>9663</th>\n",
       "      <td>Green America Recycling is seeking full time S...</td>\n",
       "      <td>Solid Waste Fuels Technician Job in Hannibal</td>\n",
       "      <td>Full Time</td>\n",
       "      <td>Hannibal</td>\n",
       "      <td>MO</td>\n",
       "      <td>63401</td>\n",
       "      <td>Hannibal, MO 63401</td>\n",
       "      <td>Manufacturing - Other</td>\n",
       "      <td>NaN</td>\n",
       "      <td>Entry Level</td>\n",
       "    </tr>\n",
       "    <tr>\n",
       "      <th>13069</th>\n",
       "      <td>CenturyLink (NYSE: CTL) is a global communicat...</td>\n",
       "      <td>SR ENTERPRISE RELATIONSHIP MANAGER Job in Char...</td>\n",
       "      <td>Full Time Employee</td>\n",
       "      <td>Charlottesville</td>\n",
       "      <td>VA</td>\n",
       "      <td>22903</td>\n",
       "      <td>Charlottesville, VA 22903</td>\n",
       "      <td>Business Services - Other</td>\n",
       "      <td>NaN</td>\n",
       "      <td>Project/Program Management</td>\n",
       "    </tr>\n",
       "    <tr>\n",
       "      <th>9189</th>\n",
       "      <td>Title: HVAC Service TechnicianCompany: E.M. Lo...</td>\n",
       "      <td>HVAC Service Technician Job in Woodbridge  fun...</td>\n",
       "      <td>Full Time</td>\n",
       "      <td>Woodbridge</td>\n",
       "      <td>NaN</td>\n",
       "      <td>22191</td>\n",
       "      <td>Woodbridge 22191</td>\n",
       "      <td>All</td>\n",
       "      <td>NaN</td>\n",
       "      <td>Experienced (Non-Manager)</td>\n",
       "    </tr>\n",
       "  </tbody>\n",
       "</table>\n",
       "</div>"
      ],
      "text/plain": [
       "                                         job_description  \\\n",
       "19696  Now Hiring Restaurant Manager professionals ac...   \n",
       "4821   Position Summary \"Together, we improve people'...   \n",
       "657    Senior Network Test Engineer Samsung Electroni...   \n",
       "14171  SENIOR FINANCIAL ANALYST - FORTUNE 500!!!If yo...   \n",
       "11119  Full-Time Financial Reporting-GL-MKE 6737 W. W...   \n",
       "10626  POSITION SUMMARY:Develop, implement and manage...   \n",
       "5131   Position Summary Provide leadership in the Dai...   \n",
       "9663   Green America Recycling is seeking full time S...   \n",
       "13069  CenturyLink (NYSE: CTL) is a global communicat...   \n",
       "9189   Title: HVAC Service TechnicianCompany: E.M. Lo...   \n",
       "\n",
       "                                               job_title            job_type  \\\n",
       "19696  Restaurant Manager / General Manager Job in Sh...  Full Time Employee   \n",
       "4821   Bakery Sales Clerk (Part Time) - Upper Arlingt...  Full Time Employee   \n",
       "657       Senior Network Test Engineer Job in Carrollton           Full Time   \n",
       "14171  SENIOR FINANCIAL ANALYST - FORTUNE ! Job in In...           Full Time   \n",
       "11119   Director of Financial Reporting Job in Milwaukee  Full Time Employee   \n",
       "10626                 QUALITY MANAGER Job in Minneapolis  Full Time Employee   \n",
       "5131   Dairy Lead (Full TIme) Grandview Market Distri...  Full Time Employee   \n",
       "9663        Solid Waste Fuels Technician Job in Hannibal           Full Time   \n",
       "13069  SR ENTERPRISE RELATIONSHIP MANAGER Job in Char...  Full Time Employee   \n",
       "9189   HVAC Service Technician Job in Woodbridge  fun...           Full Time   \n",
       "\n",
       "                  city state postcode                   location  \\\n",
       "19696       Shreveport    LA      NaN             Shreveport, LA   \n",
       "4821          Columbus    OH      NaN               Columbus, OH   \n",
       "657         Carrollton    TX    75007       Carrollton, TX 75007   \n",
       "14171     Indianapolis    IN    46201     Indianapolis, IN 46201   \n",
       "11119        Milwaukee    WI    53214        Milwaukee, WI 53214   \n",
       "10626      Minneapolis    MN    55438      Minneapolis, MN 55438   \n",
       "5131          Columbus    OH      NaN               Columbus, OH   \n",
       "9663          Hannibal    MO    63401         Hannibal, MO 63401   \n",
       "13069  Charlottesville    VA    22903  Charlottesville, VA 22903   \n",
       "9189        Woodbridge   NaN    22191           Woodbridge 22191   \n",
       "\n",
       "                                            organization  \\\n",
       "19696                                                NaN   \n",
       "4821                        Food and Beverage Production   \n",
       "657                                 Other/Not Classified   \n",
       "14171                                                All   \n",
       "11119  Healthcare Services Business Services - Other ...   \n",
       "10626                              Manufacturing - Other   \n",
       "5131                        Food and Beverage Production   \n",
       "9663                               Manufacturing - Other   \n",
       "13069                          Business Services - Other   \n",
       "9189                                                 All   \n",
       "\n",
       "                                                  salary  \\\n",
       "19696                     30,000.00 - 60,000.00 $ /year    \n",
       "4821                                                 NaN   \n",
       "657                                                  NaN   \n",
       "14171  75,000.00 - 95,000.00 $ /yearTop benfits inclu...   \n",
       "11119                                                NaN   \n",
       "10626                                                NaN   \n",
       "5131                                                 NaN   \n",
       "9663                                                 NaN   \n",
       "13069                                                NaN   \n",
       "9189                                                 NaN   \n",
       "\n",
       "                                  sector  \n",
       "19696          Food Services/Hospitality  \n",
       "4821   Sales/Retail/Business Development  \n",
       "657                                  NaN  \n",
       "14171          Experienced (Non-Manager)  \n",
       "11119                     Medical/Health  \n",
       "10626           Quality Assurance/Safety  \n",
       "5131                   Marketing/Product  \n",
       "9663                         Entry Level  \n",
       "13069         Project/Program Management  \n",
       "9189           Experienced (Non-Manager)  "
      ]
     },
     "execution_count": 38,
     "metadata": {},
     "output_type": "execute_result"
    }
   ],
   "source": [
    "def split_location(x):\n",
    "  if re.fullmatch(templates[0], x):\n",
    "    return np.nan, x, np.nan\n",
    "  if re.fullmatch(templates[1], x):\n",
    "    return x[:-2], x[-2:], np.nan\n",
    "  if re.fullmatch(templates[2], x):\n",
    "    return x.split(', ')[0], x.split(', ')[1], np.nan\n",
    "  if re.fullmatch(templates[3], x):\n",
    "    return x.split(', ')[0], x.split(', ')[1].split()[0], x.split(', ')[1].split()[1]\n",
    "  if re.fullmatch(templates[4], x):\n",
    "    return x[:-6], np.nan, x[-5:]\n",
    "  if re.fullmatch(templates[5], x):\n",
    "    return np.nan, np.nan, x\n",
    "  return np.nan, np.nan, np.nan\n",
    "  \n",
    "\n",
    "valid_location.insert(loc=3, column='city', value=valid_location.location.apply(lambda x: split_location(x)[0]))\n",
    "valid_location.insert(loc=4, column='state', value=valid_location.location.apply(lambda x: split_location(x)[1]))\n",
    "valid_location.insert(loc=5, column='postcode', value=valid_location.location.apply(lambda x: split_location(x)[2]))\n",
    "valid_location.sample(10)"
   ]
  },
  {
   "cell_type": "markdown",
   "metadata": {
    "id": "aXtr78WJ_cyH"
   },
   "source": [
    "### Non-format\n",
    "Secondly, non-format data."
   ]
  },
  {
   "cell_type": "code",
   "execution_count": 39,
   "metadata": {
    "colab": {
     "base_uri": "https://localhost:8080/",
     "height": 590
    },
    "id": "c4D0sOxXVHpb",
    "outputId": "9a1f561f-59d7-4628-ada2-c6608d831a2b"
   },
   "outputs": [
    {
     "data": {
      "text/html": [
       "<div>\n",
       "<style scoped>\n",
       "    .dataframe tbody tr th:only-of-type {\n",
       "        vertical-align: middle;\n",
       "    }\n",
       "\n",
       "    .dataframe tbody tr th {\n",
       "        vertical-align: top;\n",
       "    }\n",
       "\n",
       "    .dataframe thead th {\n",
       "        text-align: right;\n",
       "    }\n",
       "</style>\n",
       "<table border=\"1\" class=\"dataframe\">\n",
       "  <thead>\n",
       "    <tr style=\"text-align: right;\">\n",
       "      <th></th>\n",
       "      <th>job_description</th>\n",
       "      <th>job_title</th>\n",
       "      <th>job_type</th>\n",
       "      <th>location</th>\n",
       "      <th>organization</th>\n",
       "      <th>salary</th>\n",
       "      <th>sector</th>\n",
       "    </tr>\n",
       "  </thead>\n",
       "  <tbody>\n",
       "    <tr>\n",
       "      <th>2343</th>\n",
       "      <td>Report this job About the Job ProLogistix - a ...</td>\n",
       "      <td>ProLogistix Job Application for Staffing Perso...</td>\n",
       "      <td>Full Time, Employee</td>\n",
       "      <td>Contact name Jenny Mason</td>\n",
       "      <td>Staffing/Employment Agencies</td>\n",
       "      <td>NaN</td>\n",
       "      <td>NaN</td>\n",
       "    </tr>\n",
       "    <tr>\n",
       "      <th>10560</th>\n",
       "      <td>Experis IT is partnering with a Fortune 100 co...</td>\n",
       "      <td>Mainframe QA Tester Job in Wilmington</td>\n",
       "      <td>Full Time Temporary/Contract/Project</td>\n",
       "      <td>Mainframe QA Tester</td>\n",
       "      <td>Wilmington, DE 19803</td>\n",
       "      <td>NaN</td>\n",
       "      <td>Quality Assurance/Safety</td>\n",
       "    </tr>\n",
       "    <tr>\n",
       "      <th>1890</th>\n",
       "      <td>Report this job About the Job Position Informa...</td>\n",
       "      <td>American Income Life Job Application for Sales...</td>\n",
       "      <td>Part Time, Temporary/Contract/Project</td>\n",
       "      <td>Phone 1-800-405-5591</td>\n",
       "      <td>All</td>\n",
       "      <td>NaN</td>\n",
       "      <td>NaN</td>\n",
       "    </tr>\n",
       "    <tr>\n",
       "      <th>4542</th>\n",
       "      <td>Description Quality Assurance Supervisor Disco...</td>\n",
       "      <td>Quality Assurance Supervisor Job in Chicago bo...</td>\n",
       "      <td>Full Time, Employee</td>\n",
       "      <td>Chicago</td>\n",
       "      <td>Business Services - Other</td>\n",
       "      <td>NaN</td>\n",
       "      <td>Experienced (Non-Manager)</td>\n",
       "    </tr>\n",
       "    <tr>\n",
       "      <th>16514</th>\n",
       "      <td>RM Production Support (technical Architect) (5...</td>\n",
       "      <td>RM Production Support Analyst Job in Plano</td>\n",
       "      <td>Full Time Temporary/Contract/Project</td>\n",
       "      <td>RM Production Support Analyst</td>\n",
       "      <td>Plano, TX</td>\n",
       "      <td>NaN</td>\n",
       "      <td>IT/Software Development</td>\n",
       "    </tr>\n",
       "    <tr>\n",
       "      <th>1762</th>\n",
       "      <td>Experis, one of the nation's leading I.T. Staf...</td>\n",
       "      <td>Sr. Sales Recruiter Job in Sandy Springs</td>\n",
       "      <td>Full Time Temporary/Contract/Project</td>\n",
       "      <td>Sr. Sales Recruiter</td>\n",
       "      <td>Sandy Springs, GA 30342</td>\n",
       "      <td>30.00 - 35.00 $ /hour</td>\n",
       "      <td>Human Resources</td>\n",
       "    </tr>\n",
       "    <tr>\n",
       "      <th>17318</th>\n",
       "      <td>You will be supporting the implementation of M...</td>\n",
       "      <td>WMS Developer Job in Irving</td>\n",
       "      <td>Full Time</td>\n",
       "      <td>Location:</td>\n",
       "      <td>Retail</td>\n",
       "      <td>NaN</td>\n",
       "      <td>IT/Software Development</td>\n",
       "    </tr>\n",
       "    <tr>\n",
       "      <th>20502</th>\n",
       "      <td>Your passion for care - it’s reasoning behind ...</td>\n",
       "      <td>function icims_stripIFrameParameter(url) { url...</td>\n",
       "      <td>NaN</td>\n",
       "      <td>US-MN-St. Paul</td>\n",
       "      <td>NaN</td>\n",
       "      <td>NaN</td>\n",
       "      <td>Patient Care Support/Nursing Assistant</td>\n",
       "    </tr>\n",
       "    <tr>\n",
       "      <th>2277</th>\n",
       "      <td>Report this job About the Job We are working o...</td>\n",
       "      <td>CyberCoders Job Application for Electrical Eng...</td>\n",
       "      <td>Full Time, Employee</td>\n",
       "      <td>Contact name Leslie Vivian</td>\n",
       "      <td>Architectural and Design Services</td>\n",
       "      <td>NaN</td>\n",
       "      <td>NaN</td>\n",
       "    </tr>\n",
       "    <tr>\n",
       "      <th>21030</th>\n",
       "      <td>Report this job About the Job CAPE FEAR COMMUN...</td>\n",
       "      <td>Cape Fear Community College Job Application fo...</td>\n",
       "      <td>Full Time, Employee</td>\n",
       "      <td>Phone (910) 362-7312</td>\n",
       "      <td>Education</td>\n",
       "      <td>NaN</td>\n",
       "      <td>NaN</td>\n",
       "    </tr>\n",
       "  </tbody>\n",
       "</table>\n",
       "</div>"
      ],
      "text/plain": [
       "                                         job_description  \\\n",
       "2343   Report this job About the Job ProLogistix - a ...   \n",
       "10560  Experis IT is partnering with a Fortune 100 co...   \n",
       "1890   Report this job About the Job Position Informa...   \n",
       "4542   Description Quality Assurance Supervisor Disco...   \n",
       "16514  RM Production Support (technical Architect) (5...   \n",
       "1762   Experis, one of the nation's leading I.T. Staf...   \n",
       "17318  You will be supporting the implementation of M...   \n",
       "20502  Your passion for care - it’s reasoning behind ...   \n",
       "2277   Report this job About the Job We are working o...   \n",
       "21030  Report this job About the Job CAPE FEAR COMMUN...   \n",
       "\n",
       "                                               job_title  \\\n",
       "2343   ProLogistix Job Application for Staffing Perso...   \n",
       "10560              Mainframe QA Tester Job in Wilmington   \n",
       "1890   American Income Life Job Application for Sales...   \n",
       "4542   Quality Assurance Supervisor Job in Chicago bo...   \n",
       "16514         RM Production Support Analyst Job in Plano   \n",
       "1762            Sr. Sales Recruiter Job in Sandy Springs   \n",
       "17318                        WMS Developer Job in Irving   \n",
       "20502  function icims_stripIFrameParameter(url) { url...   \n",
       "2277   CyberCoders Job Application for Electrical Eng...   \n",
       "21030  Cape Fear Community College Job Application fo...   \n",
       "\n",
       "                                    job_type                       location  \\\n",
       "2343                     Full Time, Employee       Contact name Jenny Mason   \n",
       "10560   Full Time Temporary/Contract/Project            Mainframe QA Tester   \n",
       "1890   Part Time, Temporary/Contract/Project           Phone 1-800-405-5591   \n",
       "4542                     Full Time, Employee                        Chicago   \n",
       "16514   Full Time Temporary/Contract/Project  RM Production Support Analyst   \n",
       "1762    Full Time Temporary/Contract/Project            Sr. Sales Recruiter   \n",
       "17318                              Full Time                      Location:   \n",
       "20502                                    NaN                 US-MN-St. Paul   \n",
       "2277                     Full Time, Employee     Contact name Leslie Vivian   \n",
       "21030                    Full Time, Employee           Phone (910) 362-7312   \n",
       "\n",
       "                            organization                 salary  \\\n",
       "2343        Staffing/Employment Agencies                    NaN   \n",
       "10560               Wilmington, DE 19803                    NaN   \n",
       "1890                                 All                    NaN   \n",
       "4542           Business Services - Other                    NaN   \n",
       "16514                          Plano, TX                    NaN   \n",
       "1762             Sandy Springs, GA 30342  30.00 - 35.00 $ /hour   \n",
       "17318                             Retail                    NaN   \n",
       "20502                                NaN                    NaN   \n",
       "2277   Architectural and Design Services                    NaN   \n",
       "21030                          Education                    NaN   \n",
       "\n",
       "                                       sector  \n",
       "2343                                      NaN  \n",
       "10560                Quality Assurance/Safety  \n",
       "1890                                      NaN  \n",
       "4542                Experienced (Non-Manager)  \n",
       "16514                 IT/Software Development  \n",
       "1762                          Human Resources  \n",
       "17318                 IT/Software Development  \n",
       "20502  Patient Care Support/Nursing Assistant  \n",
       "2277                                      NaN  \n",
       "21030                                     NaN  "
      ]
     },
     "execution_count": 39,
     "metadata": {},
     "output_type": "execute_result"
    }
   ],
   "source": [
    "invalid_location.sample(10)"
   ]
  },
  {
   "cell_type": "markdown",
   "metadata": {
    "id": "s_yOAU3mZq2p"
   },
   "source": [
    "Some additional formats:\n",
    "- city\n",
    "- state postcode\n",
    "- postcode, state \n",
    "- CITY, state, postcode\n",
    "- CITY, state\n",
    "- CITY, state postcode\n",
    "- city, state(Xx) postcode\n",
    "- city, state(Xx), state(XX)\n",
    "- city, state non-postcode-number\n",
    "- ..., state"
   ]
  },
  {
   "cell_type": "code",
   "execution_count": 40,
   "metadata": {
    "id": "096CztICkexg"
   },
   "outputs": [],
   "source": [
    "extra_templates = [\"^[A-Z][a-z]+$\", \n",
    "                   \"^[A-Z]{2} [0-9]{4,5}$\",\n",
    "                   \"^[0-9]{4,5}, [A-Z]{2}$\",\n",
    "                   \"^[A-Z][a-z\\.\\-'/]+( ?[A-Z][a-z\\.\\-'/]*){0,3}, [A-Za-z ]+, [0-9]{4,5}$\",\n",
    "                   \"^[A-Z ]+, [A-Z]{2}$\", \n",
    "                   \"^[A-Z ]+, [A-Z]{2} [0-9]+$\",\n",
    "                   \".+ [A-Z][a-z] .+\",\n",
    "                   \".+, [A-Z][a-z], [A-Z]{2}$\",\n",
    "                   \"^[A-Z][a-z\\.\\-'/]+( ?[A-Z][a-z\\.\\-'/]*){0,3}, [A-Z]{2} [0-9]+\", \n",
    "                   \".+, [A-Z]{2}$\"]\n",
    "\n",
    "\n",
    "def extra_split_location(x):\n",
    "  city = np.nan\n",
    "  postcode = re.search(\" [0-9]{5}$\", x)\n",
    "  postcode =  postcode.group().strip() if postcode else np.nan\n",
    "  state = re.search(\"( [A-Z]{2}$)|( [A-Z]{2},? )\", x)\n",
    "  state = state.group().strip() if state else np.nan\n",
    "  if re.fullmatch(extra_templates[1], x) and state is np.nan:\n",
    "    state = x[:2]\n",
    "  if re.fullmatch(extra_templates[3], x) and state is np.nan:\n",
    "    city = x.split(', ')[0].capitalize()\n",
    "    state = x.split(', ')[1]\n",
    "  if re.fullmatch(extra_templates[4], x) or re.fullmatch(extra_templates[5], x):\n",
    "    city = x.split(', ')[0].capitalize()\n",
    "  if re.fullmatch(extra_templates[6], x) and state is np.nan:\n",
    "    city = x.split(',')[0]\n",
    "    state = x.split(', ')[1].upper()\n",
    "  if re.fullmatch(extra_templates[7], x) or re.fullmatch(extra_templates[8], x):\n",
    "    city = x.split(',')[0]\n",
    "  return city, state, postcode"
   ]
  },
  {
   "cell_type": "markdown",
   "metadata": {
    "id": "P0fKKgtXBb_T"
   },
   "source": [
    "In some cases values from column **location** got into the **organization** column. So, let's try to extract them."
   ]
  },
  {
   "cell_type": "code",
   "execution_count": 41,
   "metadata": {
    "id": "ek9dVfS1DkAD"
   },
   "outputs": [],
   "source": [
    "invalid_location['maybe_city'] = invalid_location.organization.apply(lambda x: x.split(', ')[0] if isinstance(x, str) else np.nan)\n",
    "invalid_location['maybe_city'] = invalid_location.apply(lambda x: x.maybe_city if x.maybe_city in valid_location.city.unique() or \n",
    "                                                        (x.maybe_city is not np.nan and \n",
    "                                                         re.search(f\"(Job)? in {re.sub('[^a-zA-Z ]', '', x.maybe_city)}\", x.job_title)) else np.nan, axis=1)\n",
    "\n",
    "invalid_location['maybe_state'] = invalid_location.organization.apply(lambda x: re.search(\"( [A-Z]{2}$)|( [A-Z]{2} )\", x).group().strip()\n",
    "                                                                      if isinstance(x, str) and re.search(\"( [A-Z]{2}$)|( [A-Z]{2} )\", x) and\n",
    "                                                                      re.search(\"( [A-Z]{2}$)|( [A-Z]{2} )\", x).group().strip() not in ('PR', 'QA')\n",
    "                                                                      else np.nan)\n",
    "\n",
    "invalid_location['maybe_postcode'] = invalid_location.organization.apply(lambda x: re.search(\"[^0-9][0-9]{5}$\", x).group().strip()\n",
    "                                                                      if isinstance(x, str) and re.search(\"[^0-9][0-9]{5}$\", x) else np.nan)"
   ]
  },
  {
   "cell_type": "code",
   "execution_count": 42,
   "metadata": {
    "id": "WdmEZPr_-Tef"
   },
   "outputs": [],
   "source": [
    "invalid_location.insert(loc=3, column='city', value=invalid_location.location.apply(lambda x: extra_split_location(x)[0]))\n",
    "invalid_location['city'] = invalid_location.apply(lambda x: x.maybe_city if x.city is np.nan or re.search(f\"{x.city} (Job)? in \", x.job_title) else x.city, axis=1)\n",
    "\n",
    "\n",
    "invalid_location.insert(loc=4, column='state', value=invalid_location.location.apply(lambda x: extra_split_location(x)[1]))\n",
    "invalid_location['state'] = invalid_location.apply(lambda x: x.maybe_state if x.state is np.nan or re.search(f\"{x.state} (Job)? in \", x.job_title) else x.state, axis=1)\n",
    "\n",
    "\n",
    "invalid_location.insert(loc=5, column='postcode', value=invalid_location.location.apply(lambda x: extra_split_location(x)[2]))\n",
    "invalid_location['postcode'] = invalid_location.apply(lambda x: x.maybe_postcode if x.postcode is np.nan else x.postcode, axis=1)"
   ]
  },
  {
   "cell_type": "code",
   "execution_count": 43,
   "metadata": {
    "colab": {
     "base_uri": "https://localhost:8080/",
     "height": 608
    },
    "id": "aybMpfAmgI3a",
    "outputId": "75defa8e-07e3-442b-c247-2efc696be71f"
   },
   "outputs": [
    {
     "data": {
      "text/html": [
       "<div>\n",
       "<style scoped>\n",
       "    .dataframe tbody tr th:only-of-type {\n",
       "        vertical-align: middle;\n",
       "    }\n",
       "\n",
       "    .dataframe tbody tr th {\n",
       "        vertical-align: top;\n",
       "    }\n",
       "\n",
       "    .dataframe thead th {\n",
       "        text-align: right;\n",
       "    }\n",
       "</style>\n",
       "<table border=\"1\" class=\"dataframe\">\n",
       "  <thead>\n",
       "    <tr style=\"text-align: right;\">\n",
       "      <th></th>\n",
       "      <th>job_description</th>\n",
       "      <th>job_title</th>\n",
       "      <th>job_type</th>\n",
       "      <th>city</th>\n",
       "      <th>state</th>\n",
       "      <th>postcode</th>\n",
       "      <th>location</th>\n",
       "      <th>organization</th>\n",
       "      <th>salary</th>\n",
       "      <th>sector</th>\n",
       "      <th>maybe_city</th>\n",
       "      <th>maybe_state</th>\n",
       "      <th>maybe_postcode</th>\n",
       "    </tr>\n",
       "  </thead>\n",
       "  <tbody>\n",
       "    <tr>\n",
       "      <th>1618</th>\n",
       "      <td>Report this job About the Job If you are a Qua...</td>\n",
       "      <td>CyberCoders Job Application for Quality Techni...</td>\n",
       "      <td>Full Time, Employee</td>\n",
       "      <td>NaN</td>\n",
       "      <td>NaN</td>\n",
       "      <td>NaN</td>\n",
       "      <td>Contact name Samuel Leos</td>\n",
       "      <td>Manufacturing - Other</td>\n",
       "      <td>NaN</td>\n",
       "      <td>NaN</td>\n",
       "      <td>NaN</td>\n",
       "      <td>NaN</td>\n",
       "      <td>NaN</td>\n",
       "    </tr>\n",
       "    <tr>\n",
       "      <th>7461</th>\n",
       "      <td>HVAC &amp; Refrigeration Service Technician – Expe...</td>\n",
       "      <td>HVAC &amp; Refrigeration Service Tech Job in</td>\n",
       "      <td>Full Time</td>\n",
       "      <td>NaN</td>\n",
       "      <td>TN</td>\n",
       "      <td>37922</td>\n",
       "      <td>TN 37922</td>\n",
       "      <td>All</td>\n",
       "      <td>NaN</td>\n",
       "      <td>Student</td>\n",
       "      <td>NaN</td>\n",
       "      <td>NaN</td>\n",
       "      <td>NaN</td>\n",
       "    </tr>\n",
       "    <tr>\n",
       "      <th>11738</th>\n",
       "      <td>About Us: Havel is a division of Shambaugh &amp; S...</td>\n",
       "      <td>Controls Specialist Job in  body { margin:px; ...</td>\n",
       "      <td>Full Time Employee</td>\n",
       "      <td>NaN</td>\n",
       "      <td>NaN</td>\n",
       "      <td>NaN</td>\n",
       "      <td>Location:</td>\n",
       "      <td>Construction - Industrial Facilities and Infra...</td>\n",
       "      <td>NaN</td>\n",
       "      <td>IT/Software Development</td>\n",
       "      <td>NaN</td>\n",
       "      <td>NaN</td>\n",
       "      <td>NaN</td>\n",
       "    </tr>\n",
       "    <tr>\n",
       "      <th>5313</th>\n",
       "      <td>Company Description AXA is a leading financial...</td>\n",
       "      <td>Real Estate Investments Attorney Job in Ny</td>\n",
       "      <td>Full Time</td>\n",
       "      <td>NaN</td>\n",
       "      <td>NaN</td>\n",
       "      <td>NaN</td>\n",
       "      <td>Ny, New York</td>\n",
       "      <td>Legal Services</td>\n",
       "      <td>NaN</td>\n",
       "      <td>NaN</td>\n",
       "      <td>NaN</td>\n",
       "      <td>NaN</td>\n",
       "      <td>NaN</td>\n",
       "    </tr>\n",
       "    <tr>\n",
       "      <th>17269</th>\n",
       "      <td>You will be the Manager over the Mobile iOS Ap...</td>\n",
       "      <td>Manager Mobile iOS Application Development Job...</td>\n",
       "      <td>Full Time</td>\n",
       "      <td>NaN</td>\n",
       "      <td>NaN</td>\n",
       "      <td>NaN</td>\n",
       "      <td>Location:</td>\n",
       "      <td>Retail</td>\n",
       "      <td>NaN</td>\n",
       "      <td>Sales/Retail/Business Development</td>\n",
       "      <td>NaN</td>\n",
       "      <td>NaN</td>\n",
       "      <td>NaN</td>\n",
       "    </tr>\n",
       "  </tbody>\n",
       "</table>\n",
       "</div>"
      ],
      "text/plain": [
       "                                         job_description  \\\n",
       "1618   Report this job About the Job If you are a Qua...   \n",
       "7461   HVAC & Refrigeration Service Technician – Expe...   \n",
       "11738  About Us: Havel is a division of Shambaugh & S...   \n",
       "5313   Company Description AXA is a leading financial...   \n",
       "17269  You will be the Manager over the Mobile iOS Ap...   \n",
       "\n",
       "                                               job_title             job_type  \\\n",
       "1618   CyberCoders Job Application for Quality Techni...  Full Time, Employee   \n",
       "7461            HVAC & Refrigeration Service Tech Job in            Full Time   \n",
       "11738  Controls Specialist Job in  body { margin:px; ...   Full Time Employee   \n",
       "5313          Real Estate Investments Attorney Job in Ny            Full Time   \n",
       "17269  Manager Mobile iOS Application Development Job...            Full Time   \n",
       "\n",
       "      city state postcode                  location  \\\n",
       "1618   NaN   NaN      NaN  Contact name Samuel Leos   \n",
       "7461   NaN    TN    37922                  TN 37922   \n",
       "11738  NaN   NaN      NaN                 Location:   \n",
       "5313   NaN   NaN      NaN              Ny, New York   \n",
       "17269  NaN   NaN      NaN                 Location:   \n",
       "\n",
       "                                            organization salary  \\\n",
       "1618                               Manufacturing - Other    NaN   \n",
       "7461                                                 All    NaN   \n",
       "11738  Construction - Industrial Facilities and Infra...    NaN   \n",
       "5313                                      Legal Services    NaN   \n",
       "17269                                             Retail    NaN   \n",
       "\n",
       "                                  sector maybe_city maybe_state maybe_postcode  \n",
       "1618                                 NaN        NaN         NaN            NaN  \n",
       "7461                             Student        NaN         NaN            NaN  \n",
       "11738            IT/Software Development        NaN         NaN            NaN  \n",
       "5313                                 NaN        NaN         NaN            NaN  \n",
       "17269  Sales/Retail/Business Development        NaN         NaN            NaN  "
      ]
     },
     "execution_count": 43,
     "metadata": {},
     "output_type": "execute_result"
    }
   ],
   "source": [
    "invalid_location.sample(5)"
   ]
  },
  {
   "cell_type": "markdown",
   "metadata": {
    "id": "OKuHuS8GEWmD"
   },
   "source": [
    "As we see, now **city**, **state**, **postcode** columns are filled with data from the **organization** column in case there is a mix-up."
   ]
  },
  {
   "cell_type": "markdown",
   "metadata": {
    "id": "fry3Z5JGFGUs"
   },
   "source": [
    "### Resulting location\n",
    "Now we don't need the **location** column. We've got three instead, so it is easier to filter data by city and/or state and/or postcode."
   ]
  },
  {
   "cell_type": "code",
   "execution_count": 44,
   "metadata": {
    "colab": {
     "base_uri": "https://localhost:8080/",
     "height": 726
    },
    "id": "6DpL8G_a_EmC",
    "outputId": "2b64f877-d2f4-43b8-e2e0-248b83399934"
   },
   "outputs": [
    {
     "data": {
      "text/html": [
       "<div>\n",
       "<style scoped>\n",
       "    .dataframe tbody tr th:only-of-type {\n",
       "        vertical-align: middle;\n",
       "    }\n",
       "\n",
       "    .dataframe tbody tr th {\n",
       "        vertical-align: top;\n",
       "    }\n",
       "\n",
       "    .dataframe thead th {\n",
       "        text-align: right;\n",
       "    }\n",
       "</style>\n",
       "<table border=\"1\" class=\"dataframe\">\n",
       "  <thead>\n",
       "    <tr style=\"text-align: right;\">\n",
       "      <th></th>\n",
       "      <th>job_description</th>\n",
       "      <th>job_title</th>\n",
       "      <th>job_type</th>\n",
       "      <th>city</th>\n",
       "      <th>state</th>\n",
       "      <th>postcode</th>\n",
       "      <th>organization</th>\n",
       "      <th>salary</th>\n",
       "      <th>sector</th>\n",
       "    </tr>\n",
       "  </thead>\n",
       "  <tbody>\n",
       "    <tr>\n",
       "      <th>5684</th>\n",
       "      <td>FLSA Status:    Non-ExemptTitle:              ...</td>\n",
       "      <td>Litigation Support Specialist Job in Santa Monica</td>\n",
       "      <td>Full Time</td>\n",
       "      <td>Santa Monica</td>\n",
       "      <td>CA</td>\n",
       "      <td>90403</td>\n",
       "      <td>NaN</td>\n",
       "      <td>NaN</td>\n",
       "      <td>NaN</td>\n",
       "    </tr>\n",
       "    <tr>\n",
       "      <th>19133</th>\n",
       "      <td>TRANSPORT REGISTERED NURSECorpus Christi, TX J...</td>\n",
       "      <td>Transport Registered Nurse Job in Corpus Christi</td>\n",
       "      <td>Full Time Employee</td>\n",
       "      <td>Corpus Christi</td>\n",
       "      <td>TX</td>\n",
       "      <td>NaN</td>\n",
       "      <td>NaN</td>\n",
       "      <td>NaN</td>\n",
       "      <td>Medical/Health</td>\n",
       "    </tr>\n",
       "    <tr>\n",
       "      <th>6067</th>\n",
       "      <td>US Ceramic Installation SpecialistSummary: Thi...</td>\n",
       "      <td>Ceramic Installation Specialist Job in Oklahom...</td>\n",
       "      <td>Full Time, Employee</td>\n",
       "      <td>Oklahoma City</td>\n",
       "      <td>OK</td>\n",
       "      <td>73118</td>\n",
       "      <td>Manufacturing - Other</td>\n",
       "      <td>NaN</td>\n",
       "      <td>Installation/Maintenance/Repair</td>\n",
       "    </tr>\n",
       "    <tr>\n",
       "      <th>15129</th>\n",
       "      <td>Purpose of the PositionThe position effectivel...</td>\n",
       "      <td>QC Inspector</td>\n",
       "      <td>Full Time, Employee</td>\n",
       "      <td>Newton</td>\n",
       "      <td>NJ</td>\n",
       "      <td>07860</td>\n",
       "      <td>Manufacturing - Other</td>\n",
       "      <td>NaN</td>\n",
       "      <td>Quality Assurance/Safety</td>\n",
       "    </tr>\n",
       "    <tr>\n",
       "      <th>5759</th>\n",
       "      <td>Parker + Lynch is assisting its client, a top ...</td>\n",
       "      <td>Fantastic International Arbitration Opportunit...</td>\n",
       "      <td>Full Time Employee</td>\n",
       "      <td>Washington</td>\n",
       "      <td>DC</td>\n",
       "      <td>20004</td>\n",
       "      <td>NaN</td>\n",
       "      <td>NaN</td>\n",
       "      <td>Legal</td>\n",
       "    </tr>\n",
       "    <tr>\n",
       "      <th>9619</th>\n",
       "      <td>Electronics Technician  Immediate Opening!  Te...</td>\n",
       "      <td>Electronics Technician Job in Gainesville</td>\n",
       "      <td>Full Time</td>\n",
       "      <td>Gainesville</td>\n",
       "      <td>FL</td>\n",
       "      <td>32609</td>\n",
       "      <td>NaN</td>\n",
       "      <td>10.00 - 15.00 $ /hour</td>\n",
       "      <td>Experienced (Non-Manager)</td>\n",
       "    </tr>\n",
       "    <tr>\n",
       "      <th>18693</th>\n",
       "      <td>Full TimeBrookdale Franklin 910 Murfreesboro R...</td>\n",
       "      <td>Dining Services Director Job in Franklin</td>\n",
       "      <td>Full Time Employee</td>\n",
       "      <td>Franklin</td>\n",
       "      <td>TN</td>\n",
       "      <td>37064</td>\n",
       "      <td>Healthcare Services Restaurant/Food Services F...</td>\n",
       "      <td>NaN</td>\n",
       "      <td>Food Services/Hospitality</td>\n",
       "    </tr>\n",
       "    <tr>\n",
       "      <th>6357</th>\n",
       "      <td>12N Horizontal Construction Engineers Job Desc...</td>\n",
       "      <td>N Horizontal Construction Engineers Job in Purvis</td>\n",
       "      <td>Full Time Employee</td>\n",
       "      <td>Purvis</td>\n",
       "      <td>MS</td>\n",
       "      <td>39475</td>\n",
       "      <td>NaN</td>\n",
       "      <td>NaN</td>\n",
       "      <td>Entry Level</td>\n",
       "    </tr>\n",
       "    <tr>\n",
       "      <th>1198</th>\n",
       "      <td>This role will play a key part in helping the ...</td>\n",
       "      <td>MS Automation and SCCM Engineer Job in Wilmington</td>\n",
       "      <td>Full Time Temporary/Contract/Project</td>\n",
       "      <td>Wilmington</td>\n",
       "      <td>DE</td>\n",
       "      <td>19805</td>\n",
       "      <td>Computer/IT Services</td>\n",
       "      <td>NaN</td>\n",
       "      <td>IT/Software Development</td>\n",
       "    </tr>\n",
       "    <tr>\n",
       "      <th>3132</th>\n",
       "      <td>RESPONSIBILITIES:Kforce has a client seeking a...</td>\n",
       "      <td>Senior IT Project Manager Job in Pleasanton</td>\n",
       "      <td>Full Time, Temporary/Contract/Project</td>\n",
       "      <td>Pleasanton</td>\n",
       "      <td>CA</td>\n",
       "      <td>94588</td>\n",
       "      <td>NaN</td>\n",
       "      <td>NaN</td>\n",
       "      <td>Experienced (Non-Manager)</td>\n",
       "    </tr>\n",
       "  </tbody>\n",
       "</table>\n",
       "</div>"
      ],
      "text/plain": [
       "                                         job_description  \\\n",
       "5684   FLSA Status:    Non-ExemptTitle:              ...   \n",
       "19133  TRANSPORT REGISTERED NURSECorpus Christi, TX J...   \n",
       "6067   US Ceramic Installation SpecialistSummary: Thi...   \n",
       "15129  Purpose of the PositionThe position effectivel...   \n",
       "5759   Parker + Lynch is assisting its client, a top ...   \n",
       "9619   Electronics Technician  Immediate Opening!  Te...   \n",
       "18693  Full TimeBrookdale Franklin 910 Murfreesboro R...   \n",
       "6357   12N Horizontal Construction Engineers Job Desc...   \n",
       "1198   This role will play a key part in helping the ...   \n",
       "3132   RESPONSIBILITIES:Kforce has a client seeking a...   \n",
       "\n",
       "                                               job_title  \\\n",
       "5684   Litigation Support Specialist Job in Santa Monica   \n",
       "19133   Transport Registered Nurse Job in Corpus Christi   \n",
       "6067   Ceramic Installation Specialist Job in Oklahom...   \n",
       "15129                                       QC Inspector   \n",
       "5759   Fantastic International Arbitration Opportunit...   \n",
       "9619           Electronics Technician Job in Gainesville   \n",
       "18693           Dining Services Director Job in Franklin   \n",
       "6357   N Horizontal Construction Engineers Job in Purvis   \n",
       "1198   MS Automation and SCCM Engineer Job in Wilmington   \n",
       "3132         Senior IT Project Manager Job in Pleasanton   \n",
       "\n",
       "                                    job_type            city state postcode  \\\n",
       "5684                               Full Time    Santa Monica    CA    90403   \n",
       "19133                     Full Time Employee  Corpus Christi    TX      NaN   \n",
       "6067                     Full Time, Employee   Oklahoma City    OK    73118   \n",
       "15129                    Full Time, Employee          Newton    NJ    07860   \n",
       "5759                      Full Time Employee      Washington    DC    20004   \n",
       "9619                               Full Time     Gainesville    FL    32609   \n",
       "18693                     Full Time Employee        Franklin    TN    37064   \n",
       "6357                      Full Time Employee          Purvis    MS    39475   \n",
       "1198    Full Time Temporary/Contract/Project      Wilmington    DE    19805   \n",
       "3132   Full Time, Temporary/Contract/Project      Pleasanton    CA    94588   \n",
       "\n",
       "                                            organization  \\\n",
       "5684                                                 NaN   \n",
       "19133                                                NaN   \n",
       "6067                               Manufacturing - Other   \n",
       "15129                              Manufacturing - Other   \n",
       "5759                                                 NaN   \n",
       "9619                                                 NaN   \n",
       "18693  Healthcare Services Restaurant/Food Services F...   \n",
       "6357                                                 NaN   \n",
       "1198                                Computer/IT Services   \n",
       "3132                                                 NaN   \n",
       "\n",
       "                      salary                           sector  \n",
       "5684                     NaN                              NaN  \n",
       "19133                    NaN                   Medical/Health  \n",
       "6067                     NaN  Installation/Maintenance/Repair  \n",
       "15129                    NaN         Quality Assurance/Safety  \n",
       "5759                     NaN                            Legal  \n",
       "9619   10.00 - 15.00 $ /hour        Experienced (Non-Manager)  \n",
       "18693                    NaN        Food Services/Hospitality  \n",
       "6357                     NaN                      Entry Level  \n",
       "1198                     NaN          IT/Software Development  \n",
       "3132                     NaN        Experienced (Non-Manager)  "
      ]
     },
     "execution_count": 44,
     "metadata": {},
     "output_type": "execute_result"
    }
   ],
   "source": [
    "invalid_location.drop(['maybe_city', 'maybe_state', 'maybe_postcode'], axis=1, inplace=True)\n",
    "data = pd.concat([valid_location, invalid_location])\n",
    "data.drop('location', axis=1, inplace=True)\n",
    "data.sample(10)"
   ]
  },
  {
   "cell_type": "markdown",
   "metadata": {
    "id": "jnaCe7umCrCM"
   },
   "source": [
    "## Salary"
   ]
  },
  {
   "cell_type": "markdown",
   "metadata": {
    "id": "pODtqlog_v7l"
   },
   "source": [
    "To begin with, we determine which value formats are there in the **salary** column."
   ]
  },
  {
   "cell_type": "code",
   "execution_count": 45,
   "metadata": {
    "colab": {
     "base_uri": "https://localhost:8080/"
    },
    "id": "62JbulyKA7kS",
    "outputId": "68f411cd-ad40-4afe-ca7f-11074365a1aa"
   },
   "outputs": [
    {
     "data": {
      "text/plain": [
       "40,000.00 - 100,000.00 $ /year           50\n",
       "50,000.00 - 60,000.00 $ /year            27\n",
       "40,000.00 - 50,000.00 $ /year            26\n",
       "65,000.00 - 75,000.00 $ /year            23\n",
       "75,000.00 - 85,000.00 $ /year            23\n",
       "                                         ..\n",
       "37,200.00 - 50,300.00 $ /year             1\n",
       "15.00 - 20.00 $ /year                     1\n",
       "37,440.00 - 41,600.00 $ /year             1\n",
       "40,600.00 - 67,600.00 $ /year             1\n",
       "900.00 - 1,200.00 $ /per dayPer Class     1\n",
       "Name: salary, Length: 1510, dtype: int64"
      ]
     },
     "execution_count": 45,
     "metadata": {},
     "output_type": "execute_result"
    }
   ],
   "source": [
    "# Assuming salary values should contain numbers.\n",
    "data_salary_notna = data[data.salary.notna()]\n",
    "data_salary_na = data[data.salary.isna()]\n",
    "data_salary_notna = data_salary_notna[data_salary_notna.salary.str.match(\".*[0-9]+.*\")]\n",
    "data_salary_notna.salary.value_counts()"
   ]
  },
  {
   "cell_type": "markdown",
   "metadata": {
    "id": "4eXQ_FXT7FsA"
   },
   "source": [
    "### Time Periods\n",
    "Let's add a new column **salary_period** with a time period for salary measurement (usually stored in the **salary** column after '/' symbol)."
   ]
  },
  {
   "cell_type": "code",
   "execution_count": 46,
   "metadata": {
    "id": "RO_kMBoLO7o2"
   },
   "outputs": [],
   "source": [
    "salary_period = data_salary_notna.salary.apply(lambda x: re.search('/.+', x).group().strip()[1:] if \n",
    "                               re.search('/.+', x) else np.nan)\n",
    "data_salary_notna.insert(loc=8, column='salary_period', value=salary_period)"
   ]
  },
  {
   "cell_type": "code",
   "execution_count": 47,
   "metadata": {
    "colab": {
     "base_uri": "https://localhost:8080/",
     "height": 447
    },
    "id": "MCT5OaNWQOPt",
    "outputId": "c2bb7702-810c-4efa-c90e-dde69108f165"
   },
   "outputs": [
    {
     "data": {
      "text/plain": [
       "[Text(0.5, 0, ''), Text(0, 0.5, '')]"
      ]
     },
     "execution_count": 47,
     "metadata": {},
     "output_type": "execute_result"
    },
    {
     "data": {
      "image/png": "[encoded data removed]",
      "text/plain": [
       "<Figure size 432x288 with 1 Axes>"
      ]
     },
     "metadata": {
      "needs_background": "light"
     },
     "output_type": "display_data"
    }
   ],
   "source": [
    "sns.barplot(pd.DataFrame(data_salary_notna.salary_period.value_counts()[:6]).reset_index(), x='index', y='salary_period', palette='Set2').set(xlabel=None, ylabel=None)"
   ]
  },
  {
   "cell_type": "markdown",
   "metadata": {
    "id": "fDPKcLjbW5-n"
   },
   "source": [
    "The most popular time periods are *year* and *hour*. We can also clean up other time period formats to get more of these periods."
   ]
  },
  {
   "cell_type": "code",
   "execution_count": 48,
   "metadata": {
    "id": "q6-jmsLaW8XP"
   },
   "outputs": [],
   "source": [
    "data_salary_notna['salary_period'] = data_salary_notna.salary_period.apply(lambda x: re.sub('year.+', 'year', x) if \n",
    "                               x is not np.nan else x)\n",
    "data_salary_notna['salary'] = data_salary_notna.salary.apply(lambda x: re.sub('year', 'year ', x).lower() if \n",
    "                               x is not np.nan else x)\n",
    "\n",
    "data_salary_notna['salary_period'] = data_salary_notna.salary_period.apply(lambda x: re.sub('hour.+', 'hour', x) if \n",
    "                               x is not np.nan else x)\n",
    "data_salary_notna['salary'] = data_salary_notna.salary.apply(lambda x: re.sub('hour', 'hour ', x).lower() if \n",
    "                               x is not np.nan else x)"
   ]
  },
  {
   "cell_type": "code",
   "execution_count": 49,
   "metadata": {
    "colab": {
     "base_uri": "https://localhost:8080/",
     "height": 447
    },
    "id": "8Ep8r0ZBWeEw",
    "outputId": "d90b1c30-bbad-4025-b915-076aa54aecbd"
   },
   "outputs": [
    {
     "data": {
      "text/plain": [
       "[Text(0.5, 0, ''), Text(0, 0.5, '')]"
      ]
     },
     "execution_count": 49,
     "metadata": {},
     "output_type": "execute_result"
    },
    {
     "data": {
      "image/png": "[encoded data removed]",
      "text/plain": [
       "<Figure size 432x288 with 1 Axes>"
      ]
     },
     "metadata": {
      "needs_background": "light"
     },
     "output_type": "display_data"
    }
   ],
   "source": [
    "sns.barplot(pd.DataFrame(data_salary_notna.salary_period.value_counts()[:4]).reset_index(), x='index', y='salary_period', palette='Set2').set(xlabel=None, ylabel=None)"
   ]
  },
  {
   "cell_type": "markdown",
   "metadata": {
    "id": "QjSjvTsxPKHp"
   },
   "source": [
    "Now we have unified time period formats."
   ]
  },
  {
   "cell_type": "markdown",
   "metadata": {
    "id": "-NLo6kfP71Nz"
   },
   "source": [
    "### Salary RegEx"
   ]
  },
  {
   "cell_type": "markdown",
   "metadata": {
    "id": "hW83tPRb6XjN"
   },
   "source": [
    "A little bit of cleaning up."
   ]
  },
  {
   "cell_type": "code",
   "execution_count": 50,
   "metadata": {
    "id": "Vl3bjAWrij5K"
   },
   "outputs": [],
   "source": [
    "# Switch k to thousands (10k $ -> 10,000.00 $)\n",
    "data_salary_notna['salary'] = data_salary_notna.salary.apply(\n",
    "    lambda x: re.sub(\"[0-9](k|K)\", \n",
    "                     re.search(\"[0-9](k|K)\", x).group()[:-1] + \",000.00\", x) \n",
    "    if x is not np.nan and re.search(\"[0-9](k|K)\", x) else x)\n",
    "\n",
    "# Switch per to / (10.00 $ per hour -> 10.00 $ /hour)\n",
    "data_salary_notna['salary'] = data_salary_notna.salary.apply(lambda x: re.sub(\"per \", '/', x) if x is not np.nan else x)"
   ]
  },
  {
   "cell_type": "markdown",
   "metadata": {
    "id": "2ZzfZaMKzvl-"
   },
   "source": [
    "Visible formats in the **salary** column are:\n",
    "* 10.00 - 20.00 &dollar; &sol;hour\n",
    "* 10,000.00 - 20,000.00 &dollar; &sol;year\n",
    "* &dollar;10.00 &sol;hour\n",
    "* &dollar;10,000.00+ &sol;year\n",
    "* Up to &dollar;20,000.00\n",
    "\n",
    "Let's write regular exceptions for these formats."
   ]
  },
  {
   "cell_type": "code",
   "execution_count": 51,
   "metadata": {
    "id": "QY9fchceRTcR"
   },
   "outputs": [],
   "source": [
    "salary_formats = [\"10.00 - 20.00 $ /hour\", \n",
    "                  \"10,000.00 - 20,000.00 $ /year\",\n",
    "                  \"$10.00+ /hour\",  \n",
    "                  \"$10,000.00+ /year\", \n",
    "                  \"Up to $20,000.00\",\n",
    "                  \"Others\"]\n",
    "\n",
    "salary_templates = [\"[0-9\\.]+ - [0-9\\.]+( \\$)? /hour\", \n",
    "                    \"[0-9\\.,]+ - [0-9\\.,]+( \\$)? /year\",\n",
    "                    \"\\$?[0-9\\.]+\\+ /hour\",\n",
    "                    \"\\$?[0-9\\.,]+\\+ /year\",\n",
    "                    \"Up to \\$?[0-9\\.,]+\"]\n",
    "salary_counts = []"
   ]
  },
  {
   "cell_type": "code",
   "execution_count": 52,
   "metadata": {
    "colab": {
     "base_uri": "https://localhost:8080/"
    },
    "id": "NmD4qb_6Ry9K",
    "outputId": "ffb0413b-d673-4e0b-9af0-8aea6de18164"
   },
   "outputs": [
    {
     "data": {
      "text/plain": [
       "13                      9.00 - 13.00 $ /hour \n",
       "30                     62.00 - 81.00 $ /hour \n",
       "43                     15.00 - 16.00 $ /hour \n",
       "68       13.75 - 16.75 $ /hour year end bonus\n",
       "80                     40.00 - 50.00 $ /hour \n",
       "                         ...                 \n",
       "12854                  28.00 - 33.00 $ /hour \n",
       "13673                  45.00 - 55.00 $ /hour \n",
       "17237                    1.00 - 1.00 $ /hour \n",
       "17836                  70.00 - 85.00 $ /hour \n",
       "20146                   9.00 - 13.00 $ /hour \n",
       "Name: salary, Length: 983, dtype: object"
      ]
     },
     "execution_count": 52,
     "metadata": {},
     "output_type": "execute_result"
    }
   ],
   "source": [
    "# 1\n",
    "format1 = data_salary_notna[data_salary_notna.salary.str.match(salary_templates[0])].salary\n",
    "salary_counts.append(len(format1))\n",
    "format1"
   ]
  },
  {
   "cell_type": "code",
   "execution_count": 53,
   "metadata": {
    "colab": {
     "base_uri": "https://localhost:8080/"
    },
    "id": "hEWzlwoedHij",
    "outputId": "7883a334-318e-4c70-9ea9-5ca86af0c661"
   },
   "outputs": [
    {
     "data": {
      "text/plain": [
       "14                          80,000.00 - 95,000.00 $ /year \n",
       "19                          60,000.00 - 72,000.00 $ /year \n",
       "32                         75,000.00 - 100,000.00 $ /year \n",
       "41                          58,000.00 - 65,000.00 $ /year \n",
       "61       45,000.00 - 100,000.00 $ /year bonus, benefits...\n",
       "                               ...                        \n",
       "18472                     100,000.00 - 145,000.00 $ /year \n",
       "19074    50,000.00 - 65,000.00 $ /year bonus (guarantee...\n",
       "19391        34,000.00 - 42,000.00 $ /year quarterly bonus\n",
       "20603                      60,000.00 - 120,000.00 $ /year \n",
       "21763                      60,000.00 - 120,000.00 $ /year \n",
       "Name: salary, Length: 1560, dtype: object"
      ]
     },
     "execution_count": 53,
     "metadata": {},
     "output_type": "execute_result"
    }
   ],
   "source": [
    "# 2\n",
    "format2 = data_salary_notna[data_salary_notna.salary.str.match(salary_templates[1])].salary\n",
    "salary_counts.append(len(format2))\n",
    "format2"
   ]
  },
  {
   "cell_type": "code",
   "execution_count": 54,
   "metadata": {
    "colab": {
     "base_uri": "https://localhost:8080/"
    },
    "id": "tDum-1W8dkhF",
    "outputId": "64adaa3c-1b74-4154-fd97-0f3bdc501856"
   },
   "outputs": [
    {
     "data": {
      "text/plain": [
       "array(['$10.87+ /hour ', '$12.00+ /hour ', '$16.40+ /hour ',\n",
       "       '$13.50+ /hour ', '22.00+ /hour ', '$20.00+ /hour ',\n",
       "       '$13.00+ /hour ', '$15.50+ /hour ', '$11.50+ /hour ',\n",
       "       '13.00+ /hour ', '$10.00+ /hour ', '$16.00+ /hour ',\n",
       "       '$15.41+ /hour ', '$10.50+ /hour ', '$24.92+ /hour ',\n",
       "       '$19.00+ /hour ', '$13.83+ /hour ',\n",
       "       '$12.00+ /hour annual bonus available', '$18.38+ /hour ',\n",
       "       '$12.99+ /hour ', '$14.00+ /hour ', '34.00+ /hour ',\n",
       "       '$14.50+ /hour ', '$10.25+ /hour ', '$15.00+ /hour d.o.e',\n",
       "       '$11.00+ /hour ',\n",
       "       '$25.00+ /hour dependent on experience, regular evaluations for raises',\n",
       "       '$15.00+ /hour ', '$9.50+ /hour ', '$11.52+ /hour ',\n",
       "       '$8.74+ /hour ', '$16.91+ /hour ', '$15.32+ /hour ',\n",
       "       '$22.00+ /hour ', '$19.09+ /hour ', '$25.00+ /hour negotiable',\n",
       "       '$13.00+ /hour production bonus', '16.00+ /hour ',\n",
       "       '$15.12+ /hour ', '$6.00+ /hour tips', '$9.00+ /hour tips',\n",
       "       '$12.50+ /hour ', '$10.00+ /hour bonuses', '$18.00+ /hour ',\n",
       "       '14.00+ /hour ', '16.89+ /hour ', '$9.47+ /hour ',\n",
       "       '$5.03+ /hour tipped wages', '$8.05+ /hour ', '$10.48+ /hour ',\n",
       "       '$20.00+ /hour doe generous benefits', '$32.00+ /hour ',\n",
       "       '$30.65+ /hour '], dtype=object)"
      ]
     },
     "execution_count": 54,
     "metadata": {},
     "output_type": "execute_result"
    }
   ],
   "source": [
    "# 3\n",
    "format3 = data_salary_notna[data_salary_notna.salary.str.match(salary_templates[2])].salary\n",
    "salary_counts.append(len(format3))\n",
    "format3.unique()"
   ]
  },
  {
   "cell_type": "code",
   "execution_count": 55,
   "metadata": {
    "colab": {
     "base_uri": "https://localhost:8080/"
    },
    "id": "3DA1II4iptgV",
    "outputId": "73aed754-2817-476b-f3d1-44fe0d2ac8c6"
   },
   "outputs": [
    {
     "data": {
      "text/plain": [
       "array(['$50,000.00+ /year ', '$40,000.00+ /year ',\n",
       "       '$30,000.00+ /year plus benefits', '45,000.00+ /year ',\n",
       "       '$120,000.00+ /year ', '$50,000.00+ /year base salary plus bonus',\n",
       "       '$70,000.00+ /year ', '$84,800.00+ /year relocation',\n",
       "       '$63,000.00+ /year ', '$50,627.00+ /year ',\n",
       "       '$60,000.00+ /year competitive benefits package',\n",
       "       '$60,000.00+ /year high bonus potential and full benefits package',\n",
       "       '$16.50+ /year ', '$35,000.00+ /year ', '$62,717.00+ /year ',\n",
       "       '$65,000.00+ /year plus overtime pay and discretionary year-end bonus',\n",
       "       '$43,640.00+ /year b.o.e.', '215,000.00+ /year ', '$12.00+ /year ',\n",
       "       '$65,000.00+ /year bonus', '$30,000.00+ /year ',\n",
       "       '$33,000.00+ /year bonus', '$40,800.00+ /year ',\n",
       "       '$48,333.00+ /year ', '$33,000.00+ /year ', '$42,167.00+ /year ',\n",
       "       '$67,500.00+ /year ',\n",
       "       '$25,000.00+ /year commission, auto allowance, telephone allowance',\n",
       "       '$51,446.00+ /year ', '$17.50+ /year ', '$85.00+ /year ',\n",
       "       '$31,000.00+ /year ', '$1,000,000.00+ /year doe',\n",
       "       '$78,000.00+ /year ', '$60,576.00+ /year ', '$75,000.00+ /year ',\n",
       "       '$75,000.00+ /year doe', '$65,000.00+ /year ', '85,000.00+ /year ',\n",
       "       '$36,790.00+ /year ', '$45,611.00+ /year ', '$40,673.00+ /year ',\n",
       "       '$109,000.00+ /year ', '95,000.00+ /year ', '80,000.00+ /year ',\n",
       "       '70,000.00+ /year ', '$25,000.00+ /year commission',\n",
       "       '$150,000.00+ /year ', '40,000.00+ /year ', '39,000.00+ /year ',\n",
       "       '$40,000.00+ /year starting base $40,000.00 or higher (based on experience) + commission(negotiable)',\n",
       "       '$85,000.00+ /year ', '$44,000.00+ /year ', '110,000.00+ /year ',\n",
       "       '$25,000.00+ /year additional spiffs', '38,000.00+ /year ',\n",
       "       '100,000.00+ /year ', '43,000.00+ /year ',\n",
       "       '$50,000.00+ /year pto and potential for bonus',\n",
       "       '$40,000.00+ /year bonus,nicentive', '$15.00+ /year ',\n",
       "       '$150,000.00+ /year with benefits', '$24.00+ /year ',\n",
       "       '$18,500.00+ /year 20 hour s a week!',\n",
       "       '$45,000.00+ /year bonus,incentive based', '$49,000.00+ /year ',\n",
       "       '$11.00+ /year ', '44,000.00+ /year ', '10.00+ /year ',\n",
       "       '32,000.00+ /year ', '31,200.00+ /year ', '$29,000.00+ /year ',\n",
       "       '$32,000.00+ /year ', '$80,000.00+ /year '], dtype=object)"
      ]
     },
     "execution_count": 55,
     "metadata": {},
     "output_type": "execute_result"
    }
   ],
   "source": [
    "# 4\n",
    "format4 = data_salary_notna[data_salary_notna.salary.str.match(salary_templates[3])].salary\n",
    "salary_counts.append(len(format4))\n",
    "format4.unique()"
   ]
  },
  {
   "cell_type": "code",
   "execution_count": 56,
   "metadata": {
    "colab": {
     "base_uri": "https://localhost:8080/"
    },
    "id": "vMWixyBivDKd",
    "outputId": "6d6a4e9f-b889-4e9e-f68d-13ab342f803d"
   },
   "outputs": [
    {
     "data": {
      "text/plain": [
       "array([], dtype=object)"
      ]
     },
     "execution_count": 56,
     "metadata": {},
     "output_type": "execute_result"
    }
   ],
   "source": [
    "# 5\n",
    "format5 = data_salary_notna[data_salary_notna.salary.str.match(salary_templates[4])].salary\n",
    "salary_counts.append(len(format4))\n",
    "format5.unique()"
   ]
  },
  {
   "cell_type": "markdown",
   "metadata": {
    "id": "dDP0SO2l8RRJ"
   },
   "source": [
    "Let's look at the distribution of these formats."
   ]
  },
  {
   "cell_type": "code",
   "execution_count": 57,
   "metadata": {
    "id": "Yc1oAD2mSYsO"
   },
   "outputs": [],
   "source": [
    "others = data_salary_notna.shape[0] - sum(salary_counts)\n",
    "salary_counts.append(others)"
   ]
  },
  {
   "cell_type": "code",
   "execution_count": 58,
   "metadata": {
    "colab": {
     "base_uri": "https://localhost:8080/",
     "height": 447
    },
    "id": "MrLazvs4xeDp",
    "outputId": "4c8e751e-7ee7-412e-8808-68a18353a2a1"
   },
   "outputs": [
    {
     "data": {
      "text/plain": [
       "<AxesSubplot:>"
      ]
     },
     "execution_count": 58,
     "metadata": {},
     "output_type": "execute_result"
    },
    {
     "data": {
      "image/png": "[encoded data removed]",
      "text/plain": [
       "<Figure size 432x288 with 1 Axes>"
      ]
     },
     "metadata": {
      "needs_background": "light"
     },
     "output_type": "display_data"
    }
   ],
   "source": [
    "sns.barplot(x = salary_counts, y = salary_formats, orient = 'h', color = salary_counts,  palette = 'cividis')"
   ]
  },
  {
   "cell_type": "markdown",
   "metadata": {
    "id": "N3LzXtjGNXVj"
   },
   "source": [
    "### Salary numeric value\n",
    "\n",
    "Some records don't mention the time period. So we'll have to guess it by the amount of money."
   ]
  },
  {
   "cell_type": "code",
   "execution_count": 59,
   "metadata": {
    "id": "FnhxSKfkAgbS"
   },
   "outputs": [],
   "source": [
    "# Removing ',' that separates thousands.\n",
    "data_salary_notna['salary'] = data_salary_notna.salary.apply(lambda x: re.sub(',', '', x) if x is not np.nan else x)\n",
    "\n",
    "# Extracting numeric value from salary (taking mean for ranges).\n",
    "salary_value = data_salary_notna.salary.apply(lambda x: np.mean(list(map(float, \n",
    "                                                                         re.findall(\"[0-9]+\\.?[0-9]+\", x)\n",
    "                                                                         ))) if x is not np.nan else x)\n",
    "data_salary_notna.insert(loc=9, column='salary_value', value=salary_value)"
   ]
  },
  {
   "cell_type": "markdown",
   "metadata": {
    "id": "ZLtF1zIQBiwg"
   },
   "source": [
    "Numeric salary size disribution for each time period."
   ]
  },
  {
   "cell_type": "code",
   "execution_count": 60,
   "metadata": {
    "colab": {
     "base_uri": "https://localhost:8080/",
     "height": 489
    },
    "id": "84zeXO752lQh",
    "outputId": "76df7090-c292-493a-fdba-ad9c0ddcdd0c"
   },
   "outputs": [
    {
     "data": {
      "text/plain": [
       "[Text(0.5, 0, 'USD$'), Text(0, 0.5, ''), Text(0.5, 1.0, 'Hourly salary')]"
      ]
     },
     "execution_count": 60,
     "metadata": {},
     "output_type": "execute_result"
    },
    {
     "data": {
      "image/png": "[encoded data removed]",
      "text/plain": [
       "<Figure size 432x288 with 1 Axes>"
      ]
     },
     "metadata": {
      "needs_background": "light"
     },
     "output_type": "display_data"
    }
   ],
   "source": [
    "# Ignoring some outliers for clearer vizualization purpose.\n",
    "data_salary_hour = data_salary_notna[data_salary_notna.salary_period.isin(['hour']) & (data_salary_notna.salary_value < 200)]\n",
    "sns.boxplot(data = data_salary_hour, x = 'salary_value',  palette = 'cividis').set(xlabel='USD$', ylabel=None, title='Hourly salary')"
   ]
  },
  {
   "cell_type": "code",
   "execution_count": 61,
   "metadata": {
    "colab": {
     "base_uri": "https://localhost:8080/"
    },
    "id": "jnBYUKIqDDRU",
    "outputId": "7e65a5ca-23e3-486a-c0a5-11754c049f24"
   },
   "outputs": [
    {
     "data": {
      "text/plain": [
       "count      1062.00000\n",
       "mean        911.10245\n",
       "std       10096.94107\n",
       "min           1.00000\n",
       "25%          12.99250\n",
       "50%          17.00000\n",
       "75%          25.00000\n",
       "max      133681.00000\n",
       "Name: salary_value, dtype: float64"
      ]
     },
     "execution_count": 61,
     "metadata": {},
     "output_type": "execute_result"
    }
   ],
   "source": [
    "# Hour\n",
    "data_salary_notna[data_salary_notna.salary_period == 'hour'].salary_value.describe()"
   ]
  },
  {
   "cell_type": "code",
   "execution_count": 62,
   "metadata": {
    "colab": {
     "base_uri": "https://localhost:8080/",
     "height": 523
    },
    "id": "8S-Ubt4_Acm5",
    "outputId": "a13fa72e-d548-4761-9682-16dfae1d92d0"
   },
   "outputs": [
    {
     "data": {
      "text/plain": [
       "[Text(0.5, 0, 'USD$'),\n",
       " Text(0, 0.5, ''),\n",
       " Text(0.5, 1.0, 'Weekly and monthly salary')]"
      ]
     },
     "execution_count": 62,
     "metadata": {},
     "output_type": "execute_result"
    },
    {
     "data": {
      "image/png": "[encoded data removed]",
      "text/plain": [
       "<Figure size 432x288 with 1 Axes>"
      ]
     },
     "metadata": {
      "needs_background": "light"
     },
     "output_type": "display_data"
    }
   ],
   "source": [
    "data_salary_weekmonth = data_salary_notna[data_salary_notna.salary_period.isin(['month', 'week'])]\n",
    "sns.boxplot(data = data_salary_weekmonth, x = 'salary_value', y = 'salary_period',  palette = 'cividis').set(xlabel='USD$', ylabel=None, title='Weekly and monthly salary')"
   ]
  },
  {
   "cell_type": "code",
   "execution_count": 63,
   "metadata": {
    "colab": {
     "base_uri": "https://localhost:8080/"
    },
    "id": "WcVnNuGfDuRK",
    "outputId": "a832c9f5-92cf-41a7-b85f-6715e02b78b3"
   },
   "outputs": [
    {
     "data": {
      "text/plain": [
       "count       5.000000\n",
       "mean      752.400000\n",
       "std       480.134148\n",
       "min        12.000000\n",
       "25%       700.000000\n",
       "50%       700.000000\n",
       "75%      1100.000000\n",
       "max      1250.000000\n",
       "Name: salary_value, dtype: float64"
      ]
     },
     "execution_count": 63,
     "metadata": {},
     "output_type": "execute_result"
    }
   ],
   "source": [
    "# Week\n",
    "data_salary_notna[data_salary_notna.salary_period == 'week'].salary_value.describe()"
   ]
  },
  {
   "cell_type": "code",
   "execution_count": 64,
   "metadata": {
    "colab": {
     "base_uri": "https://localhost:8080/"
    },
    "id": "YnuJyKj6GO3-",
    "outputId": "b00177b2-d3ce-4e3a-fdac-51fdcf24f521"
   },
   "outputs": [
    {
     "data": {
      "text/plain": [
       "1103     1100.0\n",
       "8668     1250.0\n",
       "8909      700.0\n",
       "9184      700.0\n",
       "13217      12.0\n",
       "Name: salary_value, dtype: float64"
      ]
     },
     "execution_count": 64,
     "metadata": {},
     "output_type": "execute_result"
    }
   ],
   "source": [
    "data_salary_notna[data_salary_notna.salary_period == 'week'].salary_value"
   ]
  },
  {
   "cell_type": "code",
   "execution_count": 65,
   "metadata": {
    "colab": {
     "base_uri": "https://localhost:8080/"
    },
    "id": "kZZqedgaD5Sp",
    "outputId": "49c9bb57-9e6e-440d-a012-c07372c743d4"
   },
   "outputs": [
    {
     "data": {
      "text/plain": [
       "count       16.000000\n",
       "mean      6972.256250\n",
       "std       5115.551819\n",
       "min       1878.000000\n",
       "25%       4115.875000\n",
       "50%       5610.500000\n",
       "75%       7237.666250\n",
       "max      19329.970000\n",
       "Name: salary_value, dtype: float64"
      ]
     },
     "execution_count": 65,
     "metadata": {},
     "output_type": "execute_result"
    }
   ],
   "source": [
    "# Month\n",
    "data_salary_notna[data_salary_notna.salary_period == 'month'].salary_value.describe()"
   ]
  },
  {
   "cell_type": "code",
   "execution_count": 66,
   "metadata": {
    "colab": {
     "base_uri": "https://localhost:8080/"
    },
    "id": "PFuQkj4yGW6R",
    "outputId": "62c84cb7-45d2-4f85-f748-1438fdae74c1"
   },
   "outputs": [
    {
     "data": {
      "text/plain": [
       "2662     19329.970\n",
       "2900      3501.775\n",
       "3300     19329.970\n",
       "3317      7446.665\n",
       "3345      5401.860\n",
       "3622      5742.315\n",
       "5949      4903.980\n",
       "12333     2650.000\n",
       "13554     6883.065\n",
       "14150     4182.000\n",
       "14558     7168.000\n",
       "15189     1878.000\n",
       "16337     5708.500\n",
       "17609     5512.500\n",
       "18109     8000.000\n",
       "19265     3917.500\n",
       "Name: salary_value, dtype: float64"
      ]
     },
     "execution_count": 66,
     "metadata": {},
     "output_type": "execute_result"
    }
   ],
   "source": [
    "data_salary_notna[data_salary_notna.salary_period == 'month'].salary_value"
   ]
  },
  {
   "cell_type": "code",
   "execution_count": 67,
   "metadata": {
    "colab": {
     "base_uri": "https://localhost:8080/",
     "height": 489
    },
    "id": "n7-B8jYFBEY8",
    "outputId": "ac71e18d-42a2-4877-ba0b-2184c9955edc"
   },
   "outputs": [
    {
     "data": {
      "text/plain": [
       "[Text(0.5, 0, 'USD$'), Text(0, 0.5, ''), Text(0.5, 1.0, 'Yearly salary')]"
      ]
     },
     "execution_count": 67,
     "metadata": {},
     "output_type": "execute_result"
    },
    {
     "data": {
      "image/png": "[encoded data removed]",
      "text/plain": [
       "<Figure size 432x288 with 1 Axes>"
      ]
     },
     "metadata": {
      "needs_background": "light"
     },
     "output_type": "display_data"
    }
   ],
   "source": [
    "# Ignoring some outliers for clearer vizualization purpose.\n",
    "data_salary_year = data_salary_notna[data_salary_notna.salary_period.isin(['year']) & (data_salary_notna.salary_value < 300000)]\n",
    "sns.boxplot(data = data_salary_year, x = 'salary_value',  palette = 'cividis').set(xlabel='USD$', ylabel=None, title='Yearly salary')"
   ]
  },
  {
   "cell_type": "code",
   "execution_count": 68,
   "metadata": {
    "colab": {
     "base_uri": "https://localhost:8080/"
    },
    "id": "nSKtT19_EBqy",
    "outputId": "14fc4a92-7b30-4b5f-8542-d9c287573465"
   },
   "outputs": [
    {
     "data": {
      "text/plain": [
       "count       1662.000000\n",
       "mean       73069.859695\n",
       "std        56587.485100\n",
       "min            0.500000\n",
       "25%        46000.000000\n",
       "50%        66683.000000\n",
       "75%        90000.000000\n",
       "max      1000000.000000\n",
       "Name: salary_value, dtype: float64"
      ]
     },
     "execution_count": 68,
     "metadata": {},
     "output_type": "execute_result"
    }
   ],
   "source": [
    "# Year\n",
    "data_salary_notna[data_salary_notna.salary_period == 'year'].salary_value.describe()"
   ]
  },
  {
   "cell_type": "markdown",
   "metadata": {
    "id": "nRNrtM_POw1u"
   },
   "source": [
    "Considering plots and statistics found for each time period, I came up with these \"borderline\" values."
   ]
  },
  {
   "cell_type": "code",
   "execution_count": 69,
   "metadata": {
    "id": "-73GhQcNIs66"
   },
   "outputs": [],
   "source": [
    "# Top value for hourly salary would be 100 (determined visually by plot)\n",
    "hour_week = 100\n",
    "\n",
    "# Top value for weekly salary would be the maximum in this category\n",
    "week_month = data_salary_notna[data_salary_notna.salary_period == 'week'].salary_value.max()\n",
    "\n",
    "# Top value for monthly salary would be the maximum in this category\n",
    "month_year = data_salary_notna[data_salary_notna.salary_period == 'month'].salary_value.max()\n",
    "\n",
    "# Yearly salary would be everything above top monthly salary"
   ]
  },
  {
   "cell_type": "code",
   "execution_count": 70,
   "metadata": {
    "id": "gMkvn3e3fpxH"
   },
   "outputs": [],
   "source": [
    "def get_period(x):\n",
    "  if x is np.nan:\n",
    "    return np.nan\n",
    "\n",
    "  if x < hour_week:\n",
    "    return 'hour'\n",
    "  \n",
    "  if x < week_month:\n",
    "    return 'week'\n",
    "  \n",
    "  if x < month_year:\n",
    "    return 'month'\n",
    "\n",
    "  return 'year'\n",
    "\n",
    "\n",
    "data_salary_notna['salary_period'] = data_salary_notna.apply(lambda x: get_period(x.salary_value) if x.salary_period not in ('hour', 'week', 'month', 'year') else x.salary_period, axis=1)"
   ]
  },
  {
   "cell_type": "markdown",
   "metadata": {
    "id": "CJU9wcI5_TdE"
   },
   "source": [
    "### New salary columns\n",
    "\n",
    "The **salary** column can be split into 5 columns:\n",
    "1. **salary_range_type** (\"from - up to\" / \"from\" / \"up to\" / NaN)\n",
    "2. **salary_period** (\"year\" / \"month\" / \"week\" / \"hour\" etc.)\n",
    "3. **salary_value_from** - numeric salary value if salary_range_type equals to \"from - up to\" or \"from\".\n",
    "4. **salary_value_upto** - numeric salary value if salary_range_type equals to \"from - up to\" or \"up to\".\n",
    "5. **salary_bonuses** - boolean value, whether bonuses are mentioned in the salary column or not.\n"
   ]
  },
  {
   "cell_type": "code",
   "execution_count": 71,
   "metadata": {
    "id": "DfjD6NuJZo6r"
   },
   "outputs": [],
   "source": [
    "def split_salary(x):\n",
    "  value_from = np.nan\n",
    "  value_upto = np.nan\n",
    "  salary_range_type = np.nan\n",
    "  if re.fullmatch(\"[0-9\\.]+ - [0-9\\.]+( \\$)? .*\", x):\n",
    "    values = list(map(float, re.findall(\"[0-9]+\\.?[0-9]+\", x)))\n",
    "    value_from = values[0]\n",
    "    value_upto = values[1]\n",
    "    salary_range_type = \"from - up to\"\n",
    "\n",
    "  if re.fullmatch(\"\\$?[0-9\\.]+\\+ .*\", x):\n",
    "    value_from = list(map(float, re.findall(\"[0-9]+\\.?[0-9]+\", x)))[0]\n",
    "    salary_range_type = \"from\"\n",
    "\n",
    "  if re.fullmatch(\"Up to \\$?[0-9\\.,]+\", x):\n",
    "    value_from = list(map(float, re.findall(\"[0-9]+\\.?[0-9]+\", x)))[0]\n",
    "    salary_range_type = \"up to\"\n",
    "\n",
    "  return salary_range_type, value_from, value_upto"
   ]
  },
  {
   "cell_type": "code",
   "execution_count": 72,
   "metadata": {
    "id": "irOGn662ZNt3"
   },
   "outputs": [],
   "source": [
    "salary_range_type = data_salary_notna.salary.apply(lambda x: split_salary(x)[0])\n",
    "salary_value_from = data_salary_notna.salary.apply(lambda x: split_salary(x)[1])\n",
    "salary_value_upto = data_salary_notna.salary.apply(lambda x: split_salary(x)[2])\n",
    "salary_bonuses = data_salary_notna.salary.apply(lambda x: bool(re.search(\"bonus\", x)))\n",
    "\n",
    "data_salary_notna.insert(loc=10, column='salary_range_type', value=salary_range_type)\n",
    "data_salary_notna.insert(loc=11, column='salary_value_from', value=salary_value_from)\n",
    "data_salary_notna.insert(loc=12, column='salary_value_upto', value=salary_value_upto)\n",
    "data_salary_notna.insert(loc=13, column='salary_bonuses', value=salary_bonuses)"
   ]
  },
  {
   "cell_type": "code",
   "execution_count": 73,
   "metadata": {
    "colab": {
     "base_uri": "https://localhost:8080/",
     "height": 933
    },
    "id": "Zw6tPGmCe0ku",
    "outputId": "95d43bfe-8b04-4ab5-f44e-2196648998de"
   },
   "outputs": [
    {
     "data": {
      "text/html": [
       "<div>\n",
       "<style scoped>\n",
       "    .dataframe tbody tr th:only-of-type {\n",
       "        vertical-align: middle;\n",
       "    }\n",
       "\n",
       "    .dataframe tbody tr th {\n",
       "        vertical-align: top;\n",
       "    }\n",
       "\n",
       "    .dataframe thead th {\n",
       "        text-align: right;\n",
       "    }\n",
       "</style>\n",
       "<table border=\"1\" class=\"dataframe\">\n",
       "  <thead>\n",
       "    <tr style=\"text-align: right;\">\n",
       "      <th></th>\n",
       "      <th>job_description</th>\n",
       "      <th>job_title</th>\n",
       "      <th>job_type</th>\n",
       "      <th>city</th>\n",
       "      <th>state</th>\n",
       "      <th>postcode</th>\n",
       "      <th>organization</th>\n",
       "      <th>salary_period</th>\n",
       "      <th>salary_range_type</th>\n",
       "      <th>salary_value_from</th>\n",
       "      <th>salary_value_upto</th>\n",
       "      <th>salary_bonuses</th>\n",
       "      <th>sector</th>\n",
       "    </tr>\n",
       "  </thead>\n",
       "  <tbody>\n",
       "    <tr>\n",
       "      <th>11906</th>\n",
       "      <td>Special Counsel is immediately hiring a Projec...</td>\n",
       "      <td>Project Manager Job in Penn's Park</td>\n",
       "      <td>Full Time Employee</td>\n",
       "      <td>Penns Park</td>\n",
       "      <td>PA</td>\n",
       "      <td>18943</td>\n",
       "      <td>NaN</td>\n",
       "      <td>NaN</td>\n",
       "      <td>NaN</td>\n",
       "      <td>NaN</td>\n",
       "      <td>NaN</td>\n",
       "      <td>NaN</td>\n",
       "      <td>Legal</td>\n",
       "    </tr>\n",
       "    <tr>\n",
       "      <th>13014</th>\n",
       "      <td>Therapist IIlicensed counselor (LCPC, LCSW-C, ...</td>\n",
       "      <td>Therapist II Licensed counselor (LCPC</td>\n",
       "      <td>Full Time</td>\n",
       "      <td>Annapolis Junction</td>\n",
       "      <td>MD</td>\n",
       "      <td>20701</td>\n",
       "      <td>NaN</td>\n",
       "      <td>NaN</td>\n",
       "      <td>NaN</td>\n",
       "      <td>NaN</td>\n",
       "      <td>NaN</td>\n",
       "      <td>NaN</td>\n",
       "      <td>NaN</td>\n",
       "    </tr>\n",
       "    <tr>\n",
       "      <th>10022</th>\n",
       "      <td>Hertz Local Edition is seeking professionals t...</td>\n",
       "      <td>Transporter Job in Panama City</td>\n",
       "      <td>Full Time / Employee</td>\n",
       "      <td>Panama City</td>\n",
       "      <td>FL</td>\n",
       "      <td>NaN</td>\n",
       "      <td>NaN</td>\n",
       "      <td>NaN</td>\n",
       "      <td>NaN</td>\n",
       "      <td>NaN</td>\n",
       "      <td>NaN</td>\n",
       "      <td>NaN</td>\n",
       "      <td>Manufacturing/Production/Operations</td>\n",
       "    </tr>\n",
       "    <tr>\n",
       "      <th>15230</th>\n",
       "      <td>Description You are an experienced Real Estate...</td>\n",
       "      <td>Real Estate Paralegal Job in Seattle</td>\n",
       "      <td>Full Time Employee</td>\n",
       "      <td>Seattle</td>\n",
       "      <td>WA</td>\n",
       "      <td>NaN</td>\n",
       "      <td>Manufacturing - Other</td>\n",
       "      <td>NaN</td>\n",
       "      <td>NaN</td>\n",
       "      <td>NaN</td>\n",
       "      <td>NaN</td>\n",
       "      <td>NaN</td>\n",
       "      <td>Manufacturing/Production/Operations</td>\n",
       "    </tr>\n",
       "    <tr>\n",
       "      <th>21423</th>\n",
       "      <td>Retail Sales RepresentativeMen's Wearhouse is ...</td>\n",
       "      <td>Retail Sales Representative Job in Cincinnati</td>\n",
       "      <td>Full Time Employee</td>\n",
       "      <td>Cincinnati</td>\n",
       "      <td>OH</td>\n",
       "      <td>45246</td>\n",
       "      <td>RetailAutomotive Sales and Repair Services</td>\n",
       "      <td>NaN</td>\n",
       "      <td>NaN</td>\n",
       "      <td>NaN</td>\n",
       "      <td>NaN</td>\n",
       "      <td>NaN</td>\n",
       "      <td>Sales/Retail/Business Development</td>\n",
       "    </tr>\n",
       "    <tr>\n",
       "      <th>840</th>\n",
       "      <td>The Judge Group is looking for an Oracle Devel...</td>\n",
       "      <td>Oracle Developer Job in Dallas</td>\n",
       "      <td>Full Time, Employee</td>\n",
       "      <td>Dallas</td>\n",
       "      <td>TX</td>\n",
       "      <td>NaN</td>\n",
       "      <td>Computer/IT Services</td>\n",
       "      <td>NaN</td>\n",
       "      <td>NaN</td>\n",
       "      <td>NaN</td>\n",
       "      <td>NaN</td>\n",
       "      <td>NaN</td>\n",
       "      <td>IT/Software Development</td>\n",
       "    </tr>\n",
       "    <tr>\n",
       "      <th>823</th>\n",
       "      <td>Court Security OfficerShared Time PositionRosw...</td>\n",
       "      <td>Court Security Officer (Shared Time Position) ...</td>\n",
       "      <td>Part Time</td>\n",
       "      <td>Roswell</td>\n",
       "      <td>NM</td>\n",
       "      <td>NaN</td>\n",
       "      <td>Government and Military</td>\n",
       "      <td>NaN</td>\n",
       "      <td>NaN</td>\n",
       "      <td>NaN</td>\n",
       "      <td>NaN</td>\n",
       "      <td>NaN</td>\n",
       "      <td>Experienced (Non-Manager)</td>\n",
       "    </tr>\n",
       "    <tr>\n",
       "      <th>1210</th>\n",
       "      <td>RESPONSIBILITIES:Kforce has a client that is s...</td>\n",
       "      <td>SharePoint Developer Job in Purchase</td>\n",
       "      <td>Full Time, Employee</td>\n",
       "      <td>Purchase</td>\n",
       "      <td>NY</td>\n",
       "      <td>10577</td>\n",
       "      <td>NaN</td>\n",
       "      <td>NaN</td>\n",
       "      <td>NaN</td>\n",
       "      <td>NaN</td>\n",
       "      <td>NaN</td>\n",
       "      <td>NaN</td>\n",
       "      <td>Experienced (Non-Manager)</td>\n",
       "    </tr>\n",
       "    <tr>\n",
       "      <th>6335</th>\n",
       "      <td>91L Construction Vehicle Repairer Job Descript...</td>\n",
       "      <td>L Construction Vehicle Repairer Job in Wahoo</td>\n",
       "      <td>Full Time Employee</td>\n",
       "      <td>Wahoo</td>\n",
       "      <td>NE</td>\n",
       "      <td>68066</td>\n",
       "      <td>NaN</td>\n",
       "      <td>NaN</td>\n",
       "      <td>NaN</td>\n",
       "      <td>NaN</td>\n",
       "      <td>NaN</td>\n",
       "      <td>NaN</td>\n",
       "      <td>Entry Level</td>\n",
       "    </tr>\n",
       "    <tr>\n",
       "      <th>10309</th>\n",
       "      <td>Ritchie Engineering Company, Inc. is a leading...</td>\n",
       "      <td>Production Line Lead - Hose Department Job in ...</td>\n",
       "      <td>Full Time</td>\n",
       "      <td>Bloomington</td>\n",
       "      <td>MN</td>\n",
       "      <td>55438</td>\n",
       "      <td>Manufacturing - Other</td>\n",
       "      <td>NaN</td>\n",
       "      <td>NaN</td>\n",
       "      <td>NaN</td>\n",
       "      <td>NaN</td>\n",
       "      <td>NaN</td>\n",
       "      <td>NaN</td>\n",
       "    </tr>\n",
       "  </tbody>\n",
       "</table>\n",
       "</div>"
      ],
      "text/plain": [
       "                                         job_description  \\\n",
       "11906  Special Counsel is immediately hiring a Projec...   \n",
       "13014  Therapist IIlicensed counselor (LCPC, LCSW-C, ...   \n",
       "10022  Hertz Local Edition is seeking professionals t...   \n",
       "15230  Description You are an experienced Real Estate...   \n",
       "21423  Retail Sales RepresentativeMen's Wearhouse is ...   \n",
       "840    The Judge Group is looking for an Oracle Devel...   \n",
       "823    Court Security OfficerShared Time PositionRosw...   \n",
       "1210   RESPONSIBILITIES:Kforce has a client that is s...   \n",
       "6335   91L Construction Vehicle Repairer Job Descript...   \n",
       "10309  Ritchie Engineering Company, Inc. is a leading...   \n",
       "\n",
       "                                               job_title  \\\n",
       "11906                 Project Manager Job in Penn's Park   \n",
       "13014              Therapist II Licensed counselor (LCPC   \n",
       "10022                     Transporter Job in Panama City   \n",
       "15230               Real Estate Paralegal Job in Seattle   \n",
       "21423      Retail Sales Representative Job in Cincinnati   \n",
       "840                       Oracle Developer Job in Dallas   \n",
       "823    Court Security Officer (Shared Time Position) ...   \n",
       "1210                SharePoint Developer Job in Purchase   \n",
       "6335        L Construction Vehicle Repairer Job in Wahoo   \n",
       "10309  Production Line Lead - Hose Department Job in ...   \n",
       "\n",
       "                   job_type                city state postcode  \\\n",
       "11906    Full Time Employee          Penns Park    PA    18943   \n",
       "13014             Full Time  Annapolis Junction    MD    20701   \n",
       "10022  Full Time / Employee         Panama City    FL      NaN   \n",
       "15230    Full Time Employee             Seattle    WA      NaN   \n",
       "21423    Full Time Employee          Cincinnati    OH    45246   \n",
       "840     Full Time, Employee              Dallas    TX      NaN   \n",
       "823               Part Time             Roswell    NM      NaN   \n",
       "1210    Full Time, Employee            Purchase    NY    10577   \n",
       "6335     Full Time Employee               Wahoo    NE    68066   \n",
       "10309             Full Time         Bloomington    MN    55438   \n",
       "\n",
       "                                     organization salary_period  \\\n",
       "11906                                         NaN           NaN   \n",
       "13014                                         NaN           NaN   \n",
       "10022                                         NaN           NaN   \n",
       "15230                       Manufacturing - Other           NaN   \n",
       "21423  RetailAutomotive Sales and Repair Services           NaN   \n",
       "840                          Computer/IT Services           NaN   \n",
       "823                       Government and Military           NaN   \n",
       "1210                                          NaN           NaN   \n",
       "6335                                          NaN           NaN   \n",
       "10309                       Manufacturing - Other           NaN   \n",
       "\n",
       "      salary_range_type  salary_value_from  salary_value_upto salary_bonuses  \\\n",
       "11906               NaN                NaN                NaN            NaN   \n",
       "13014               NaN                NaN                NaN            NaN   \n",
       "10022               NaN                NaN                NaN            NaN   \n",
       "15230               NaN                NaN                NaN            NaN   \n",
       "21423               NaN                NaN                NaN            NaN   \n",
       "840                 NaN                NaN                NaN            NaN   \n",
       "823                 NaN                NaN                NaN            NaN   \n",
       "1210                NaN                NaN                NaN            NaN   \n",
       "6335                NaN                NaN                NaN            NaN   \n",
       "10309               NaN                NaN                NaN            NaN   \n",
       "\n",
       "                                    sector  \n",
       "11906                                Legal  \n",
       "13014                                  NaN  \n",
       "10022  Manufacturing/Production/Operations  \n",
       "15230  Manufacturing/Production/Operations  \n",
       "21423    Sales/Retail/Business Development  \n",
       "840                IT/Software Development  \n",
       "823              Experienced (Non-Manager)  \n",
       "1210             Experienced (Non-Manager)  \n",
       "6335                           Entry Level  \n",
       "10309                                  NaN  "
      ]
     },
     "execution_count": 73,
     "metadata": {},
     "output_type": "execute_result"
    }
   ],
   "source": [
    "data_salary_notna.drop('salary_value', axis=1, inplace=True)\n",
    "data = pd.concat([data_salary_notna, data_salary_na])\n",
    "data.drop('salary', axis=1, inplace=True)\n",
    "data.sample(10)"
   ]
  },
  {
   "cell_type": "markdown",
   "metadata": {
    "id": "cQZa1dUvXPZc"
   },
   "source": [
    "## Job_type"
   ]
  },
  {
   "cell_type": "markdown",
   "metadata": {
    "id": "DIzzeRoO8PpP"
   },
   "source": [
    "Let's take a look at what type of values there are in the column **job_type**."
   ]
  },
  {
   "cell_type": "code",
   "execution_count": 74,
   "metadata": {
    "colab": {
     "base_uri": "https://localhost:8080/"
    },
    "id": "PbFXp8J6BN--",
    "outputId": "ce2679ad-4f57-494c-8c38-96157f3295cb"
   },
   "outputs": [
    {
     "data": {
      "text/plain": [
       "Full Time                                        6009\n",
       "Full Time Employee                               5543\n",
       "Full Time, Employee                              2409\n",
       "Full Time Temporary/Contract/Project              913\n",
       "Full Time, Temporary/Contract/Project             445\n",
       "Full Time , Employee                              305\n",
       "Part Time Employee                                304\n",
       "Part Time                                         298\n",
       "Temporary/Contract/Project                        153\n",
       "Part Time, Employee                               151\n",
       "Employee                                          137\n",
       "Full Time / Employee                              107\n",
       "Full Time , Temporary/Contract/Project             48\n",
       "Per Diem, Employee                                 21\n",
       "Per Diem                                           20\n",
       "Job Type Full Time Employee                        19\n",
       "Part Time, Temporary/Contract/Project              19\n",
       "Part Time/ Temporary/Contract/Project              14\n",
       "Part Time Seasonal                                 12\n",
       "Per Diem Employee                                  11\n",
       "Part Time Temporary/Contract/Project                6\n",
       "Full Time Intern                                    5\n",
       "Part Time , Employee                                4\n",
       "Full Time                                           4\n",
       "Job Type Part Time Employee                         2\n",
       "Job Type Full Time Temporary/Contract/Project       2\n",
       "Part Time Intern                                    2\n",
       "Job Type Full Time                                  2\n",
       "Part Time / Employee                                2\n",
       "Job Type Employee                                   1\n",
       "Part Time , Temporary/Contract/Project              1\n",
       "Full Time  Employee                                 1\n",
       "Part Time, Intern                                   1\n",
       "Per Diem, Temporary/Contract/Project                1\n",
       "Part Time                                           1\n",
       "Full Time / Temporary/Contract/Project              1\n",
       "Name: job_type, dtype: int64"
      ]
     },
     "execution_count": 74,
     "metadata": {},
     "output_type": "execute_result"
    }
   ],
   "source": [
    "data_jobtype_notna = data[data.job_type.notna()]\n",
    "data_jobtype_na = data[data.job_type.isna()]\n",
    "data_jobtype_notna.job_type.value_counts()"
   ]
  },
  {
   "cell_type": "markdown",
   "metadata": {
    "id": "CpUXRxhoXsdy"
   },
   "source": [
    "A little work with symbols and punctuation marks in order to unify formats."
   ]
  },
  {
   "cell_type": "code",
   "execution_count": 75,
   "metadata": {
    "id": "PWjtCWuvoCVi"
   },
   "outputs": [],
   "source": [
    "data_jobtype_notna.job_type = (data_jobtype_notna.job_type.apply(lambda x: re.sub(\"Job Type \", '', x).strip())\n",
    "                                                          .apply(lambda x: re.sub(\"\\xa0\", ' ', x).strip())\n",
    "                                                          .apply(lambda x: re.sub(\" / \", ', ', x).strip())\n",
    "                                                          .apply(lambda x: re.sub(\" , \", ', ', x).strip())\n",
    "                                                          .apply(lambda x: re.sub(\"Part Time/? \", \"Part Time, \", x).strip())\n",
    "                                                          .apply(lambda x: re.sub(\"Full Time/? \", \"Full Time, \", x).strip())\n",
    "                                                          .apply(lambda x: re.sub(\"Per Diem/? \", \"Per Diem, \", x).strip())\n",
    "                                                          .apply(lambda x: re.sub(\"  \", ' ', x).strip()))"
   ]
  },
  {
   "cell_type": "code",
   "execution_count": 76,
   "metadata": {
    "colab": {
     "base_uri": "https://localhost:8080/"
    },
    "id": "1Jn2gorjtCgb",
    "outputId": "efe8e832-0258-46f9-c0a1-59848ac0f1aa"
   },
   "outputs": [
    {
     "data": {
      "text/plain": [
       "Full Time, Employee                      8384\n",
       "Full Time                                6015\n",
       "Full Time, Temporary/Contract/Project    1409\n",
       "Part Time, Employee                       463\n",
       "Part Time                                 299\n",
       "Temporary/Contract/Project                153\n",
       "Employee                                  138\n",
       "Part Time, Temporary/Contract/Project      40\n",
       "Per Diem, Employee                         32\n",
       "Per Diem                                   20\n",
       "Part Time, Seasonal                        12\n",
       "Full Time, Intern                           5\n",
       "Part Time, Intern                           3\n",
       "Per Diem, Temporary/Contract/Project        1\n",
       "Name: job_type, dtype: int64"
      ]
     },
     "execution_count": 76,
     "metadata": {},
     "output_type": "execute_result"
    }
   ],
   "source": [
    "data_jobtype_notna.job_type.value_counts()"
   ]
  },
  {
   "cell_type": "markdown",
   "metadata": {
    "id": "dMktmgY-2aY5"
   },
   "source": [
    "Now we have a lot less unique **job_type** values."
   ]
  },
  {
   "cell_type": "markdown",
   "metadata": {
    "id": "gr0ZfNRLBpj6"
   },
   "source": [
    "We can clearly see that here we have both schedule type and employment type in one column. Let's break it into two columns."
   ]
  },
  {
   "cell_type": "code",
   "execution_count": 77,
   "metadata": {
    "id": "gW7GoMgkbtLx"
   },
   "outputs": [],
   "source": [
    "def split_job_type(x):\n",
    "  schedule_type = 'Full Time'\n",
    "  employment_type = 'Employee'\n",
    "  values = x.split(', ')\n",
    "  if len(values) == 1:\n",
    "    if values[0] in ('Full Time', 'Part Time', 'Par Diem'):\n",
    "      schedule_type = values[0]\n",
    "    else:\n",
    "      employment_type = values[0]\n",
    "  else:\n",
    "    schedule_type = values[0]\n",
    "    employment_type = values[1]\n",
    "  return schedule_type, employment_type\n",
    "    \n",
    "\n",
    "schedule_type = data_jobtype_notna.job_type.apply(lambda x: split_job_type(x)[0])\n",
    "employment_type = data_jobtype_notna.job_type.apply(lambda x: split_job_type(x)[1])\n",
    "\n",
    "data_jobtype_notna.insert(loc=2, column='schedule_type', value=schedule_type)\n",
    "data_jobtype_notna.insert(loc=3, column='employment_type', value=employment_type)\n",
    "\n",
    "\n",
    "data_jobtype_na.insert(loc=2, column='schedule_type', value=\"Full Time\")\n",
    "data_jobtype_na.insert(loc=3, column='employment_type', value=\"Employee\")"
   ]
  },
  {
   "cell_type": "code",
   "execution_count": 78,
   "metadata": {
    "colab": {
     "base_uri": "https://localhost:8080/",
     "height": 848
    },
    "id": "XUOq-FD43rwS",
    "outputId": "5df2f0d8-7ea7-492c-db75-f233728c540a"
   },
   "outputs": [
    {
     "data": {
      "text/html": [
       "<div>\n",
       "<style scoped>\n",
       "    .dataframe tbody tr th:only-of-type {\n",
       "        vertical-align: middle;\n",
       "    }\n",
       "\n",
       "    .dataframe tbody tr th {\n",
       "        vertical-align: top;\n",
       "    }\n",
       "\n",
       "    .dataframe thead th {\n",
       "        text-align: right;\n",
       "    }\n",
       "</style>\n",
       "<table border=\"1\" class=\"dataframe\">\n",
       "  <thead>\n",
       "    <tr style=\"text-align: right;\">\n",
       "      <th></th>\n",
       "      <th>job_description</th>\n",
       "      <th>job_title</th>\n",
       "      <th>schedule_type</th>\n",
       "      <th>employment_type</th>\n",
       "      <th>city</th>\n",
       "      <th>state</th>\n",
       "      <th>postcode</th>\n",
       "      <th>organization</th>\n",
       "      <th>salary_period</th>\n",
       "      <th>salary_range_type</th>\n",
       "      <th>salary_value_from</th>\n",
       "      <th>salary_value_upto</th>\n",
       "      <th>salary_bonuses</th>\n",
       "      <th>sector</th>\n",
       "    </tr>\n",
       "  </thead>\n",
       "  <tbody>\n",
       "    <tr>\n",
       "      <th>19448</th>\n",
       "      <td>Critical Care RN Registered Nurse - Travel to ...</td>\n",
       "      <td>Critical Care RN Registered Nurse - Travel to ...</td>\n",
       "      <td>Full Time</td>\n",
       "      <td>Temporary/Contract/Project</td>\n",
       "      <td>New York City</td>\n",
       "      <td>NY</td>\n",
       "      <td>10029</td>\n",
       "      <td>NaN</td>\n",
       "      <td>NaN</td>\n",
       "      <td>NaN</td>\n",
       "      <td>NaN</td>\n",
       "      <td>NaN</td>\n",
       "      <td>NaN</td>\n",
       "      <td>Medical/Health</td>\n",
       "    </tr>\n",
       "    <tr>\n",
       "      <th>17757</th>\n",
       "      <td>Check out the following fantastic career oppor...</td>\n",
       "      <td>Implementation Manager I Job in Irving</td>\n",
       "      <td>Full Time</td>\n",
       "      <td>Employee</td>\n",
       "      <td>Irving</td>\n",
       "      <td>TX</td>\n",
       "      <td>NaN</td>\n",
       "      <td>Healthcare Services</td>\n",
       "      <td>NaN</td>\n",
       "      <td>NaN</td>\n",
       "      <td>NaN</td>\n",
       "      <td>NaN</td>\n",
       "      <td>NaN</td>\n",
       "      <td>NaN</td>\n",
       "    </tr>\n",
       "    <tr>\n",
       "      <th>5714</th>\n",
       "      <td>Legal Billing Clerk Special Counsel is hiring ...</td>\n",
       "      <td>Temporary Legal Billing Clerk Job in Philadelphia</td>\n",
       "      <td>Full Time</td>\n",
       "      <td>Temporary/Contract/Project</td>\n",
       "      <td>Philadelphia</td>\n",
       "      <td>PA</td>\n",
       "      <td>19103</td>\n",
       "      <td>NaN</td>\n",
       "      <td>NaN</td>\n",
       "      <td>NaN</td>\n",
       "      <td>NaN</td>\n",
       "      <td>NaN</td>\n",
       "      <td>NaN</td>\n",
       "      <td>Legal</td>\n",
       "    </tr>\n",
       "    <tr>\n",
       "      <th>20741</th>\n",
       "      <td>City:Savannah State:Georgia Postal/Zip Code:31...</td>\n",
       "      <td>Quality Control Lab Technician - Savannah</td>\n",
       "      <td>Full Time</td>\n",
       "      <td>Employee</td>\n",
       "      <td>Savannah</td>\n",
       "      <td>GA</td>\n",
       "      <td>NaN</td>\n",
       "      <td>NaN</td>\n",
       "      <td>NaN</td>\n",
       "      <td>NaN</td>\n",
       "      <td>NaN</td>\n",
       "      <td>NaN</td>\n",
       "      <td>NaN</td>\n",
       "      <td>NaN</td>\n",
       "    </tr>\n",
       "    <tr>\n",
       "      <th>10884</th>\n",
       "      <td>Staff Accountant Job in San Diego, CA  Are you...</td>\n",
       "      <td>Staff Accountant Job in San Diego</td>\n",
       "      <td>Full Time</td>\n",
       "      <td>Temporary/Contract/Project</td>\n",
       "      <td>San Diego</td>\n",
       "      <td>CA</td>\n",
       "      <td>92123</td>\n",
       "      <td>NaN</td>\n",
       "      <td>NaN</td>\n",
       "      <td>NaN</td>\n",
       "      <td>NaN</td>\n",
       "      <td>NaN</td>\n",
       "      <td>NaN</td>\n",
       "      <td>Accounting/Finance/Insurance</td>\n",
       "    </tr>\n",
       "    <tr>\n",
       "      <th>11812</th>\n",
       "      <td>Job Title: Production Systems Technician Area ...</td>\n",
       "      <td>Production Systems Technician Job in San Jose</td>\n",
       "      <td>Full Time</td>\n",
       "      <td>Employee</td>\n",
       "      <td>San Jose</td>\n",
       "      <td>CA</td>\n",
       "      <td>NaN</td>\n",
       "      <td>Computer Hardware</td>\n",
       "      <td>NaN</td>\n",
       "      <td>NaN</td>\n",
       "      <td>NaN</td>\n",
       "      <td>NaN</td>\n",
       "      <td>NaN</td>\n",
       "      <td>NaN</td>\n",
       "    </tr>\n",
       "    <tr>\n",
       "      <th>17816</th>\n",
       "      <td>Custom Care Home Health &amp; Hospice is seeking a...</td>\n",
       "      <td>Certified Nursing Assistant for Home Health &amp; ...</td>\n",
       "      <td>Full Time</td>\n",
       "      <td>Employee</td>\n",
       "      <td>Dallas</td>\n",
       "      <td>TX</td>\n",
       "      <td>75240</td>\n",
       "      <td>All</td>\n",
       "      <td>NaN</td>\n",
       "      <td>NaN</td>\n",
       "      <td>NaN</td>\n",
       "      <td>NaN</td>\n",
       "      <td>NaN</td>\n",
       "      <td>Experienced (Non-Manager)</td>\n",
       "    </tr>\n",
       "    <tr>\n",
       "      <th>5872</th>\n",
       "      <td>Stellar corporate opportunity with a top AmLaw...</td>\n",
       "      <td>Stellar Opportunity for Mid-Level M&amp;A Attorney...</td>\n",
       "      <td>Full Time</td>\n",
       "      <td>Employee</td>\n",
       "      <td>New York</td>\n",
       "      <td>NY</td>\n",
       "      <td>10112</td>\n",
       "      <td>NaN</td>\n",
       "      <td>NaN</td>\n",
       "      <td>NaN</td>\n",
       "      <td>NaN</td>\n",
       "      <td>NaN</td>\n",
       "      <td>NaN</td>\n",
       "      <td>Legal</td>\n",
       "    </tr>\n",
       "    <tr>\n",
       "      <th>16920</th>\n",
       "      <td>ENTRY LEVEL - Marketing / Advertising / Public...</td>\n",
       "      <td>ENTRY LEVEL Openings-Immediate Hire / FULL PAI...</td>\n",
       "      <td>Full Time</td>\n",
       "      <td>Employee</td>\n",
       "      <td>Little Rock</td>\n",
       "      <td>AR</td>\n",
       "      <td>72211</td>\n",
       "      <td>RetailAdvertising and PR ServicesOther/Not Cla...</td>\n",
       "      <td>NaN</td>\n",
       "      <td>NaN</td>\n",
       "      <td>NaN</td>\n",
       "      <td>NaN</td>\n",
       "      <td>NaN</td>\n",
       "      <td>Customer Support/Client Care</td>\n",
       "    </tr>\n",
       "    <tr>\n",
       "      <th>4587</th>\n",
       "      <td>Do you find yourself asking this question?\"Ho...</td>\n",
       "      <td>Event Team Hiring : Customer Service / Marketi...</td>\n",
       "      <td>Full Time</td>\n",
       "      <td>Employee</td>\n",
       "      <td>Renton</td>\n",
       "      <td>WA</td>\n",
       "      <td>98057</td>\n",
       "      <td>Advertising and PR Services Entertainment Venu...</td>\n",
       "      <td>NaN</td>\n",
       "      <td>NaN</td>\n",
       "      <td>NaN</td>\n",
       "      <td>NaN</td>\n",
       "      <td>NaN</td>\n",
       "      <td>Project/Program Management</td>\n",
       "    </tr>\n",
       "  </tbody>\n",
       "</table>\n",
       "</div>"
      ],
      "text/plain": [
       "                                         job_description  \\\n",
       "19448  Critical Care RN Registered Nurse - Travel to ...   \n",
       "17757  Check out the following fantastic career oppor...   \n",
       "5714   Legal Billing Clerk Special Counsel is hiring ...   \n",
       "20741  City:Savannah State:Georgia Postal/Zip Code:31...   \n",
       "10884  Staff Accountant Job in San Diego, CA  Are you...   \n",
       "11812  Job Title: Production Systems Technician Area ...   \n",
       "17816  Custom Care Home Health & Hospice is seeking a...   \n",
       "5872   Stellar corporate opportunity with a top AmLaw...   \n",
       "16920  ENTRY LEVEL - Marketing / Advertising / Public...   \n",
       "4587    Do you find yourself asking this question?\"Ho...   \n",
       "\n",
       "                                               job_title schedule_type  \\\n",
       "19448  Critical Care RN Registered Nurse - Travel to ...     Full Time   \n",
       "17757             Implementation Manager I Job in Irving     Full Time   \n",
       "5714   Temporary Legal Billing Clerk Job in Philadelphia     Full Time   \n",
       "20741          Quality Control Lab Technician - Savannah     Full Time   \n",
       "10884                  Staff Accountant Job in San Diego     Full Time   \n",
       "11812      Production Systems Technician Job in San Jose     Full Time   \n",
       "17816  Certified Nursing Assistant for Home Health & ...     Full Time   \n",
       "5872   Stellar Opportunity for Mid-Level M&A Attorney...     Full Time   \n",
       "16920  ENTRY LEVEL Openings-Immediate Hire / FULL PAI...     Full Time   \n",
       "4587   Event Team Hiring : Customer Service / Marketi...     Full Time   \n",
       "\n",
       "                  employment_type           city state postcode  \\\n",
       "19448  Temporary/Contract/Project  New York City    NY    10029   \n",
       "17757                    Employee         Irving    TX      NaN   \n",
       "5714   Temporary/Contract/Project   Philadelphia    PA    19103   \n",
       "20741                    Employee       Savannah    GA      NaN   \n",
       "10884  Temporary/Contract/Project      San Diego    CA    92123   \n",
       "11812                    Employee       San Jose    CA      NaN   \n",
       "17816                    Employee         Dallas    TX    75240   \n",
       "5872                     Employee       New York    NY    10112   \n",
       "16920                    Employee    Little Rock    AR    72211   \n",
       "4587                     Employee         Renton    WA    98057   \n",
       "\n",
       "                                            organization salary_period  \\\n",
       "19448                                                NaN           NaN   \n",
       "17757                                Healthcare Services           NaN   \n",
       "5714                                                 NaN           NaN   \n",
       "20741                                                NaN           NaN   \n",
       "10884                                                NaN           NaN   \n",
       "11812                                  Computer Hardware           NaN   \n",
       "17816                                                All           NaN   \n",
       "5872                                                 NaN           NaN   \n",
       "16920  RetailAdvertising and PR ServicesOther/Not Cla...           NaN   \n",
       "4587   Advertising and PR Services Entertainment Venu...           NaN   \n",
       "\n",
       "      salary_range_type  salary_value_from  salary_value_upto salary_bonuses  \\\n",
       "19448               NaN                NaN                NaN            NaN   \n",
       "17757               NaN                NaN                NaN            NaN   \n",
       "5714                NaN                NaN                NaN            NaN   \n",
       "20741               NaN                NaN                NaN            NaN   \n",
       "10884               NaN                NaN                NaN            NaN   \n",
       "11812               NaN                NaN                NaN            NaN   \n",
       "17816               NaN                NaN                NaN            NaN   \n",
       "5872                NaN                NaN                NaN            NaN   \n",
       "16920               NaN                NaN                NaN            NaN   \n",
       "4587                NaN                NaN                NaN            NaN   \n",
       "\n",
       "                             sector  \n",
       "19448                Medical/Health  \n",
       "17757                           NaN  \n",
       "5714                          Legal  \n",
       "20741                           NaN  \n",
       "10884  Accounting/Finance/Insurance  \n",
       "11812                           NaN  \n",
       "17816     Experienced (Non-Manager)  \n",
       "5872                          Legal  \n",
       "16920  Customer Support/Client Care  \n",
       "4587     Project/Program Management  "
      ]
     },
     "execution_count": 78,
     "metadata": {},
     "output_type": "execute_result"
    }
   ],
   "source": [
    "data = pd.concat([data_jobtype_notna, data_jobtype_na])\n",
    "data.drop('job_type', axis=1, inplace=True)\n",
    "data.sample(10)"
   ]
  },
  {
   "cell_type": "markdown",
   "metadata": {
    "id": "PiAXreTbB98j"
   },
   "source": [
    "## Job_title"
   ]
  },
  {
   "cell_type": "markdown",
   "metadata": {
    "id": "oG_klforddFz"
   },
   "source": [
    "**job_title** column values frequently follow the pattern \"[Job name] Job In [City]\"."
   ]
  },
  {
   "cell_type": "code",
   "execution_count": 79,
   "metadata": {
    "colab": {
     "base_uri": "https://localhost:8080/"
    },
    "id": "6Bvoo90MM8ai",
    "outputId": "2c83a25a-1410-43b8-d984-200fa15b0eeb"
   },
   "outputs": [
    {
     "data": {
      "text/plain": [
       "Staff Accountant Job In Dallas                                   17\n",
       "Senior Accountant Job In Dallas                                  13\n",
       "Sales Representative Job In Dallas                                7\n",
       "Customer Service Representative Job In Dallas                     6\n",
       "Retail Sales Associate Job In Cincinnati                          6\n",
       "                                                                 ..\n",
       "Attorney - Real Estate Litigation (ny Barred) Job In New York     1\n",
       "Military Health Systems Paralegal Job In Aurora                   1\n",
       "Associate Attorney Job In Middletown                              1\n",
       "Commercial Real Estate Attorney Job In Garden City                1\n",
       "Production Supervisor Rd Shift Job In Arcadia                     1\n",
       "Name: job_title, Length: 16163, dtype: int64"
      ]
     },
     "execution_count": 79,
     "metadata": {},
     "output_type": "execute_result"
    }
   ],
   "source": [
    "# Converting to the title case.\n",
    "data.job_title = data.job_title.apply(lambda x: ' '.join(map(lambda y: y.capitalize(), x.split())))\n",
    "indx = data.job_title.apply(lambda x: bool(re.search('Job', x)))\n",
    "data[indx].job_title.value_counts()"
   ]
  },
  {
   "cell_type": "markdown",
   "metadata": {
    "id": "Ec9S0y41RDzE"
   },
   "source": [
    "We can get rid of the \"... Job In [City]\" part to get only the pure job title (so that same jobs in different cities would have same values in job_title column)."
   ]
  },
  {
   "cell_type": "code",
   "execution_count": 80,
   "metadata": {
    "colab": {
     "base_uri": "https://localhost:8080/"
    },
    "id": "gtqZnfXgR8gx",
    "outputId": "b367e784-7437-4bf5-bcfc-edbc7ad73913"
   },
   "outputs": [
    {
     "data": {
      "text/plain": [
       "Cybercoders                                            236\n",
       "Project Manager                                        130\n",
       "N Horizontal Construction Engineers                    104\n",
       "L Construction Vehicle Repairer                         87\n",
       "Restaurant Manager                                      86\n",
       "                                                      ... \n",
       "Registered Surveyor                                      1\n",
       "Deskside / Tier Ii/iii Implementation /support           1\n",
       "Project Staff Accountant                                 1\n",
       "Infrastructure Project Manager - Columbus Oh             1\n",
       "Career Management Consultant- Project - Cincinnatti      1\n",
       "Name: job_title, Length: 12153, dtype: int64"
      ]
     },
     "execution_count": 80,
     "metadata": {},
     "output_type": "execute_result"
    }
   ],
   "source": [
    "data.job_title = data.job_title.apply(lambda x: re.sub('Job.*', '', x))\n",
    "data.job_title.value_counts()"
   ]
  },
  {
   "cell_type": "markdown",
   "metadata": {
    "id": "rDSULfNhkFaG"
   },
   "source": [
    "Some entries have dash-separated values that are supposed to be in other columns, but they follow no particular order, so it would be hard to distribute them between those columns."
   ]
  },
  {
   "cell_type": "code",
   "execution_count": 81,
   "metadata": {
    "colab": {
     "base_uri": "https://localhost:8080/"
    },
    "id": "j3ia5IrMTnEQ",
    "outputId": "62c86663-6aa9-46bd-dea9-0ac232130c44"
   },
   "outputs": [
    {
     "data": {
      "text/plain": [
       "B Combat Engineer - Construction And Engineering Specialist      85\n",
       "Aflac - Benefits Sales Consultant                                32\n",
       "Residential Lawn Specialist -                                    18\n",
       "Manufacturing – Change Career To - Truck Driver – Entry Level    16\n",
       "Class A Cdl Driver - Tsc                                         12\n",
       "                                                                 ..\n",
       "Director Of Med Mgmt - Rn Registered Nurse (full Time/ Hrs)       1\n",
       "Instructor - Full Time - Cosmetology                              1\n",
       "Commercial Operations Manager (r&e) - Houston                     1\n",
       "Associate Sales Consultant - Knoxville                            1\n",
       "Career Management Consultant- Project - Cincinnatti               1\n",
       "Name: job_title, Length: 2742, dtype: int64"
      ]
     },
     "execution_count": 81,
     "metadata": {},
     "output_type": "execute_result"
    }
   ],
   "source": [
    "indx = data.job_title.apply(lambda x: bool(re.search(' - ', x)))\n",
    "data[indx].job_title.value_counts()"
   ]
  },
  {
   "cell_type": "markdown",
   "metadata": {
    "id": "kqn7qfzIduSi"
   },
   "source": [
    "## Organization"
   ]
  },
  {
   "cell_type": "code",
   "execution_count": 82,
   "metadata": {
    "colab": {
     "base_uri": "https://localhost:8080/"
    },
    "id": "3oS6BCGKdp0l",
    "outputId": "5d51267e-f02a-405c-8675-807d10fe0edb"
   },
   "outputs": [
    {
     "data": {
      "text/plain": [
       "Healthcare Services                                                            1439\n",
       "All                                                                             983\n",
       "Other/Not Classified                                                            911\n",
       "Manufacturing - Other                                                           766\n",
       "Computer/IT Services                                                            656\n",
       "                                                                               ... \n",
       "City Of Industry, CA 91744                                                        1\n",
       "Travel, Transportation and Tourism Healthcare Services Other/Not Classified       1\n",
       "Computer SoftwareBusiness Services - Other                                        1\n",
       "Computer/IT ServicesOther/Not Classified                                          1\n",
       "Arcadia, WI 54612                                                                 1\n",
       "Name: organization, Length: 653, dtype: int64"
      ]
     },
     "execution_count": 82,
     "metadata": {},
     "output_type": "execute_result"
    }
   ],
   "source": [
    "data_org_notna = data[data.organization.notna()]\n",
    "data_org_na = data[data.organization.isna()]\n",
    "data_org_notna.organization.value_counts()"
   ]
  },
  {
   "cell_type": "markdown",
   "metadata": {
    "id": "1813y5HWxrUX"
   },
   "source": [
    "Values like \"All\", \"Other\", \"Not Classified\" are not senseless and can be deleted."
   ]
  },
  {
   "cell_type": "code",
   "execution_count": 83,
   "metadata": {
    "id": "BvwAKA2gyF9u"
   },
   "outputs": [],
   "source": [
    "data_org_notna.organization = ( data_org_notna.organization.apply(lambda x: re.sub(\"( - )|;\", '; ', x).strip())\n",
    "                                                           .apply(lambda x: re.sub(\"(All)|(Other)\", '', x).strip())\n",
    "                                                           .apply(lambda x: re.sub(\"/Not Classified\", '', x).strip())\n",
    "                                                           .apply(lambda x: re.sub('&', 'and', x).strip()))"
   ]
  },
  {
   "cell_type": "code",
   "execution_count": 84,
   "metadata": {
    "id": "UCWMNu7X91xX"
   },
   "outputs": [],
   "source": [
    "# Some words have stuck to each other (e.g. RetailAdvertising). We need to separate them.\n",
    "def split_borders(x):\n",
    "  borders = re.findall(\"[a-z][A-Z]\", x)\n",
    "  for i, pair in enumerate(borders):\n",
    "    x = re.sub(\"[a-z][A-Z]\", borders[i][0]+'; '+borders[i][1], x, count=1)\n",
    "  return x\n",
    "\n",
    "data_org_notna.organization = ( data_org_notna.organization.apply(lambda x: split_borders(x))\n",
    "                                              .apply(lambda x: re.sub(\"Services(?!;|$)\", \"Services;\", x))\n",
    "                                              .apply(lambda x: re.sub(\";$\", '', x))\n",
    "                                              .apply(lambda x: np.nan if not x else x) )"
   ]
  },
  {
   "cell_type": "code",
   "execution_count": 85,
   "metadata": {
    "id": "YetqpwfOIc0u"
   },
   "outputs": [],
   "source": [
    "# Removing organization column values that are actually locations.\n",
    "def org_is_location(x):\n",
    "  for val in re.sub(\",\", '', x.organization).split():\n",
    "    if (val == x.city) or (val == x.state) or (val == x.postcode):\n",
    "      return True\n",
    "  return False\n",
    "\n",
    "data_org_notna.organization = data_org_notna.apply(lambda x: np.nan if (x.organization is np.nan) or  org_is_location(x) else x.organization, axis=1)"
   ]
  },
  {
   "cell_type": "code",
   "execution_count": 86,
   "metadata": {
    "colab": {
     "base_uri": "https://localhost:8080/"
    },
    "id": "pIOFodJbKquW",
    "outputId": "f889dc61-353a-4c96-9e56-82a1a8b01519"
   },
   "outputs": [
    {
     "data": {
      "text/plain": [
       "6566     Construction; Industrial Facilities and Infras...\n",
       "20657                                               Retail\n",
       "6582                                                   NaN\n",
       "4956                    Travel, Transportation and Tourism\n",
       "7928     Advertising and PR Services; Staffing/Employme...\n",
       "13260                                        Manufacturing\n",
       "6272                      Accounting and Auditing Services\n",
       "14384                                                  NaN\n",
       "19379                         Staffing/Employment Agencies\n",
       "6752                              Restaurant/Food Services\n",
       "17306                                                  NaN\n",
       "14204                                            Insurance\n",
       "4530                         Biotechnology/Pharmaceuticals\n",
       "11086                                 Computer/IT Services\n",
       "5190     Construction; Industrial Facilities and Infras...\n",
       "Name: organization, dtype: object"
      ]
     },
     "execution_count": 86,
     "metadata": {},
     "output_type": "execute_result"
    }
   ],
   "source": [
    "data_org_notna.sample(15).organization"
   ]
  },
  {
   "cell_type": "code",
   "execution_count": 87,
   "metadata": {
    "id": "Mru5AQi3r2a-"
   },
   "outputs": [],
   "source": [
    "data = pd.concat([data_org_notna, data_org_na])"
   ]
  },
  {
   "cell_type": "markdown",
   "metadata": {
    "id": "DeD-KK2FMgAL"
   },
   "source": [
    "## Sector"
   ]
  },
  {
   "cell_type": "code",
   "execution_count": 88,
   "metadata": {
    "colab": {
     "base_uri": "https://localhost:8080/"
    },
    "id": "8XVR_HT9MkTO",
    "outputId": "6a8bced8-2c64-489d-81dd-c1405dfb6ab2"
   },
   "outputs": [
    {
     "data": {
      "text/plain": [
       "Experienced (Non-Manager)                                                                                           3870\n",
       "Entry Level                                                                                                         1011\n",
       "Medical/Health                                                                                                       930\n",
       "Manager (Manager/Supervisor of Staff)                                                                                811\n",
       "Sales/Retail/Business Development                                                                                    762\n",
       "                                                                                                                    ... \n",
       "Equipment Install/Maintain/RepairFacilities Management/MaintenanceGeneral/Other: Installation/Maintenance/Repair       1\n",
       "Real Estate Leasing/Acquisition                                                                                        1\n",
       "Occupational Health and Safety                                                                                         1\n",
       "Food Safety and InspectionGeneral/Other: Quality Assurance/SafetyProduction Quality Assurance                          1\n",
       "Patient Care Support/Nursing Assistant                                                                                 1\n",
       "Name: sector, Length: 162, dtype: int64"
      ]
     },
     "execution_count": 88,
     "metadata": {},
     "output_type": "execute_result"
    }
   ],
   "source": [
    "data_sector_notna = data[data.sector.notna()]\n",
    "data_sector_na = data[data.sector.isna()]\n",
    "data_sector_notna.sector.value_counts()"
   ]
  },
  {
   "cell_type": "code",
   "execution_count": 89,
   "metadata": {
    "id": "WrbHzHgzvvL_"
   },
   "outputs": [],
   "source": [
    "# Removing useless generic words like General/Other and separating stuck-together words (e.g. DevelopmentFinancial)\n",
    "data_sector_notna.sector = ( data_sector_notna.sector.apply(lambda x: re.sub(\"(General/Other: )|(Other)|(, etc)\", '', x).strip()) \n",
    "                                               .apply(lambda x: split_borders(x))\n",
    "                                               .apply(lambda x: np.nan if not x else x) )"
   ]
  },
  {
   "cell_type": "code",
   "execution_count": 90,
   "metadata": {
    "colab": {
     "base_uri": "https://localhost:8080/",
     "height": 619
    },
    "id": "i7N8fWVr5bje",
    "outputId": "0fb29388-985c-4067-bd10-f5a3e678655b"
   },
   "outputs": [
    {
     "data": {
      "text/html": [
       "<div>\n",
       "<style scoped>\n",
       "    .dataframe tbody tr th:only-of-type {\n",
       "        vertical-align: middle;\n",
       "    }\n",
       "\n",
       "    .dataframe tbody tr th {\n",
       "        vertical-align: top;\n",
       "    }\n",
       "\n",
       "    .dataframe thead th {\n",
       "        text-align: right;\n",
       "    }\n",
       "</style>\n",
       "<table border=\"1\" class=\"dataframe\">\n",
       "  <thead>\n",
       "    <tr style=\"text-align: right;\">\n",
       "      <th></th>\n",
       "      <th>job_description</th>\n",
       "      <th>job_title</th>\n",
       "      <th>schedule_type</th>\n",
       "      <th>employment_type</th>\n",
       "      <th>city</th>\n",
       "      <th>state</th>\n",
       "      <th>postcode</th>\n",
       "      <th>organization</th>\n",
       "      <th>salary_period</th>\n",
       "      <th>salary_range_type</th>\n",
       "      <th>salary_value_from</th>\n",
       "      <th>salary_value_upto</th>\n",
       "      <th>salary_bonuses</th>\n",
       "      <th>sector</th>\n",
       "    </tr>\n",
       "  </thead>\n",
       "  <tbody>\n",
       "    <tr>\n",
       "      <th>16091</th>\n",
       "      <td>Job Description:SUMMARY: Responsible for recei...</td>\n",
       "      <td>Switchboard Operator</td>\n",
       "      <td>Full Time</td>\n",
       "      <td>Temporary/Contract/Project</td>\n",
       "      <td>Cincinnati</td>\n",
       "      <td>OH</td>\n",
       "      <td>45206</td>\n",
       "      <td>NaN</td>\n",
       "      <td>NaN</td>\n",
       "      <td>NaN</td>\n",
       "      <td>NaN</td>\n",
       "      <td>NaN</td>\n",
       "      <td>NaN</td>\n",
       "      <td>Experienced (Non-Manager)</td>\n",
       "    </tr>\n",
       "    <tr>\n",
       "      <th>16459</th>\n",
       "      <td>Vault Clerk opportunity in Dallas with leading...</td>\n",
       "      <td>Vault Clerk (day Shift) Opportunity In Dallas ...</td>\n",
       "      <td>Full Time</td>\n",
       "      <td>Temporary/Contract/Project</td>\n",
       "      <td>Dallas</td>\n",
       "      <td>TX</td>\n",
       "      <td>75212</td>\n",
       "      <td>NaN</td>\n",
       "      <td>NaN</td>\n",
       "      <td>NaN</td>\n",
       "      <td>NaN</td>\n",
       "      <td>NaN</td>\n",
       "      <td>NaN</td>\n",
       "      <td>Customer Support/Client Care</td>\n",
       "    </tr>\n",
       "    <tr>\n",
       "      <th>5285</th>\n",
       "      <td>Weinstock Immigration Lawyers - Dunwoody Locat...</td>\n",
       "      <td>Immigration Paralegal / Immigration Specialist</td>\n",
       "      <td>Full Time</td>\n",
       "      <td>Employee</td>\n",
       "      <td>Dunwoody</td>\n",
       "      <td>GA</td>\n",
       "      <td>30338</td>\n",
       "      <td>Legal Services</td>\n",
       "      <td>NaN</td>\n",
       "      <td>NaN</td>\n",
       "      <td>NaN</td>\n",
       "      <td>NaN</td>\n",
       "      <td>NaN</td>\n",
       "      <td>Experienced (Non-Manager)</td>\n",
       "    </tr>\n",
       "    <tr>\n",
       "      <th>14767</th>\n",
       "      <td>Kforce is one of the premier leaders in the st...</td>\n",
       "      <td>Talent Management Analyst</td>\n",
       "      <td>Full Time</td>\n",
       "      <td>Employee</td>\n",
       "      <td>Tampa</td>\n",
       "      <td>FL</td>\n",
       "      <td>33605</td>\n",
       "      <td>NaN</td>\n",
       "      <td>NaN</td>\n",
       "      <td>NaN</td>\n",
       "      <td>NaN</td>\n",
       "      <td>NaN</td>\n",
       "      <td>NaN</td>\n",
       "      <td>Experienced (Non-Manager)</td>\n",
       "    </tr>\n",
       "    <tr>\n",
       "      <th>4230</th>\n",
       "      <td>UPS Supply Chain Solutions is seeking a Soluti...</td>\n",
       "      <td>Ups Solutions Coordinator</td>\n",
       "      <td>Full Time</td>\n",
       "      <td>Employee</td>\n",
       "      <td>Overland Park</td>\n",
       "      <td>KS</td>\n",
       "      <td>66210</td>\n",
       "      <td>Transport and Storage; Materials</td>\n",
       "      <td>NaN</td>\n",
       "      <td>NaN</td>\n",
       "      <td>NaN</td>\n",
       "      <td>NaN</td>\n",
       "      <td>NaN</td>\n",
       "      <td>Customer Support/Client Care</td>\n",
       "    </tr>\n",
       "    <tr>\n",
       "      <th>5223</th>\n",
       "      <td>Monarch Investment is seeking a Maintenance Te...</td>\n",
       "      <td>Apartment Maintenance Technician</td>\n",
       "      <td>Full Time</td>\n",
       "      <td>Employee</td>\n",
       "      <td>Columbus</td>\n",
       "      <td>OH</td>\n",
       "      <td>NaN</td>\n",
       "      <td>Real Estate/Property Management</td>\n",
       "      <td>hour</td>\n",
       "      <td>from - up to</td>\n",
       "      <td>14.0</td>\n",
       "      <td>17.0</td>\n",
       "      <td>True</td>\n",
       "      <td>Experienced (Non-Manager)</td>\n",
       "    </tr>\n",
       "    <tr>\n",
       "      <th>18649</th>\n",
       "      <td>Health Imperatives is seeking an experienced N...</td>\n",
       "      <td>Nurse Practitioner</td>\n",
       "      <td>Full Time</td>\n",
       "      <td>Employee</td>\n",
       "      <td>Westfield</td>\n",
       "      <td>MA</td>\n",
       "      <td>01086</td>\n",
       "      <td>Nonprofit Charitable Organizations</td>\n",
       "      <td>hour</td>\n",
       "      <td>from - up to</td>\n",
       "      <td>48.0</td>\n",
       "      <td>49.0</td>\n",
       "      <td>False</td>\n",
       "      <td>Experienced (Non-Manager)</td>\n",
       "    </tr>\n",
       "  </tbody>\n",
       "</table>\n",
       "</div>"
      ],
      "text/plain": [
       "                                         job_description  \\\n",
       "16091  Job Description:SUMMARY: Responsible for recei...   \n",
       "16459  Vault Clerk opportunity in Dallas with leading...   \n",
       "5285   Weinstock Immigration Lawyers - Dunwoody Locat...   \n",
       "14767  Kforce is one of the premier leaders in the st...   \n",
       "4230   UPS Supply Chain Solutions is seeking a Soluti...   \n",
       "5223   Monarch Investment is seeking a Maintenance Te...   \n",
       "18649  Health Imperatives is seeking an experienced N...   \n",
       "\n",
       "                                               job_title schedule_type  \\\n",
       "16091                              Switchboard Operator      Full Time   \n",
       "16459  Vault Clerk (day Shift) Opportunity In Dallas ...     Full Time   \n",
       "5285     Immigration Paralegal / Immigration Specialist      Full Time   \n",
       "14767                         Talent Management Analyst      Full Time   \n",
       "4230                          Ups Solutions Coordinator      Full Time   \n",
       "5223                   Apartment Maintenance Technician      Full Time   \n",
       "18649                                Nurse Practitioner      Full Time   \n",
       "\n",
       "                  employment_type           city state postcode  \\\n",
       "16091  Temporary/Contract/Project     Cincinnati    OH    45206   \n",
       "16459  Temporary/Contract/Project         Dallas    TX    75212   \n",
       "5285                     Employee       Dunwoody    GA    30338   \n",
       "14767                    Employee          Tampa    FL    33605   \n",
       "4230                     Employee  Overland Park    KS    66210   \n",
       "5223                     Employee       Columbus    OH      NaN   \n",
       "18649                    Employee      Westfield    MA    01086   \n",
       "\n",
       "                             organization salary_period salary_range_type  \\\n",
       "16091                                 NaN           NaN               NaN   \n",
       "16459                                 NaN           NaN               NaN   \n",
       "5285                       Legal Services           NaN               NaN   \n",
       "14767                                 NaN           NaN               NaN   \n",
       "4230     Transport and Storage; Materials           NaN               NaN   \n",
       "5223      Real Estate/Property Management          hour      from - up to   \n",
       "18649  Nonprofit Charitable Organizations          hour      from - up to   \n",
       "\n",
       "       salary_value_from  salary_value_upto salary_bonuses  \\\n",
       "16091                NaN                NaN            NaN   \n",
       "16459                NaN                NaN            NaN   \n",
       "5285                 NaN                NaN            NaN   \n",
       "14767                NaN                NaN            NaN   \n",
       "4230                 NaN                NaN            NaN   \n",
       "5223                14.0               17.0           True   \n",
       "18649               48.0               49.0          False   \n",
       "\n",
       "                             sector  \n",
       "16091     Experienced (Non-Manager)  \n",
       "16459  Customer Support/Client Care  \n",
       "5285      Experienced (Non-Manager)  \n",
       "14767     Experienced (Non-Manager)  \n",
       "4230   Customer Support/Client Care  \n",
       "5223      Experienced (Non-Manager)  \n",
       "18649     Experienced (Non-Manager)  "
      ]
     },
     "execution_count": 90,
     "metadata": {},
     "output_type": "execute_result"
    }
   ],
   "source": [
    "data_sector_notna.sample(7)"
   ]
  },
  {
   "cell_type": "code",
   "execution_count": 91,
   "metadata": {
    "id": "BMY75DgQ4nRp"
   },
   "outputs": [],
   "source": [
    "data = pd.concat([data_sector_notna, data_sector_na])"
   ]
  },
  {
   "cell_type": "markdown",
   "metadata": {
    "id": "PlVfw-OHgMan"
   },
   "source": [
    "# Result and final thoughts"
   ]
  },
  {
   "cell_type": "markdown",
   "metadata": {
    "id": "me1xLXoVne0D"
   },
   "source": [
    "Here is the cleaned-up dataset."
   ]
  },
  {
   "cell_type": "code",
   "execution_count": 92,
   "metadata": {
    "colab": {
     "base_uri": "https://localhost:8080/",
     "height": 899
    },
    "id": "NKGQ8NyZDCOS",
    "outputId": "dbe763c4-75ec-4f05-fb6f-11d07318d08d"
   },
   "outputs": [
    {
     "data": {
      "text/html": [
       "<div>\n",
       "<style scoped>\n",
       "    .dataframe tbody tr th:only-of-type {\n",
       "        vertical-align: middle;\n",
       "    }\n",
       "\n",
       "    .dataframe tbody tr th {\n",
       "        vertical-align: top;\n",
       "    }\n",
       "\n",
       "    .dataframe thead th {\n",
       "        text-align: right;\n",
       "    }\n",
       "</style>\n",
       "<table border=\"1\" class=\"dataframe\">\n",
       "  <thead>\n",
       "    <tr style=\"text-align: right;\">\n",
       "      <th></th>\n",
       "      <th>job_description</th>\n",
       "      <th>job_title</th>\n",
       "      <th>schedule_type</th>\n",
       "      <th>employment_type</th>\n",
       "      <th>city</th>\n",
       "      <th>state</th>\n",
       "      <th>postcode</th>\n",
       "      <th>organization</th>\n",
       "      <th>salary_period</th>\n",
       "      <th>salary_range_type</th>\n",
       "      <th>salary_value_from</th>\n",
       "      <th>salary_value_upto</th>\n",
       "      <th>salary_bonuses</th>\n",
       "      <th>sector</th>\n",
       "    </tr>\n",
       "  </thead>\n",
       "  <tbody>\n",
       "    <tr>\n",
       "      <th>18995</th>\n",
       "      <td>To eat. To laugh. To share. That’s why people ...</td>\n",
       "      <td>Pizza Hut - Assistant Manager Kaukauna</td>\n",
       "      <td>Full Time</td>\n",
       "      <td>Employee</td>\n",
       "      <td>Kaukauna</td>\n",
       "      <td>WI</td>\n",
       "      <td>54130</td>\n",
       "      <td>Restaurant/Food Services</td>\n",
       "      <td>NaN</td>\n",
       "      <td>NaN</td>\n",
       "      <td>NaN</td>\n",
       "      <td>NaN</td>\n",
       "      <td>NaN</td>\n",
       "      <td>Food Services/Hospitality</td>\n",
       "    </tr>\n",
       "    <tr>\n",
       "      <th>1108</th>\n",
       "      <td>« back Learn More DBA - AM03 Job #:  668982Ape...</td>\n",
       "      <td>Dba - Am</td>\n",
       "      <td>Full Time</td>\n",
       "      <td>Employee</td>\n",
       "      <td>Dallas</td>\n",
       "      <td>TX</td>\n",
       "      <td>NaN</td>\n",
       "      <td>Computer/IT Services</td>\n",
       "      <td>NaN</td>\n",
       "      <td>NaN</td>\n",
       "      <td>NaN</td>\n",
       "      <td>NaN</td>\n",
       "      <td>NaN</td>\n",
       "      <td>Experienced (Non-Manager)</td>\n",
       "    </tr>\n",
       "    <tr>\n",
       "      <th>21542</th>\n",
       "      <td>Summary Brand Ambassador Sales part Time   We ...</td>\n",
       "      <td>Brand Ambassador Sales Part Time</td>\n",
       "      <td>Part Time</td>\n",
       "      <td>Employee</td>\n",
       "      <td>Cincinnati</td>\n",
       "      <td>OH</td>\n",
       "      <td>NaN</td>\n",
       "      <td>Retail</td>\n",
       "      <td>NaN</td>\n",
       "      <td>NaN</td>\n",
       "      <td>NaN</td>\n",
       "      <td>NaN</td>\n",
       "      <td>NaN</td>\n",
       "      <td>Sales/Retail/Business Development</td>\n",
       "    </tr>\n",
       "    <tr>\n",
       "      <th>18712</th>\n",
       "      <td>Assistant Restaurant Manager/Director  Big Lea...</td>\n",
       "      <td>Assistant Restaurant Manager / Food &amp; Beverage...</td>\n",
       "      <td>Full Time</td>\n",
       "      <td>Employee</td>\n",
       "      <td>Manteca</td>\n",
       "      <td>CA</td>\n",
       "      <td>95337</td>\n",
       "      <td>Sports and Physical Recreation</td>\n",
       "      <td>NaN</td>\n",
       "      <td>NaN</td>\n",
       "      <td>NaN</td>\n",
       "      <td>NaN</td>\n",
       "      <td>NaN</td>\n",
       "      <td>Manager (Manager/Supervisor of Staff)</td>\n",
       "    </tr>\n",
       "    <tr>\n",
       "      <th>2363</th>\n",
       "      <td>Financial Analyst Job in New York City, NYC Fo...</td>\n",
       "      <td>Staff Accountant</td>\n",
       "      <td>Full Time</td>\n",
       "      <td>Employee</td>\n",
       "      <td>New York</td>\n",
       "      <td>NY</td>\n",
       "      <td>10017</td>\n",
       "      <td>NaN</td>\n",
       "      <td>year</td>\n",
       "      <td>from - up to</td>\n",
       "      <td>65000.0</td>\n",
       "      <td>75000.0</td>\n",
       "      <td>False</td>\n",
       "      <td>Accounting/Finance/Insurance</td>\n",
       "    </tr>\n",
       "    <tr>\n",
       "      <th>18904</th>\n",
       "      <td>Nurse Practitioner - OncologySan Francisco Bay...</td>\n",
       "      <td>Nurse Practitioner – Oncology</td>\n",
       "      <td>Full Time</td>\n",
       "      <td>Employee</td>\n",
       "      <td>San Francisco</td>\n",
       "      <td>CA</td>\n",
       "      <td>NaN</td>\n",
       "      <td>Healthcare Services</td>\n",
       "      <td>year</td>\n",
       "      <td>from - up to</td>\n",
       "      <td>130000.0</td>\n",
       "      <td>165000.0</td>\n",
       "      <td>False</td>\n",
       "      <td>Medical/Health</td>\n",
       "    </tr>\n",
       "    <tr>\n",
       "      <th>12019</th>\n",
       "      <td>Prodigy Placements is recruiting for a Talent ...</td>\n",
       "      <td>Recruiting Coordinator</td>\n",
       "      <td>Full Time</td>\n",
       "      <td>Employee</td>\n",
       "      <td>Chicago</td>\n",
       "      <td>IL</td>\n",
       "      <td>NaN</td>\n",
       "      <td>NaN</td>\n",
       "      <td>NaN</td>\n",
       "      <td>NaN</td>\n",
       "      <td>NaN</td>\n",
       "      <td>NaN</td>\n",
       "      <td>NaN</td>\n",
       "      <td>NaN</td>\n",
       "    </tr>\n",
       "    <tr>\n",
       "      <th>8230</th>\n",
       "      <td>Overview: A major public company specializing ...</td>\n",
       "      <td>Senior Attorney Editor - Federal Government Co...</td>\n",
       "      <td>Full Time</td>\n",
       "      <td>Temporary/Contract/Project</td>\n",
       "      <td>Washington Dc</td>\n",
       "      <td>DC</td>\n",
       "      <td>20036</td>\n",
       "      <td>Legal Services</td>\n",
       "      <td>NaN</td>\n",
       "      <td>NaN</td>\n",
       "      <td>NaN</td>\n",
       "      <td>NaN</td>\n",
       "      <td>NaN</td>\n",
       "      <td>Legal</td>\n",
       "    </tr>\n",
       "    <tr>\n",
       "      <th>4324</th>\n",
       "      <td>Get your CDL-A in ONLY 21-days. CR England off...</td>\n",
       "      <td>Truck Drivers - No Cdl? No Problem! We Train</td>\n",
       "      <td>Full Time</td>\n",
       "      <td>Employee</td>\n",
       "      <td>Faxon Hills</td>\n",
       "      <td>OH</td>\n",
       "      <td>NaN</td>\n",
       "      <td>Transport and Storage; Materials</td>\n",
       "      <td>NaN</td>\n",
       "      <td>NaN</td>\n",
       "      <td>NaN</td>\n",
       "      <td>NaN</td>\n",
       "      <td>NaN</td>\n",
       "      <td>Logistics/Transportation</td>\n",
       "    </tr>\n",
       "    <tr>\n",
       "      <th>18106</th>\n",
       "      <td>Senior Web DeveloperLocation: Plano, TXContrac...</td>\n",
       "      <td>Sr. Web Developer</td>\n",
       "      <td>Full Time</td>\n",
       "      <td>Employee</td>\n",
       "      <td>Dallas</td>\n",
       "      <td>TX</td>\n",
       "      <td>75204</td>\n",
       "      <td>Computer Software</td>\n",
       "      <td>NaN</td>\n",
       "      <td>NaN</td>\n",
       "      <td>NaN</td>\n",
       "      <td>NaN</td>\n",
       "      <td>NaN</td>\n",
       "      <td>NaN</td>\n",
       "    </tr>\n",
       "  </tbody>\n",
       "</table>\n",
       "</div>"
      ],
      "text/plain": [
       "                                         job_description  \\\n",
       "18995  To eat. To laugh. To share. That’s why people ...   \n",
       "1108   « back Learn More DBA - AM03 Job #:  668982Ape...   \n",
       "21542  Summary Brand Ambassador Sales part Time   We ...   \n",
       "18712  Assistant Restaurant Manager/Director  Big Lea...   \n",
       "2363   Financial Analyst Job in New York City, NYC Fo...   \n",
       "18904  Nurse Practitioner - OncologySan Francisco Bay...   \n",
       "12019  Prodigy Placements is recruiting for a Talent ...   \n",
       "8230   Overview: A major public company specializing ...   \n",
       "4324   Get your CDL-A in ONLY 21-days. CR England off...   \n",
       "18106  Senior Web DeveloperLocation: Plano, TXContrac...   \n",
       "\n",
       "                                               job_title schedule_type  \\\n",
       "18995            Pizza Hut - Assistant Manager Kaukauna      Full Time   \n",
       "1108                                           Dba - Am      Full Time   \n",
       "21542                  Brand Ambassador Sales Part Time      Part Time   \n",
       "18712  Assistant Restaurant Manager / Food & Beverage...     Full Time   \n",
       "2363                                   Staff Accountant      Full Time   \n",
       "18904                     Nurse Practitioner – Oncology      Full Time   \n",
       "12019                            Recruiting Coordinator      Full Time   \n",
       "8230   Senior Attorney Editor - Federal Government Co...     Full Time   \n",
       "4324        Truck Drivers - No Cdl? No Problem! We Train     Full Time   \n",
       "18106                                 Sr. Web Developer      Full Time   \n",
       "\n",
       "                  employment_type           city state postcode  \\\n",
       "18995                    Employee       Kaukauna    WI    54130   \n",
       "1108                     Employee         Dallas    TX      NaN   \n",
       "21542                    Employee     Cincinnati    OH      NaN   \n",
       "18712                    Employee        Manteca    CA    95337   \n",
       "2363                     Employee       New York    NY    10017   \n",
       "18904                    Employee  San Francisco    CA      NaN   \n",
       "12019                    Employee        Chicago    IL      NaN   \n",
       "8230   Temporary/Contract/Project  Washington Dc    DC    20036   \n",
       "4324                     Employee    Faxon Hills    OH      NaN   \n",
       "18106                    Employee         Dallas    TX    75204   \n",
       "\n",
       "                           organization salary_period salary_range_type  \\\n",
       "18995          Restaurant/Food Services           NaN               NaN   \n",
       "1108               Computer/IT Services           NaN               NaN   \n",
       "21542                            Retail           NaN               NaN   \n",
       "18712    Sports and Physical Recreation           NaN               NaN   \n",
       "2363                                NaN          year      from - up to   \n",
       "18904               Healthcare Services          year      from - up to   \n",
       "12019                               NaN           NaN               NaN   \n",
       "8230                     Legal Services           NaN               NaN   \n",
       "4324   Transport and Storage; Materials           NaN               NaN   \n",
       "18106                 Computer Software           NaN               NaN   \n",
       "\n",
       "       salary_value_from  salary_value_upto salary_bonuses  \\\n",
       "18995                NaN                NaN            NaN   \n",
       "1108                 NaN                NaN            NaN   \n",
       "21542                NaN                NaN            NaN   \n",
       "18712                NaN                NaN            NaN   \n",
       "2363             65000.0            75000.0          False   \n",
       "18904           130000.0           165000.0          False   \n",
       "12019                NaN                NaN            NaN   \n",
       "8230                 NaN                NaN            NaN   \n",
       "4324                 NaN                NaN            NaN   \n",
       "18106                NaN                NaN            NaN   \n",
       "\n",
       "                                      sector  \n",
       "18995              Food Services/Hospitality  \n",
       "1108               Experienced (Non-Manager)  \n",
       "21542      Sales/Retail/Business Development  \n",
       "18712  Manager (Manager/Supervisor of Staff)  \n",
       "2363            Accounting/Finance/Insurance  \n",
       "18904                         Medical/Health  \n",
       "12019                                    NaN  \n",
       "8230                                   Legal  \n",
       "4324                Logistics/Transportation  \n",
       "18106                                    NaN  "
      ]
     },
     "execution_count": 92,
     "metadata": {},
     "output_type": "execute_result"
    }
   ],
   "source": [
    "data.sample(10)"
   ]
  },
  {
   "cell_type": "code",
   "execution_count": 93,
   "metadata": {},
   "outputs": [],
   "source": [
    "data.to_csv(\"monster_com-job_cleaned.csv\")"
   ]
  },
  {
   "cell_type": "markdown",
   "metadata": {
    "id": "TWGGnS356OnK"
   },
   "source": [
    "## Before/after"
   ]
  },
  {
   "cell_type": "code",
   "execution_count": 94,
   "metadata": {
    "colab": {
     "base_uri": "https://localhost:8080/"
    },
    "id": "Vc7uWL5_2mJ6",
    "outputId": "22f9d280-5dad-4b82-d617-f1956a5615d5"
   },
   "outputs": [
    {
     "name": "stdout",
     "output_type": "stream",
     "text": [
      "Initial dataset size: 22000 rows, 14 columns\n",
      "Resulting dataset size: 18238 rows, 14 columns\n"
     ]
    }
   ],
   "source": [
    "print(f\"Initial dataset size: {data_copy.shape[0]} rows, {data_copy.shape[1]} columns\")\n",
    "print(f\"Resulting dataset size: {data.shape[0]} rows, {data.shape[1]} columns\")"
   ]
  },
  {
   "cell_type": "markdown",
   "metadata": {
    "id": "eSInKLHSoLqq"
   },
   "source": [
    "Statistics for each column."
   ]
  },
  {
   "cell_type": "code",
   "execution_count": 95,
   "metadata": {
    "colab": {
     "base_uri": "https://localhost:8080/",
     "height": 288
    },
    "id": "l_sdS0Yv-Uef",
    "outputId": "914f6d17-14a7-4337-b907-0e5401ab3d03"
   },
   "outputs": [
    {
     "data": {
      "text/html": [
       "<div>\n",
       "<style scoped>\n",
       "    .dataframe tbody tr th:only-of-type {\n",
       "        vertical-align: middle;\n",
       "    }\n",
       "\n",
       "    .dataframe tbody tr th {\n",
       "        vertical-align: top;\n",
       "    }\n",
       "\n",
       "    .dataframe thead th {\n",
       "        text-align: right;\n",
       "    }\n",
       "</style>\n",
       "<table border=\"1\" class=\"dataframe\">\n",
       "  <thead>\n",
       "    <tr style=\"text-align: right;\">\n",
       "      <th></th>\n",
       "      <th>country</th>\n",
       "      <th>country_code</th>\n",
       "      <th>date_added</th>\n",
       "      <th>has_expired</th>\n",
       "      <th>job_board</th>\n",
       "      <th>job_description</th>\n",
       "      <th>job_title</th>\n",
       "      <th>job_type</th>\n",
       "      <th>location</th>\n",
       "      <th>organization</th>\n",
       "      <th>page_url</th>\n",
       "      <th>salary</th>\n",
       "      <th>sector</th>\n",
       "      <th>uniq_id</th>\n",
       "    </tr>\n",
       "  </thead>\n",
       "  <tbody>\n",
       "    <tr>\n",
       "      <th>count</th>\n",
       "      <td>22000</td>\n",
       "      <td>22000</td>\n",
       "      <td>122</td>\n",
       "      <td>22000</td>\n",
       "      <td>22000</td>\n",
       "      <td>22000</td>\n",
       "      <td>22000</td>\n",
       "      <td>20372</td>\n",
       "      <td>22000</td>\n",
       "      <td>15133</td>\n",
       "      <td>22000</td>\n",
       "      <td>3446</td>\n",
       "      <td>16806</td>\n",
       "      <td>22000</td>\n",
       "    </tr>\n",
       "    <tr>\n",
       "      <th>unique</th>\n",
       "      <td>1</td>\n",
       "      <td>1</td>\n",
       "      <td>78</td>\n",
       "      <td>1</td>\n",
       "      <td>1</td>\n",
       "      <td>18744</td>\n",
       "      <td>18759</td>\n",
       "      <td>39</td>\n",
       "      <td>8423</td>\n",
       "      <td>738</td>\n",
       "      <td>22000</td>\n",
       "      <td>1737</td>\n",
       "      <td>163</td>\n",
       "      <td>22000</td>\n",
       "    </tr>\n",
       "    <tr>\n",
       "      <th>top</th>\n",
       "      <td>United States of America</td>\n",
       "      <td>US</td>\n",
       "      <td>9/22/2016</td>\n",
       "      <td>No</td>\n",
       "      <td>jobs.monster.com</td>\n",
       "      <td>12N Horizontal Construction Engineers Job Desc...</td>\n",
       "      <td>Monster</td>\n",
       "      <td>Full Time</td>\n",
       "      <td>Dallas, TX</td>\n",
       "      <td>Healthcare Services</td>\n",
       "      <td>http://jobview.monster.com/it-support-technici...</td>\n",
       "      <td>40,000.00 - 100,000.00 $ /year</td>\n",
       "      <td>Experienced (Non-Manager)</td>\n",
       "      <td>11d599f229a80023d2f40e7c52cd941e</td>\n",
       "    </tr>\n",
       "    <tr>\n",
       "      <th>freq</th>\n",
       "      <td>22000</td>\n",
       "      <td>22000</td>\n",
       "      <td>6</td>\n",
       "      <td>22000</td>\n",
       "      <td>22000</td>\n",
       "      <td>104</td>\n",
       "      <td>318</td>\n",
       "      <td>6757</td>\n",
       "      <td>646</td>\n",
       "      <td>1919</td>\n",
       "      <td>1</td>\n",
       "      <td>50</td>\n",
       "      <td>4594</td>\n",
       "      <td>1</td>\n",
       "    </tr>\n",
       "  </tbody>\n",
       "</table>\n",
       "</div>"
      ],
      "text/plain": [
       "                         country country_code date_added has_expired  \\\n",
       "count                      22000        22000        122       22000   \n",
       "unique                         1            1         78           1   \n",
       "top     United States of America           US  9/22/2016          No   \n",
       "freq                       22000        22000          6       22000   \n",
       "\n",
       "               job_board                                    job_description  \\\n",
       "count              22000                                              22000   \n",
       "unique                 1                                              18744   \n",
       "top     jobs.monster.com  12N Horizontal Construction Engineers Job Desc...   \n",
       "freq               22000                                                104   \n",
       "\n",
       "       job_title   job_type    location         organization  \\\n",
       "count      22000      20372       22000                15133   \n",
       "unique     18759         39        8423                  738   \n",
       "top      Monster  Full Time  Dallas, TX  Healthcare Services   \n",
       "freq         318       6757         646                 1919   \n",
       "\n",
       "                                                 page_url  \\\n",
       "count                                               22000   \n",
       "unique                                              22000   \n",
       "top     http://jobview.monster.com/it-support-technici...   \n",
       "freq                                                    1   \n",
       "\n",
       "                                salary                     sector  \\\n",
       "count                             3446                      16806   \n",
       "unique                            1737                        163   \n",
       "top     40,000.00 - 100,000.00 $ /year  Experienced (Non-Manager)   \n",
       "freq                                50                       4594   \n",
       "\n",
       "                                 uniq_id  \n",
       "count                              22000  \n",
       "unique                             22000  \n",
       "top     11d599f229a80023d2f40e7c52cd941e  \n",
       "freq                                   1  "
      ]
     },
     "execution_count": 95,
     "metadata": {},
     "output_type": "execute_result"
    }
   ],
   "source": [
    "# BEFORE\n",
    "data_copy.describe()"
   ]
  },
  {
   "cell_type": "code",
   "execution_count": 96,
   "metadata": {
    "colab": {
     "base_uri": "https://localhost:8080/",
     "height": 288
    },
    "id": "dbtzM-Dv6o-b",
    "outputId": "f3d596c6-7900-4b15-88ca-6d0f2714a8f1"
   },
   "outputs": [
    {
     "data": {
      "text/html": [
       "<div>\n",
       "<style scoped>\n",
       "    .dataframe tbody tr th:only-of-type {\n",
       "        vertical-align: middle;\n",
       "    }\n",
       "\n",
       "    .dataframe tbody tr th {\n",
       "        vertical-align: top;\n",
       "    }\n",
       "\n",
       "    .dataframe thead th {\n",
       "        text-align: right;\n",
       "    }\n",
       "</style>\n",
       "<table border=\"1\" class=\"dataframe\">\n",
       "  <thead>\n",
       "    <tr style=\"text-align: right;\">\n",
       "      <th></th>\n",
       "      <th>job_description</th>\n",
       "      <th>job_title</th>\n",
       "      <th>schedule_type</th>\n",
       "      <th>employment_type</th>\n",
       "      <th>city</th>\n",
       "      <th>state</th>\n",
       "      <th>postcode</th>\n",
       "      <th>organization</th>\n",
       "      <th>salary_period</th>\n",
       "      <th>salary_range_type</th>\n",
       "      <th>salary_bonuses</th>\n",
       "      <th>sector</th>\n",
       "    </tr>\n",
       "  </thead>\n",
       "  <tbody>\n",
       "    <tr>\n",
       "      <th>count</th>\n",
       "      <td>18238</td>\n",
       "      <td>18238</td>\n",
       "      <td>18238</td>\n",
       "      <td>18238</td>\n",
       "      <td>17130</td>\n",
       "      <td>17056</td>\n",
       "      <td>11113</td>\n",
       "      <td>10238</td>\n",
       "      <td>2890</td>\n",
       "      <td>2741</td>\n",
       "      <td>2890</td>\n",
       "      <td>14115</td>\n",
       "    </tr>\n",
       "    <tr>\n",
       "      <th>unique</th>\n",
       "      <td>16298</td>\n",
       "      <td>12153</td>\n",
       "      <td>3</td>\n",
       "      <td>5</td>\n",
       "      <td>2733</td>\n",
       "      <td>62</td>\n",
       "      <td>4316</td>\n",
       "      <td>409</td>\n",
       "      <td>4</td>\n",
       "      <td>2</td>\n",
       "      <td>2</td>\n",
       "      <td>149</td>\n",
       "    </tr>\n",
       "    <tr>\n",
       "      <th>top</th>\n",
       "      <td>12N Horizontal Construction Engineers Job Desc...</td>\n",
       "      <td>Cybercoders</td>\n",
       "      <td>Full Time</td>\n",
       "      <td>Employee</td>\n",
       "      <td>Dallas</td>\n",
       "      <td>TX</td>\n",
       "      <td>75201</td>\n",
       "      <td>Healthcare Services</td>\n",
       "      <td>year</td>\n",
       "      <td>from - up to</td>\n",
       "      <td>False</td>\n",
       "      <td>Experienced (Non-Manager)</td>\n",
       "    </tr>\n",
       "    <tr>\n",
       "      <th>freq</th>\n",
       "      <td>93</td>\n",
       "      <td>236</td>\n",
       "      <td>17388</td>\n",
       "      <td>16595</td>\n",
       "      <td>1246</td>\n",
       "      <td>2715</td>\n",
       "      <td>278</td>\n",
       "      <td>1537</td>\n",
       "      <td>1740</td>\n",
       "      <td>2575</td>\n",
       "      <td>2693</td>\n",
       "      <td>3870</td>\n",
       "    </tr>\n",
       "  </tbody>\n",
       "</table>\n",
       "</div>"
      ],
      "text/plain": [
       "                                          job_description     job_title  \\\n",
       "count                                               18238         18238   \n",
       "unique                                              16298         12153   \n",
       "top     12N Horizontal Construction Engineers Job Desc...  Cybercoders    \n",
       "freq                                                   93           236   \n",
       "\n",
       "       schedule_type employment_type    city  state postcode  \\\n",
       "count          18238           18238   17130  17056    11113   \n",
       "unique             3               5    2733     62     4316   \n",
       "top        Full Time        Employee  Dallas     TX    75201   \n",
       "freq           17388           16595    1246   2715      278   \n",
       "\n",
       "               organization salary_period salary_range_type salary_bonuses  \\\n",
       "count                 10238          2890              2741           2890   \n",
       "unique                  409             4                 2              2   \n",
       "top     Healthcare Services          year      from - up to          False   \n",
       "freq                   1537          1740              2575           2693   \n",
       "\n",
       "                           sector  \n",
       "count                       14115  \n",
       "unique                        149  \n",
       "top     Experienced (Non-Manager)  \n",
       "freq                         3870  "
      ]
     },
     "execution_count": 96,
     "metadata": {},
     "output_type": "execute_result"
    }
   ],
   "source": [
    "# AFTER (text fields)\n",
    "data.describe(include=[np.object])"
   ]
  },
  {
   "cell_type": "code",
   "execution_count": 97,
   "metadata": {
    "colab": {
     "base_uri": "https://localhost:8080/",
     "height": 297
    },
    "id": "XaPEhD2i7J8B",
    "outputId": "c9fb56fb-b08e-4b22-b07c-f8bf3ad6cac9"
   },
   "outputs": [
    {
     "data": {
      "text/html": [
       "<div>\n",
       "<style scoped>\n",
       "    .dataframe tbody tr th:only-of-type {\n",
       "        vertical-align: middle;\n",
       "    }\n",
       "\n",
       "    .dataframe tbody tr th {\n",
       "        vertical-align: top;\n",
       "    }\n",
       "\n",
       "    .dataframe thead th {\n",
       "        text-align: right;\n",
       "    }\n",
       "</style>\n",
       "<table border=\"1\" class=\"dataframe\">\n",
       "  <thead>\n",
       "    <tr style=\"text-align: right;\">\n",
       "      <th></th>\n",
       "      <th>salary_value_from</th>\n",
       "      <th>salary_value_upto</th>\n",
       "    </tr>\n",
       "  </thead>\n",
       "  <tbody>\n",
       "    <tr>\n",
       "      <th>count</th>\n",
       "      <td>2741.000000</td>\n",
       "      <td>2575.000000</td>\n",
       "    </tr>\n",
       "    <tr>\n",
       "      <th>mean</th>\n",
       "      <td>35533.743543</td>\n",
       "      <td>52095.129650</td>\n",
       "    </tr>\n",
       "    <tr>\n",
       "      <th>std</th>\n",
       "      <td>44654.294638</td>\n",
       "      <td>76721.311625</td>\n",
       "    </tr>\n",
       "    <tr>\n",
       "      <th>min</th>\n",
       "      <td>0.000000</td>\n",
       "      <td>1.000000</td>\n",
       "    </tr>\n",
       "    <tr>\n",
       "      <th>25%</th>\n",
       "      <td>16.000000</td>\n",
       "      <td>22.465000</td>\n",
       "    </tr>\n",
       "    <tr>\n",
       "      <th>50%</th>\n",
       "      <td>35000.000000</td>\n",
       "      <td>50000.000000</td>\n",
       "    </tr>\n",
       "    <tr>\n",
       "      <th>75%</th>\n",
       "      <td>60000.000000</td>\n",
       "      <td>85000.000000</td>\n",
       "    </tr>\n",
       "    <tr>\n",
       "      <th>max</th>\n",
       "      <td>1000000.000000</td>\n",
       "      <td>1000000.000000</td>\n",
       "    </tr>\n",
       "  </tbody>\n",
       "</table>\n",
       "</div>"
      ],
      "text/plain": [
       "       salary_value_from  salary_value_upto\n",
       "count        2741.000000        2575.000000\n",
       "mean        35533.743543       52095.129650\n",
       "std         44654.294638       76721.311625\n",
       "min             0.000000           1.000000\n",
       "25%            16.000000          22.465000\n",
       "50%         35000.000000       50000.000000\n",
       "75%         60000.000000       85000.000000\n",
       "max       1000000.000000     1000000.000000"
      ]
     },
     "execution_count": 97,
     "metadata": {},
     "output_type": "execute_result"
    }
   ],
   "source": [
    "# AFTER (numeric fields)\n",
    "data.describe(include=[np.number])"
   ]
  },
  {
   "cell_type": "markdown",
   "metadata": {
    "id": "TO3nbEPV3iba"
   },
   "source": [
    "Renewed dataset aquired two numeric columns. Columns that are same for both versions of the dataset now have less unique values, not only because of dropping some rows, but also because of formatting and standartization. Also due to the splitting of **location**, **salary** and **job_type** into multiple columns, now it is much easier to filter, sort and aggregate data."
   ]
  },
  {
   "cell_type": "markdown",
   "metadata": {
    "id": "-TXEG-mhzTVZ"
   },
   "source": [
    "Let's take a look at missing values.\n",
    "\n",
    "\n"
   ]
  },
  {
   "cell_type": "code",
   "execution_count": 98,
   "metadata": {
    "colab": {
     "base_uri": "https://localhost:8080/",
     "height": 906
    },
    "id": "5m51vunNCwUQ",
    "outputId": "032baeed-ab55-42ec-ff0f-c3c4178f746b"
   },
   "outputs": [
    {
     "data": {
      "image/png": "[encoded data removed]",
      "text/plain": [
       "<Figure size 504x648 with 6 Axes>"
      ]
     },
     "metadata": {
      "needs_background": "light"
     },
     "output_type": "display_data"
    }
   ],
   "source": [
    "fig, axes = plt.subplots(2, figsize=(7, 9))\n",
    "axes[0].set_title(\"Before\")\n",
    "axes[1].set_title(f\"After\")\n",
    "msno.bar(data_copy, color=\"olive\", ax=axes[0], fontsize=10)\n",
    "msno.bar(data, color=\"olive\", ax=axes[1], fontsize=10)\n",
    "fig.tight_layout()"
   ]
  },
  {
   "cell_type": "markdown",
   "metadata": {
    "id": "Vxcz7lbFH47a"
   },
   "source": [
    "- There are many missing values in 5 columns, which resulted from splitting the **salary** column, that initially had a lot of NaNs. \n",
    "- Column **organization** now has a little bit larger share of NaNs because of deleting irrelevant data and moving some values to the **location** column. \n",
    "- Among newly added location-related columns **postcode** has more missing values. Looks like postcode is more rarely mentioned than city and/or state."
   ]
  },
  {
   "cell_type": "markdown",
   "metadata": {
    "id": "2QoXIguIK5L8"
   },
   "source": [
    "## Next steps\n",
    "\n",
    "- **job_description** column has a lot of valuable information that can be used to fill other columns. Nevertheless, this information is stored in large unstructured texts and their processing is not a trivial tasks. Some NLP methods can come in handy here.\n",
    "\n",
    "- In **job_title** column some records contain 'rubbish' words, which doesn't relate to the job title. They cannot be determined exclusively by format, some form of semantic analysis is needed.\n",
    "\n",
    "- Column **sector** can potentially be divided into working field and required level. As for now, there are very few records that contain both types, therefore splitting would result in many NaNs.\n",
    "\n",
    "- Columns **organization** and **sector** a majority of records are a set of multiple values. For these records to be included when grouping by single unique values, these sets need to be split up using one-hot encoding. However this method requires that ranges of values are limited."
   ]
  }
 ],
 "metadata": {
  "colab": {
   "provenance": []
  },
  "kernelspec": {
   "display_name": "Python 3 (ipykernel)",
   "language": "python",
   "name": "python3"
  },
  "language_info": {
   "codemirror_mode": {
    "name": "ipython",
    "version": 3
   },
   "file_extension": ".py",
   "mimetype": "text/x-python",
   "name": "python",
   "nbconvert_exporter": "python",
   "pygments_lexer": "ipython3",
   "version": "3.10.1"
  },
  "polyglot_notebook": {
   "kernelInfo": {
    "defaultKernelName": "csharp",
    "items": [
     {
      "aliases": [],
      "name": "csharp"
     }
    ]
   }
  }
 },
 "nbformat": 4,
 "nbformat_minor": 1
}
